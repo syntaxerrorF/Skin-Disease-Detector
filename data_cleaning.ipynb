{
 "cells": [
  {
   "cell_type": "markdown",
   "metadata": {},
   "source": [
    "# Data cleaning"
   ]
  },
  {
   "cell_type": "markdown",
   "metadata": {},
   "source": [
    "**Import required libraries**"
   ]
  },
  {
   "cell_type": "code",
   "execution_count": null,
   "metadata": {},
   "outputs": [],
   "source": [
    "# import required libraries\n",
    "import pandas as pd\n",
    "import shutil\n",
    "import os\n",
    "from PIL import Image\n",
    "import imagehash \n",
    "import re\n",
    "import random"
   ]
  },
  {
   "cell_type": "markdown",
   "metadata": {},
   "source": [
    "**Loading the scrapped data from DermNet.**"
   ]
  },
  {
   "cell_type": "code",
   "execution_count": null,
   "metadata": {},
   "outputs": [
    {
     "name": "stdout",
     "output_type": "stream",
     "text": [
      "(13992, 2)\n"
     ]
    },
    {
     "data": {
      "text/html": [
       "<div>\n",
       "<style scoped>\n",
       "    .dataframe tbody tr th:only-of-type {\n",
       "        vertical-align: middle;\n",
       "    }\n",
       "\n",
       "    .dataframe tbody tr th {\n",
       "        vertical-align: top;\n",
       "    }\n",
       "\n",
       "    .dataframe thead th {\n",
       "        text-align: right;\n",
       "    }\n",
       "</style>\n",
       "<table border=\"1\" class=\"dataframe\">\n",
       "  <thead>\n",
       "    <tr style=\"text-align: right;\">\n",
       "      <th></th>\n",
       "      <th>skin_disorder_name</th>\n",
       "      <th>images</th>\n",
       "    </tr>\n",
       "  </thead>\n",
       "  <tbody>\n",
       "    <tr>\n",
       "      <th>0</th>\n",
       "      <td>acne affecting the back images</td>\n",
       "      <td>https://dermnetnz.org/assets/Uploads/acne/acne...</td>\n",
       "    </tr>\n",
       "    <tr>\n",
       "      <th>1</th>\n",
       "      <td>acne affecting the back images</td>\n",
       "      <td>https://dermnetnz.org/assets/Uploads/acne/acne...</td>\n",
       "    </tr>\n",
       "    <tr>\n",
       "      <th>2</th>\n",
       "      <td>acne affecting the back images</td>\n",
       "      <td>https://dermnetnz.org/assets/Uploads/acne/acne...</td>\n",
       "    </tr>\n",
       "    <tr>\n",
       "      <th>3</th>\n",
       "      <td>acne affecting the back images</td>\n",
       "      <td>https://dermnetnz.org/assets/Uploads/acne/acne...</td>\n",
       "    </tr>\n",
       "    <tr>\n",
       "      <th>4</th>\n",
       "      <td>acne affecting the back images</td>\n",
       "      <td>https://dermnetnz.org/assets/Uploads/acne/acne...</td>\n",
       "    </tr>\n",
       "  </tbody>\n",
       "</table>\n",
       "</div>"
      ],
      "text/plain": [
       "               skin_disorder_name  \\\n",
       "0  acne affecting the back images   \n",
       "1  acne affecting the back images   \n",
       "2  acne affecting the back images   \n",
       "3  acne affecting the back images   \n",
       "4  acne affecting the back images   \n",
       "\n",
       "                                              images  \n",
       "0  https://dermnetnz.org/assets/Uploads/acne/acne...  \n",
       "1  https://dermnetnz.org/assets/Uploads/acne/acne...  \n",
       "2  https://dermnetnz.org/assets/Uploads/acne/acne...  \n",
       "3  https://dermnetnz.org/assets/Uploads/acne/acne...  \n",
       "4  https://dermnetnz.org/assets/Uploads/acne/acne...  "
      ]
     },
     "metadata": {},
     "output_type": "display_data"
    }
   ],
   "source": [
    "# load and preview dataset\n",
    "image_df = pd.read_csv('Data/data1-294.csv')\n",
    "print(image_df.shape)\n",
    "image_df.head()"
   ]
  },
  {
   "cell_type": "markdown",
   "metadata": {},
   "source": [
    "## **<u>Acne</u>**\n",
    "\n",
    "**Meaning**<br>\n",
    "Acne is a common skin condition that occurs when hair follicles become clogged with oil and dead skin cells. This leads to the formation of pimples, blackheads, whiteheads, and sometimes deeper cysts. Acne usually appears on the face, neck, chest, back, and shoulders, and can affect people of all ages, although it is most common during puberty.<br>\n",
    "\n",
    "**Causes**<br>\n",
    "The causes of acne are multifactorial and can include hormonal imbalances, genetics, stress, certain medications, and an overproduction of sebum, the oily substance that lubricates the skin. Certain factors such as diet and hygiene practices have also been implicated in the development of acne, although the evidence for these is less clear.<br>\n",
    "\n",
    "**Symptoms**<br>\n",
    "The symptoms of acne can vary depending on the severity of the condition. Mild acne may only present with a few blackheads or whiteheads, while moderate acne can involve a combination of pimples, blackheads, and whiteheads. Severe acne may include deep, painful cysts that can lead to scarring. Acne can also have a significant impact on a person's self-esteem and mental health, particularly if it is severe or persistent.\n",
    "\n",
    "**Treatment**<br>\n",
    "Treatment options for acne depend on the severity of the condition. Mild acne can often be managed with over-the-counter topical treatments that contain benzoyl peroxide or salicylic acid. These products work by reducing the amount of oil on the skin and unclogging pores. More severe acne may require prescription medications, such as topical retinoids or oral antibiotics, which can help to reduce inflammation and kill the bacteria that cause acne. In cases of severe, persistent acne, isotretinoin, a powerful oral medication, may be prescribed. Additionally, lifestyle modifications such as maintaining good hygiene practices, avoiding certain foods, and managing stress can also be helpful in managing acne.\n"
   ]
  },
  {
   "cell_type": "markdown",
   "metadata": {},
   "source": [
    "### **Cleaning Acne images**"
   ]
  },
  {
   "cell_type": "markdown",
   "metadata": {},
   "source": [
    "**i. Moving acne images in the Images folder to their own folder**"
   ]
  },
  {
   "cell_type": "code",
   "execution_count": null,
   "metadata": {},
   "outputs": [
    {
     "data": {
      "text/plain": [
       "['acne affecting the back images',\n",
       " 'acne affecting the face images',\n",
       " 'acne and other follicular disorder images',\n",
       " 'facial acne images']"
      ]
     },
     "metadata": {},
     "output_type": "display_data"
    }
   ],
   "source": [
    "# Labels representing acne in DermNet's scrapped data\n",
    "acne_labels = list(image_df[image_df['skin_disorder_name'].str.contains('acne')]['skin_disorder_name'].unique())\n",
    "\n",
    "# removing acne labels whose images will not be used because there are not clear\n",
    "acne_labels.remove('infantile acne images')\n",
    "acne_labels.remove('steroid acne images')\n",
    "\n",
    "acne_labels"
   ]
  },
  {
   "cell_type": "code",
   "execution_count": null,
   "metadata": {},
   "outputs": [
    {
     "name": "stdout",
     "output_type": "stream",
     "text": [
      "There are 702 acne images\n"
     ]
    },
    {
     "data": {
      "text/plain": [
       "['acne affecting the back images0.jpg',\n",
       " 'acne affecting the back images1.jpg',\n",
       " 'acne affecting the back images10.jpg',\n",
       " 'acne affecting the back images11.jpg',\n",
       " 'acne affecting the back images12.jpg']"
      ]
     },
     "metadata": {},
     "output_type": "display_data"
    }
   ],
   "source": [
    "# Getting the acne images file names\n",
    "original_acne_img = [image_name for image_name in os.listdir('Images/') \\\n",
    "                     if ('acne affecting the back images' in image_name) |\\\n",
    "                        ('acne affecting the face images' in image_name) |\\\n",
    "                        ('acne and other follicular disorder images' in image_name) |\\\n",
    "                        ('facial acne images' in image_name) \n",
    "                        ] \n",
    "\n",
    "# Confirming the number of acne images before any cleaning\n",
    "print('There are', len(original_acne_img),'acne images')\n",
    "original_acne_img[:5]"
   ]
  },
  {
   "cell_type": "code",
   "execution_count": null,
   "metadata": {},
   "outputs": [
    {
     "name": "stdout",
     "output_type": "stream",
     "text": [
      "There are 702 acne images.\n"
     ]
    }
   ],
   "source": [
    "# Creating a new folder with just acne images to make cleaning easier\n",
    "folder_name = 'cleaned_images/acne_images/'\n",
    "\n",
    "\n",
    "# Note📝: For reproducibility of the code, this step is important.\n",
    "         # If the folder is not dropped before an error will occur if you rerun this cell\n",
    "         \n",
    "# Checking if the folder exists and deleting it if it exists        \n",
    "if os.path.exists(folder_name):\n",
    "    # deleting the folder and its contents\n",
    "    shutil.rmtree(folder_name)\n",
    "\n",
    "# create the new folder\n",
    "os.mkdir(folder_name)\n",
    "\n",
    "# Moving the images into that folder\n",
    "for img in original_acne_img:\n",
    "    origin = os.path.join('Images/', img)\n",
    "    destination = os.path.join(folder_name, img)\n",
    "    shutil.copy(origin, destination)\n",
    "    \n",
    "# Confirming that the number of acne images after moving them to a separate folder is still 702\n",
    "acne_img = [image_name for image_name in os.listdir('cleaned_images/acne_images/')] \n",
    "print('There are', len(acne_img),'acne images.')"
   ]
  },
  {
   "cell_type": "markdown",
   "metadata": {},
   "source": [
    "**ii. Combining the images into one folder**"
   ]
  },
  {
   "cell_type": "code",
   "execution_count": null,
   "metadata": {},
   "outputs": [
    {
     "data": {
      "text/plain": [
       "['07Acne081101.jpg',\n",
       " '07Acne0811011 - Copy.jpg',\n",
       " '07Acne0811011.jpg',\n",
       " '07AcnePittedScars.jpg',\n",
       " '07AcnePittedScars1 - Copy.jpg']"
      ]
     },
     "metadata": {},
     "output_type": "display_data"
    }
   ],
   "source": [
    "# extra acne images\n",
    "extra_acne = [image_name for image_name in os.listdir('extra_images/extra_acne_images')]\n",
    "extra_acne[:5]"
   ]
  },
  {
   "cell_type": "code",
   "execution_count": null,
   "metadata": {},
   "outputs": [
    {
     "name": "stdout",
     "output_type": "stream",
     "text": [
      "There are a total of 1427 acne images.\n"
     ]
    }
   ],
   "source": [
    "# moving the extra images into the acne folder\n",
    "for img in extra_acne:\n",
    "    origin = os.path.join('extra_images/extra_acne_images/', img)\n",
    "    destination = os.path.join('cleaned_images/acne_images/', img)\n",
    "    shutil.copy(origin, destination)\n",
    "\n",
    "# Confirming that the total acne images is 1427 before any cleaning\n",
    "acne_img = [image_name for image_name in os.listdir('cleaned_images/acne_images/')] \n",
    "print('There are a total of', len(acne_img),'acne images.')"
   ]
  },
  {
   "cell_type": "markdown",
   "metadata": {},
   "source": [
    "**iii. Removing duplicate images from the folder**"
   ]
  },
  {
   "cell_type": "code",
   "execution_count": null,
   "metadata": {},
   "outputs": [],
   "source": [
    "# Function for removing duplicated images.\n",
    "def drop_duplicated_images(folder):\n",
    "\n",
    "    # Define a threshold for image similarity\n",
    "    threshold = 8\n",
    "\n",
    "    # Define a dictionary to store the hash values and file paths of the images\n",
    "    image_hashes = {}\n",
    "    duplicated_images = []\n",
    "\n",
    "    # Loop through all the image files in a directory\n",
    "    for filename in os.listdir(folder):\n",
    "        # Load the image file\n",
    "        image = Image.open(os.path.join(folder, filename))\n",
    "\n",
    "         # Compute the hash value of the image using the average hash algorithm\n",
    "        hash_value = imagehash.average_hash(image)\n",
    "\n",
    "        # Check if the hash value is already in the dictionary\n",
    "        if hash_value in image_hashes:\n",
    "            # If a similar hash value already exists, delete the duplicate image\n",
    "            duplicated_images.append(filename)\n",
    "            os.remove(os.path.join(folder, filename))\n",
    "        else:\n",
    "             # Otherwise, add the hash value and file path to the dictionary\n",
    "            image_hashes[hash_value] = os.path.join(folder, filename)\n",
    "            \n",
    "    return duplicated_images"
   ]
  },
  {
   "cell_type": "code",
   "execution_count": null,
   "metadata": {},
   "outputs": [
    {
     "name": "stdout",
     "output_type": "stream",
     "text": [
      "There are 1109 acne images after removing duplicated images\n"
     ]
    }
   ],
   "source": [
    "# Dropping duplicates\n",
    "duplicated_images = drop_duplicated_images('cleaned_images/acne_images/')\n",
    "\n",
    "# number of acne images after removing duplicated images (1109)\n",
    "acne_img = [image_name for image_name in os.listdir('cleaned_images/acne_images/')] \n",
    "print('There are', len(acne_img),'acne images after removing duplicated images')"
   ]
  },
  {
   "cell_type": "markdown",
   "metadata": {},
   "source": [
    "Acne and other follicular disorder images has a collection of different images. Only images that have acne as a specific label will be included, the others will be dropped from the dataset. </br>"
   ]
  },
  {
   "cell_type": "code",
   "execution_count": null,
   "metadata": {},
   "outputs": [
    {
     "name": "stdout",
     "output_type": "stream",
     "text": [
      "Number of acne images left: 1000\n"
     ]
    }
   ],
   "source": [
    "# dropping those images from the acne_images folder\n",
    "indexes_to_drop = [295, 296, 297, 298, 300, 303, 304, 307, 308, 309, 310, 311, 313, 314, 315, 316, 317, 318, 319, 320, 321, 322, 323, 325, 326, 328, 329, 330, 333, 337, 338, 339, 341, 342, 343, 344, 345, 346, 347, 348, 349, 350, 351, 354, 355, 359, 361, 362, 363, 364, 366, 367, 368, 371, 372, 373, 374, 375, 376, 378, 380, 381, 382, 384, 385, 387, 388, 389, 390, 392, 393, 395, 396, 397, 398, 402, 403, 405, 408, 409, 411, 413, 415, 416, 417, 419, 420, 421, 422, 423, 424, 425, 426, 427, 428, 429, 431, 432, 433, 434, 436, 437, 438, 441, 443, 444, 445, 446, 447]\n",
    "\n",
    "for filename in os.listdir('cleaned_images/acne_images/'):\n",
    "    for index in indexes_to_drop:\n",
    "        if f\"images{index}\" in filename.lower():\n",
    "            os.remove(os.path.join('cleaned_images/acne_images/', filename))\n",
    "            \n",
    "print(\"Number of acne images left:\", len(os.listdir('cleaned_images/acne_images/')))"
   ]
  },
  {
   "cell_type": "markdown",
   "metadata": {},
   "source": [
    "## **<u>Atopic dermatitis(Eczema) </u>**\n",
    "\n",
    "**Meaning**<br>\n",
    "Atopic dermatitis, also known as eczema, is a chronic inflammatory skin condition that is characterized by dry, itchy, and inflamed patches of skin. It is a common condition that can affect people of all ages, but it is most common in infants and children. <br>\n",
    "\n",
    "**Causes**<br>\n",
    "The exact causes of atopic dermatitis are not fully understood, but it is believed to be a combination of genetic and environmental factors. People with atopic dermatitis often have a genetic predisposition to the condition, and environmental triggers such as allergens, irritants, and stress can exacerbate the symptoms.\n",
    "\n",
    "**Symptoms**<br>\n",
    "The symptoms of atopic dermatitis can vary depending on the severity of the condition. Mild cases may only present with dry, itchy skin, while more severe cases can lead to red, inflamed, and weeping skin lesions. In some cases, the skin may become thickened and scaly. Atopic dermatitis can also cause significant discomfort and interfere with a person's quality of life.\n",
    "\n",
    "**Treatment**<br>\n",
    "Treatment options for eczema include using gentle soaps and moisturizers, avoiding harsh chemicals and irritants, and taking short, lukewarm baths or showers. Prescription creams or ointments containing corticosteroids or immunosuppressants may be used for more severe cases of eczema. Antihistamines can also be helpful in reducing itching. <br>\n",
    "Preventing flare-ups of eczema can be done by avoiding triggers such as certain foods, allergens, and irritants. Regular use of moisturizers can also help to keep the skin hydrated and reduce the risk of flare-ups.<br>"
   ]
  },
  {
   "cell_type": "markdown",
   "metadata": {},
   "source": [
    "### **Cleaning Eczema images**"
   ]
  },
  {
   "cell_type": "markdown",
   "metadata": {},
   "source": [
    "**i. Moving eczema images in the Image folder to their own folder**"
   ]
  },
  {
   "cell_type": "code",
   "execution_count": null,
   "metadata": {},
   "outputs": [
    {
     "data": {
      "text/plain": [
       "8"
      ]
     },
     "metadata": {},
     "output_type": "display_data"
    }
   ],
   "source": [
    "# Labels representing eczema in Dermnet's scraped data.\n",
    "eczema_labels = image_df[(image_df['skin_disorder_name'].str.contains('eczema')) | \\\n",
    "                         (image_df['skin_disorder_name'].str.contains('atopic dermatitis images')) |\\\n",
    "                         (image_df['skin_disorder_name'].str.contains('hand dermatitis images')) |\\\n",
    "                         (image_df['skin_disorder_name'] == 'dermatitis images') |\\\n",
    "                         (image_df['skin_disorder_name'].str.contains('nummular dermatitis images'))] \\\n",
    "                         ['skin_disorder_name'].unique()\n",
    "len(eczema_labels)"
   ]
  },
  {
   "cell_type": "code",
   "execution_count": null,
   "metadata": {},
   "outputs": [
    {
     "name": "stdout",
     "output_type": "stream",
     "text": [
      "There are 631 eczema images.\n"
     ]
    },
    {
     "data": {
      "text/plain": [
       "['atopic dermatitis images1058.jpg',\n",
       " 'atopic dermatitis images1059.jpg',\n",
       " 'atopic dermatitis images1060.jpg',\n",
       " 'atopic dermatitis images1061.jpg',\n",
       " 'atopic dermatitis images1062.jpg']"
      ]
     },
     "metadata": {},
     "output_type": "display_data"
    }
   ],
   "source": [
    "# Getting the eczema images file names\n",
    "eczema_img = [image_name for image_name in os.listdir('Images/') if ('eczema' in image_name) |\n",
    "                                                                    ('atopic dermatitis images' in image_name) |\n",
    "                                                                    ('hand dermatitis images' in image_name) | \n",
    "                                                                    (image_name.startswith('dermatitis images'))|\n",
    "                                                                    ('nummular dermatitis images' in image_name)\n",
    "                                                                     ] \n",
    "\n",
    "# Confirming the number of eczema images before any cleaning\n",
    "print('There are', len(eczema_img),'eczema images.')\n",
    "eczema_img[:5]"
   ]
  },
  {
   "cell_type": "code",
   "execution_count": null,
   "metadata": {},
   "outputs": [],
   "source": [
    "# Creating a new folder with just eczema images to make cleaning easier\n",
    "folder_name = 'cleaned_images/eczema_images/'\n",
    "\n",
    "# Note📝: For reproducibility of the code, this step is important.\n",
    "         # If the folder is not dropped before an error will occur if you rerun this cell\n",
    "         \n",
    "# Checking if the folder exists and deleting it if it exists         \n",
    "if os.path.exists(folder_name):\n",
    "    # deleting the folder and its contents\n",
    "    shutil.rmtree(folder_name)\n",
    "\n",
    "# create the new folder\n",
    "os.mkdir(folder_name)\n",
    "\n",
    "# Moving the images into that folder\n",
    "for img in eczema_img:\n",
    "    origin = os.path.join('Images/', img)\n",
    "    destination = os.path.join(folder_name, img)\n",
    "    shutil.copy(origin, destination)"
   ]
  },
  {
   "cell_type": "code",
   "execution_count": null,
   "metadata": {},
   "outputs": [
    {
     "name": "stdout",
     "output_type": "stream",
     "text": [
      "There are 631 eczema images.\n"
     ]
    }
   ],
   "source": [
    "# Confirming that the number of eczema images after moving them to a separate folder is still 631\n",
    "eczema_img = [image_name for image_name in os.listdir('cleaned_images/eczema_images/')] \n",
    "print('There are', len(eczema_img),'eczema images.')"
   ]
  },
  {
   "cell_type": "markdown",
   "metadata": {},
   "source": [
    "**ii. Combining the images into one folder**"
   ]
  },
  {
   "cell_type": "code",
   "execution_count": null,
   "metadata": {},
   "outputs": [
    {
     "data": {
      "text/plain": [
       "['eczema234.jpg',\n",
       " 'eczema289.jpg',\n",
       " 'eczema301.jpg',\n",
       " 'eczema403.jpg',\n",
       " 'eczema500.jpg']"
      ]
     },
     "metadata": {},
     "output_type": "display_data"
    }
   ],
   "source": [
    "# Extra eczema images\n",
    "extra_eczema = [image_name for image_name in os.listdir('extra_images/extra_eczema')]\n",
    "\n",
    "# The folder has a mixture of images. We will filter out the eczema images only\n",
    "extra_eczema_images = [image_name for image_name in extra_eczema\\\n",
    "                        if ('dermatitis' in image_name) |\\\n",
    "                        ('eczema' in image_name)]\n",
    "extra_eczema_images[:5]"
   ]
  },
  {
   "cell_type": "code",
   "execution_count": null,
   "metadata": {},
   "outputs": [
    {
     "name": "stdout",
     "output_type": "stream",
     "text": [
      "There are a total of 1367 eczema images.\n"
     ]
    }
   ],
   "source": [
    "# This was done by moving the extra images into the eczema folder\n",
    "for img in extra_eczema_images:\n",
    "    origin = os.path.join('extra_images/extra_eczema_images_clean/', img)\n",
    "    destination = os.path.join('cleaned_images/eczema_images/', img)\n",
    "    shutil.copy(origin, destination)\n",
    "    \n",
    "# Confirming that the total acne images is 1367 before any cleaning\n",
    "eczema_img = [image_name for image_name in os.listdir('cleaned_images/eczema_images/')] \n",
    "print('There are a total of', len(eczema_img),'eczema images.')"
   ]
  },
  {
   "cell_type": "markdown",
   "metadata": {},
   "source": [
    "**iii. Removing duplicate images from the folder**"
   ]
  },
  {
   "cell_type": "code",
   "execution_count": null,
   "metadata": {},
   "outputs": [
    {
     "name": "stdout",
     "output_type": "stream",
     "text": [
      "There are 1000 eczema images after removing duplicated images.\n"
     ]
    }
   ],
   "source": [
    "# Using a function created earlier to drop duplicates\n",
    "duplicated_images = drop_duplicated_images('cleaned_images/eczema_images/')\n",
    "\n",
    "# Confirming the number of images after dropping duplicates\n",
    "eczema_img = [image_name for image_name in os.listdir('cleaned_images/eczema_images/')] \n",
    "print('There are', len(eczema_img),'eczema images after removing duplicated images.')"
   ]
  },
  {
   "cell_type": "markdown",
   "metadata": {},
   "source": [
    "## **<u>Actinic keratosis</u>**\n",
    "**Meaning** <br>\n",
    "Actinic keratosis(AK) is a skin condition that is caused by long-term exposure to UV rays, resulting in the formation of rough, scaly patches on the skin. It is considered a precancerous condition because it has the potential to develop into squamous cell carcinoma, a type of skin cancer\n",
    "\n",
    "**Causes** <br>\n",
    "The primary cause of actinic keratosis is long-term exposure to UV rays from the sun or other sources such as tanning beds. People with fair skin, light-colored hair, and light-colored eyes are at a higher risk of developing AK. Other risk factors include a history of frequent sunburns, a weakened immune system, and exposure to chemicals such as coal tar or arsenic.\n",
    "\n",
    "**Symptoms** <br>\n",
    "The most common symptom of actinic keratosis is the formation of rough, scaly patches or lesions on the skin. These patches can be pink, red, or brown in color and may feel like sandpaper. They are usually found on areas of the skin that are frequently exposed to the sun, such as the face, scalp, ears, neck, hands, and arms. In some cases, the patches may itch or burn, and they may become inflamed or bleed if they are scratched or rubbed.\n",
    "\n",
    "**Treatment** <br>\n",
    "The treatment of actinic keratosis depends on the severity of the condition. Mild cases may be treated with topical creams or gels that contain medications such as imiquimod, fluorouracil, or diclofenac. These medications work by stimulating the immune system or causing the abnormal cells to die off. In more severe cases, cryotherapy (freezing the lesions with liquid nitrogen) or curettage (scraping off the lesions with a special tool) may be necessary. In rare cases where the lesions have developed into skin cancer, surgical removal may be required. It is also important to take steps to prevent further damage to the skin, such as wearing protective clothing and sunscreen, avoiding tanning beds, and staying out of the sun during peak hours.\n"
   ]
  },
  {
   "cell_type": "markdown",
   "metadata": {},
   "source": [
    "**i. Moving actinic keratosis images in the Image folder to their own folder**"
   ]
  },
  {
   "cell_type": "code",
   "execution_count": null,
   "metadata": {},
   "outputs": [
    {
     "name": "stdout",
     "output_type": "stream",
     "text": [
      "['actinic keratosis affecting the face images'\n",
      " 'actinic keratosis affecting the hand images'\n",
      " 'actinic keratosis affecting the legs and feet images'\n",
      " 'actinic keratosis affecting the scalp images'\n",
      " 'actinic keratosis dermoscopy images'\n",
      " 'actinic keratosis on the nose images'\n",
      " 'actinic keratosis treated with imiquimod images'\n",
      " 'granular parakeratosis images' 'keratosis pilaris images'\n",
      " 'seborrhoeic keratosis dermoscopy images' 'seborrhoeic keratosis images'\n",
      " 'solar keratosis affecting the face images'\n",
      " 'solar keratosis affecting the hand images'\n",
      " 'solar keratosis affecting the legs and feet images'\n",
      " 'solar keratosis affecting the scalp images'\n",
      " 'solar keratosis on the nose images'\n",
      " 'solar keratosis treated with imiquimod images']\n"
     ]
    }
   ],
   "source": [
    "# image labels with the name keratosis in DermNet's scrapped data\n",
    "print(image_df[image_df['skin_disorder_name'].str.contains('keratosis')]['skin_disorder_name'].unique())"
   ]
  },
  {
   "cell_type": "markdown",
   "metadata": {},
   "source": [
    "Actinic keratosis is also known as solar keratosis or senile keratosis"
   ]
  },
  {
   "cell_type": "code",
   "execution_count": null,
   "metadata": {},
   "outputs": [],
   "source": [
    "# extra keratosis images and dataframe\n",
    "df = pd.read_csv('Data/ISIC_2019_Training_GroundTruth.csv')\n",
    "\n",
    "# filter df to get rows where AK = 1.0\n",
    "df1 = df.copy()\n",
    "df1 = df1[df1['AK'] == 1.0]\n",
    "df1['skin_disorder_name'] = df1['images']\n",
    "\n",
    "# drop the unwanted columns from df\n",
    "df1 = df1.drop(['MEL', 'NV', 'BCC', 'AK', 'BKL', 'DF', 'VASC', 'SCC', 'UNK'], axis=1)\n",
    "\n",
    "# Loop through each file in the folder and add the skin disorder name to the list\n",
    "img_names = []\n",
    "image_paths = []\n",
    "\n",
    "for file in os.listdir('extra_images/extra_actinic_keratosis_images'):\n",
    "    if file.endswith(\".jpg\"):\n",
    "        skin_disorder_name = file.split(\".\")[0]\n",
    "        img_names.append(skin_disorder_name)\n",
    "        image_paths.append(file)"
   ]
  },
  {
   "cell_type": "code",
   "execution_count": null,
   "metadata": {},
   "outputs": [
    {
     "name": "stdout",
     "output_type": "stream",
     "text": [
      "There are 1391 actinic keratosis images\n"
     ]
    }
   ],
   "source": [
    "# Getting the keratosis images file names\n",
    "keratosis_img = [image_name for image_name in os.listdir('Images/') if ('actinic keratosis' in image_name) | ('solar keratosis' in image_name)]\n",
    "AK_img = [image_name for image_name in os.listdir('extra_images/extra_AK_and_BKL_images') if any(x in image_name for x in df1['images'].tolist())]\n",
    "AK_img2 = [image_name for image_name in os.listdir('extra_images/extra_actinic_keratosis_images')]\n",
    "\n",
    "# Checking if the folder exists and deleting it if it exists\n",
    "if os.path.exists('cleaned_images/keratosis_images/'):\n",
    "    # deleting the folder and its contents\n",
    "    shutil.rmtree('cleaned_images/keratosis_images/')\n",
    "    \n",
    "# Creating a new folder with just keratosis images to make cleaning easier\n",
    "os.mkdir('cleaned_images/keratosis_images/')\n",
    "for img in keratosis_img:\n",
    "    origin = os.path.join('Images/', img)\n",
    "    destination = os.path.join('cleaned_images/keratosis_images/', img)\n",
    "    shutil.copy(origin, destination)\n",
    "\n",
    "for img in AK_img:\n",
    "    origin = os.path.join('extra_images/extra_AK_and_BKL_images/', img)\n",
    "    destination = os.path.join('cleaned_images/keratosis_images/', img)\n",
    "    shutil.copy(origin, destination)\n",
    "\n",
    "for img in AK_img2:\n",
    "    origin = os.path.join('extra_images/extra_actinic_keratosis_images/', img)\n",
    "    destination = os.path.join('cleaned_images/keratosis_images/', img)\n",
    "    shutil.copy(origin, destination)\n",
    "    \n",
    "# Confirming that the number of keratosis images after moving them to a separate folder is still 1391\n",
    "keratosis_img = [image_name for image_name in os.listdir('cleaned_images/keratosis_images/')] \n",
    "print('There are', len(keratosis_img),'actinic keratosis images')"
   ]
  },
  {
   "cell_type": "markdown",
   "metadata": {},
   "source": [
    "**ii. Removing duplicate images from the folder**"
   ]
  },
  {
   "cell_type": "code",
   "execution_count": null,
   "metadata": {},
   "outputs": [
    {
     "name": "stdout",
     "output_type": "stream",
     "text": [
      "Number of actinic keratosis images after removing duplicated images: 1000\n"
     ]
    }
   ],
   "source": [
    "# call function to drop duplicates from image folder \n",
    "duplicated_images = drop_duplicated_images('cleaned_images/keratosis_images/')\n",
    "\n",
    "# number of images after removing duplicates\n",
    "keratosis_img = [image_name for image_name in os.listdir('cleaned_images/keratosis_images/')] \n",
    "print('Number of actinic keratosis images after removing duplicated images:', len(keratosis_img))"
   ]
  },
  {
   "cell_type": "markdown",
   "metadata": {},
   "source": [
    "## **<u>Benign Keratosis-like Lesions**</u>\n",
    "**Meaning** <br>\n",
    "Benign Keratosis-like Lesions (BKL) are a group of benign skin lesions that resemble actinic keratosis (AK) but are not classified as AK because they do not have the same degree of dysplasia. BKL lesions can appear as small, scaly, or waxy bumps on the skin, ranging in color from light tan to dark brown. They typically occur on areas of the skin that have been exposed to the sun, such as the face, neck, scalp, and hands. Examples of BKL lesions include seborrheic keratosis, solar lentigo, and lichen planus-like keratosis.\n",
    " \n",
    "**Causes** <br>\n",
    "The exact cause of BKL is not known, but it is believed to be related to long-term sun exposure. Other factors that may contribute to the development of BKL include a weakened immune system, age, and a history of other skin conditions.\n",
    "\n",
    "**Symptoms**<br>\n",
    "BKL lesions typically appear as small, scaly, or waxy bumps on the skin. They may be light tan to dark brown in color and may have a rough, textured surface. They can be single or multiple and can occur on any part of the body, but are most commonly found on the face, neck, scalp, and hands.\n",
    "\n",
    "**Treatment**<br>\n",
    "BKL lesions are usually benign and do not require treatment unless they are causing symptoms or affecting the patient's appearance. Treatment options may include cryotherapy (freezing the lesion with liquid nitrogen), curettage (scraping the lesion off the skin), or topical medications such as 5-fluorouracil or imiquimod. In some cases, BKL lesions may be biopsied to confirm the diagnosis or rule out other skin conditions. It is important to protect the skin from sun exposure and to seek medical attention for any suspicious skin lesions."
   ]
  },
  {
   "cell_type": "markdown",
   "metadata": {},
   "source": [
    "**i. Moving Benign Keratosis-like Lesions images to their own folder**"
   ]
  },
  {
   "cell_type": "code",
   "execution_count": null,
   "metadata": {},
   "outputs": [
    {
     "name": "stdout",
     "output_type": "stream",
     "text": [
      "There are 1003 BKL images\n"
     ]
    }
   ],
   "source": [
    "# filter df to get rows where BKL = 1.0\n",
    "BKL_df = df.copy()\n",
    "BKL_df = BKL_df[BKL_df['BKL'] == 1.0]\n",
    "BKL_df = BKL_df[~BKL_df[\"images\"].str.contains(\"downsampled\")]\n",
    "BKL_df['skin_disorder_name'] = BKL_df['images']\n",
    "\n",
    "# drop the unwanted columns and rows from df\n",
    "BKL_df = BKL_df.drop(['MEL', 'NV', 'BCC', 'AK', 'BKL', 'DF', 'VASC', 'SCC', 'UNK'], axis=1)\n",
    "BKL_df = BKL_df[:1003]\n",
    "\n",
    "# Getting the BKL images file names\n",
    "BKL_img = [image_name for image_name in os.listdir('extra_images/extra_AK_and_BKL_images') if any(x in image_name for x in BKL_df['images'].tolist())]\n",
    "\n",
    "# Checking if the folder exists and deleting it if it exists\n",
    "if os.path.exists('cleaned_images/BKL_images/'):\n",
    "    # deleting the folder and its contents\n",
    "    shutil.rmtree('cleaned_images/BKL_images/')\n",
    "    \n",
    "# Creating a new folder with just BKL images to make cleaning easier\n",
    "os.mkdir('cleaned_images/BKL_images/')\n",
    "for img in BKL_img:\n",
    "    origin = os.path.join('extra_images/extra_AK_and_BKL_images/', img)\n",
    "    destination = os.path.join('cleaned_images/BKL_images/', img)\n",
    "    shutil.copy(origin, destination)\n",
    "    \n",
    "# Number of BKL images after moving them to a separate folder\n",
    "BKL_img = [image_name for image_name in os.listdir('cleaned_images/BKL_images/')] \n",
    "print('There are', len(BKL_img),'BKL images')"
   ]
  },
  {
   "cell_type": "markdown",
   "metadata": {},
   "source": [
    "**ii. Removing duplicated images from the folder**"
   ]
  },
  {
   "cell_type": "code",
   "execution_count": null,
   "metadata": {},
   "outputs": [
    {
     "name": "stdout",
     "output_type": "stream",
     "text": [
      "Number of BKL images after removing duplicated images: 1000\n"
     ]
    }
   ],
   "source": [
    "# use the function to drop duplicates from image folder\n",
    "duplicated_images2 = drop_duplicated_images('cleaned_images/BKL_images/')\n",
    "\n",
    "# number of images after removing duplicates\n",
    "BKL_img = [image_name for image_name in os.listdir('cleaned_images/BKL_images/')] \n",
    "print('Number of BKL images after removing duplicated images:', len(BKL_img))"
   ]
  },
  {
   "cell_type": "markdown",
   "metadata": {},
   "source": [
    "## **<u>Melanoma**</u>\n",
    "**Definition**<br>\n",
    "Melanoma is a disease in which malignant (cancer) cells form in melanocytes (cells that color the skin). There are different types of cancer that start in the skin. Melanoma can occur anywhere on the skin. Unusual moles, exposure to sunlight, and health history can affect the risk of melanoma.\n",
    "\n",
    "The most common type of melanoma is superficial spreading melanoma. It tends to spread across the surface of the skin, has uneven borders, and varies in color from brown to black, pink, or red.\n",
    "\n",
    "Nodular melanoma is another type that grows down into deeper layers of the skin and may appear as a raised bump or growth.\n",
    "\n",
    "Lentigo maligna melanoma tends to appear on parts of the body that get more sun, especially the face, and it often affects older people. It looks like a large, uneven dark patch on the surface of the skin.\n",
    "\n",
    "Metastatic melanoma occurs when the cancer spreads, or metastasizes, to other parts of the body, possibly including the lymph nodes, organs, or bones.\n",
    "\n",
    "Other rare types of melanoma also exist, and while it most commonly affects the skin, some affect internal tissues, as well as the eyes."
   ]
  },
  {
   "cell_type": "markdown",
   "metadata": {},
   "source": [
    "**i. Moving Melanoma images to their own folder**"
   ]
  },
  {
   "cell_type": "code",
   "execution_count": null,
   "metadata": {},
   "outputs": [
    {
     "name": "stdout",
     "output_type": "stream",
     "text": [
      "['acral lentiginous melanoma images' 'amelanotic melanoma images'\n",
      " 'hypomelanotic malignant melanoma images'\n",
      " 'lentigo maligna melanoma images' 'melanoma in situ images'\n",
      " 'melanoma of nail unit images' 'metastatic melanoma images'\n",
      " 'nodular melanoma images' 'superficial spreading melanoma images']\n"
     ]
    },
    {
     "data": {
      "text/plain": [
       "9"
      ]
     },
     "metadata": {},
     "output_type": "display_data"
    }
   ],
   "source": [
    "## Labels representing melanoma in DermNet's scrapped data\n",
    "melanoma_labels = image_df[image_df['skin_disorder_name'].str.contains('melanoma')]['skin_disorder_name'].unique()\n",
    "print(melanoma_labels)\n",
    "\n",
    "#number of labels representing melanoma\n",
    "len(melanoma_labels)"
   ]
  },
  {
   "cell_type": "code",
   "execution_count": null,
   "metadata": {},
   "outputs": [
    {
     "name": "stdout",
     "output_type": "stream",
     "text": [
      "There are 5074 melanoma images\n"
     ]
    }
   ],
   "source": [
    "# Getting the melanoma images file names\n",
    "melanoma_img = [image_name for image_name in os.listdir('Images/') if 'melanoma' in image_name] \n",
    "\n",
    "# Checking if melanoma folder exists and deleting it if it exists\n",
    "if os.path.exists('cleaned_images/melanoma/'):\n",
    "    # deleting the folder and its contents\n",
    "    shutil.rmtree('cleaned_images/melanoma/')\n",
    "    \n",
    "# Creating a new folder with just melanoma images to make cleaning easier\n",
    "os.mkdir('cleaned_images/melanoma/')\n",
    "for img in melanoma_img:\n",
    "    origin = os.path.join('Images/', img)\n",
    "    destination = os.path.join('cleaned_images/melanoma/', img)\n",
    "    shutil.copy(origin, destination)\n",
    "    \n",
    "for filename in os.listdir('extra_images/extra_melanoma_images/'):\n",
    "    src_path = os.path.join('extra_images/extra_melanoma_images/', filename)\n",
    "    dst_path = os.path.join('cleaned_images/melanoma/', filename)\n",
    "    shutil.copy(src_path, dst_path)\n",
    "    \n",
    "# Number of melanoma images after moving them to a separate folder\n",
    "melanoma_img = [image_name for image_name in os.listdir('cleaned_images/melanoma/')] \n",
    "print('There are', len(melanoma_img),'melanoma images')"
   ]
  },
  {
   "cell_type": "markdown",
   "metadata": {},
   "source": [
    "**ii. Removing duplicated images from the folder**"
   ]
  },
  {
   "cell_type": "code",
   "execution_count": null,
   "metadata": {},
   "outputs": [
    {
     "name": "stdout",
     "output_type": "stream",
     "text": [
      "There are 4631 melanoma images after removing duplicate images\n"
     ]
    }
   ],
   "source": [
    "# Dropping duplicates\n",
    "duplicated_images = drop_duplicated_images('cleaned_images/melanoma/')\n",
    "\n",
    "melanoma_img = [image_name for image_name in os.listdir('cleaned_images/melanoma/')] \n",
    "print('There are', len(melanoma_img),'melanoma images after removing duplicate images')"
   ]
  },
  {
   "cell_type": "code",
   "execution_count": null,
   "metadata": {},
   "outputs": [],
   "source": [
    "# Function to randomly select 1000 images \n",
    "def reduce_images(folder_path):\n",
    "    # Get the list of image file name\n",
    "    file_names = os.listdir(folder_path)\n",
    "\n",
    "    # Shuffle the file names\n",
    "    random.shuffle(file_names)\n",
    "\n",
    "    # Select the first 1000 file names\n",
    "    selected_file_names = file_names[:1000]\n",
    "\n",
    "    # Create a new folder to store the selected images\n",
    "    selected_folder_path = f'{folder_path}_images'\n",
    "    os.mkdir(selected_folder_path)\n",
    "\n",
    "    # Copy the selected images to the new folder\n",
    "    for file_name in selected_file_names:\n",
    "        file_path = os.path.join(folder_path, file_name)\n",
    "        selected_file_path = os.path.join(selected_folder_path, file_name)\n",
    "        shutil.copy(file_path, selected_file_path)"
   ]
  },
  {
   "cell_type": "code",
   "execution_count": null,
   "metadata": {},
   "outputs": [
    {
     "name": "stdout",
     "output_type": "stream",
     "text": [
      "Number of melanoma images: 1000\n"
     ]
    }
   ],
   "source": [
    "# select 1000 images\n",
    "reduce_images('cleaned_images/melanoma')\n",
    "print('Number of melanoma images:', len([image_name for image_name in os.listdir('cleaned_images/melanoma_images/')]))"
   ]
  },
  {
   "cell_type": "markdown",
   "metadata": {},
   "source": [
    "## **<u>Psoriasis </u>**\n",
    "\n",
    "**Meaning**<br>\n",
    "Psoriasis is a chronic autoimmune skin disorder characterized by the rapid buildup of skin cells that form thick, silvery scales and itchy, dry, and red patches on the skin. It is a non-contagious condition that can affect any part of the body, including the scalp, nails, and joints. Psoriasis occurs when the immune system mistakenly attacks healthy skin cells, causing the skin cells to grow too quickly and accumulate on the skin's surface. The condition is typically lifelong and can vary in severity from mild to severe. While there is no cure for psoriasis, there are treatments available that can help manage symptoms and improve quality of life. <br>\n",
    "\n",
    "**Causes**<br>\n",
    "The exact cause of psoriasis is not fully understood, but it is believed to be a combination of genetic, environmental, and immune system factors. Some of the known factors that can trigger or exacerbate psoriasis include:<br>\n",
    "\n",
    "<ol>\n",
    "  <li>Genetics: Psoriasis tends to run in families, suggesting a genetic component to the condition.</li>\n",
    "  <li>Immune system dysfunction: Psoriasis is believed to be an autoimmune disorder, in which the immune system mistakenly attacks healthy skin cells, causing inflammation and other symptoms.</li>\n",
    "  <li>Environmental factors: Certain environmental factors can trigger or worsen psoriasis, such as infections, injuries to the skin, stress, smoking, and alcohol consumption.</li>\n",
    "  <li>Medications: Certain medications, such as lithium, beta-blockers, and antimalarials, can trigger or worsen psoriasis.</li>\n",
    "  <li>Hormonal changes: Changes in hormone levels, such as those that occur during puberty, pregnancy, and menopause, can trigger or worsen psoriasis.</li>\n",
    "</ol>\n",
    "\n",
    "**Symptoms**<br>\n",
    "Psoriasis symptoms can vary depending on the type and severity of the condition, but some common symptoms include:<br>\n",
    "<ol>\n",
    "  <li>Red, inflamed patches of skin: These patches may be covered with thick, silvery scales that may flake off or bleed if scratched.</li>\n",
    "  <li>Dry, cracked skin: The affected skin may be dry and itchy, and may crack and bleed in severe cases.</li>\n",
    "  <li>Thickened, pitted, or ridged nails: Psoriasis can affect the nails, causing them to become thickened, discolored, pitted, or ridged.</li>\n",
    "  <li>Joint pain and stiffness: In some cases, psoriasis can also cause joint pain and stiffness, a condition called psoriatic arthritis.</li>\n",
    "  <li>Itching and burning: Psoriasis patches may be itchy and burning, which can cause discomfort and distress.</li>\n",
    "  <li>Soreness or discomfort: Psoriasis patches can be painful and tender to the touch.</li>\n",
    "</ol>\n",
    "\n",
    "\n",
    "**Treatment**<br>\n",
    "Treatment options for eczema include using gentle soaps and moisturizers, avoiding harsh chemicals and irritants, and taking short, lukewarm baths or showers. Prescription creams or ointments containing corticosteroids or immunosuppressants may be used for more severe cases of eczema. Antihistamines can also be helpful in reducing itching. <br>\n",
    "Preventing flare-ups of eczema can be done by avoiding triggers such as certain foods, allergens, and irritants. Regular use of moisturizers can also help to keep the skin hydrated and reduce the risk of flare-ups.<br>\n",
    "<ol>\n",
    "  <li>Topical medications: These are creams, ointments, gels, or foams that are applied directly to the affected skin to reduce inflammation and itching. Topical medications may include corticosteroids, vitamin D analogues, retinoids, and tar preparations.</li>\n",
    "  <li>Phototherapy: This involves exposing the skin to ultraviolet light to slow down the growth of affected skin cells and reduce inflammation. Phototherapy can be done in a doctor's office or at home using a special light box.</li>\n",
    "  <li>Systemic medications: These are medications that are taken orally or by injection to suppress the immune system and reduce inflammation. Systemic medications may include methotrexate, cyclosporine, and biologics.</li>\n",
    "  <li>Lifestyle changes: Making changes to your diet, reducing stress, and avoiding triggers such as smoking and alcohol consumption may help to reduce the frequency and severity of psoriasis flare-ups.</li>\n",
    "  <li>Moisturizers: Applying moisturizers regularly can help to soothe dry, itchy skin and reduce the risk of flare-ups.</li>\n",
    "</ol>"
   ]
  },
  {
   "cell_type": "markdown",
   "metadata": {},
   "source": [
    "**i. Moving psoriasis images in the Images folder to their own folder**"
   ]
  },
  {
   "cell_type": "code",
   "execution_count": null,
   "metadata": {},
   "outputs": [
    {
     "name": "stdout",
     "output_type": "stream",
     "text": [
      "['chronic plaque psoriasis images', 'facial psoriasis images', 'flexural psoriasis images', 'generalised pustular psoriasis images', 'genital psoriasis images', 'guttate psoriasis images', 'nail psoriasis images', 'palmoplantar psoriasis images', 'psoriasis affecting the face images', 'psoriasis of the scalp images', 'pustular psoriasis of the hand and feet images']\n"
     ]
    },
    {
     "data": {
      "text/plain": [
       "11"
      ]
     },
     "metadata": {},
     "output_type": "display_data"
    }
   ],
   "source": [
    "# Labels representing acne in DermNet's scrapped data\n",
    "psoriasis_labels = list(image_df[image_df['skin_disorder_name'].str.contains('psoriasis')]['skin_disorder_name'].unique())\n",
    "print(psoriasis_labels)\n",
    "\n",
    "# Count of labels representing psoriasis\n",
    "len(psoriasis_labels)"
   ]
  },
  {
   "cell_type": "code",
   "execution_count": null,
   "metadata": {},
   "outputs": [
    {
     "name": "stdout",
     "output_type": "stream",
     "text": [
      "There are 1057 psoriasis images\n"
     ]
    }
   ],
   "source": [
    "# Getting the psoriasis images file names\n",
    "psoriasis_img = [image_name for image_name in os.listdir('Images/') if 'psoriasis' in image_name] \n",
    "\n",
    "# Checking if psoriasis folder exists and deleting it if it exists\n",
    "if os.path.exists('cleaned_images/psoriasis/'):\n",
    "    # deleting the folder and its contents\n",
    "    shutil.rmtree('cleaned_images/psoriasis/')\n",
    "    \n",
    "# Creating a new folder with just psoriasis images to make cleaning easier\n",
    "os.mkdir('cleaned_images/psoriasis/')\n",
    "for img in psoriasis_img:\n",
    "    origin = os.path.join('Images/', img)\n",
    "    destination = os.path.join('cleaned_images/psoriasis/', img)\n",
    "    shutil.copy(origin, destination)\n",
    "    \n",
    "for filename in os.listdir('extra_images/extra_psoriasis_images/'):\n",
    "    src_path = os.path.join('extra_images/extra_psoriasis_images/', filename)\n",
    "    dst_path = os.path.join('cleaned_images/psoriasis/', filename)\n",
    "    shutil.copy(src_path, dst_path)\n",
    "    \n",
    "# Number of psoriasis images after moving them to a separate folder\n",
    "psoriasis_img = [image_name for image_name in os.listdir('cleaned_images/psoriasis/')] \n",
    "print('There are', len(psoriasis_img),'psoriasis images')"
   ]
  },
  {
   "cell_type": "markdown",
   "metadata": {},
   "source": [
    "**ii. Removing duplicated images from the folder**"
   ]
  },
  {
   "cell_type": "code",
   "execution_count": null,
   "metadata": {},
   "outputs": [
    {
     "name": "stdout",
     "output_type": "stream",
     "text": [
      "There are 1006 psoriasis images after removing duplicate images\n"
     ]
    }
   ],
   "source": [
    "# Dropping duplicates\n",
    "duplicated_images = drop_duplicated_images('cleaned_images/psoriasis/')\n",
    "\n",
    "psoriasis_img = [image_name for image_name in os.listdir('cleaned_images/psoriasis/')] \n",
    "print('There are', len(psoriasis_img),'psoriasis images after removing duplicate images')"
   ]
  },
  {
   "cell_type": "code",
   "execution_count": null,
   "metadata": {},
   "outputs": [
    {
     "name": "stdout",
     "output_type": "stream",
     "text": [
      "Number of psoriasis images: 1000\n"
     ]
    }
   ],
   "source": [
    "# select 1000 images\n",
    "reduce_images('cleaned_images/psoriasis')\n",
    "print('Number of psoriasis images:', len([image_name for image_name in os.listdir('cleaned_images/psoriasis_images/')]))"
   ]
  },
  {
   "cell_type": "markdown",
   "metadata": {},
   "source": [
    "## **<u>Basal cell carcinoma</u>**\n",
    "**Meaning**<br>\n",
    "Basal cell carcinoma (BCC) is a malignant tumor that also arises from the basal cells in the skin. It is the most common type of skin cancer. Malignant tumors are more dangerous than benign tumors because they can grow quickly and invade and destroy surrounding tissues, leading to significant damage to the body's normal functions.\n",
    "\n",
    "**Causes**<br>\n",
    "Basal cell carcinoma are primarily caused by exposure to ultraviolet (UV) radiation from the sun or tanning beds. Prolonged exposure to UV radiation damages the DNA in the skin cells, leading to mutations that can cause the cells to grow and divide uncontrollably, eventually forming a tumor. Other factors that may increase the risk of developing these skin cancers include having fair skin, a history of sunburns or intense sun exposure, a weakened immune system, a family history of skin cancer, and certain genetic conditions.\n",
    "\n",
    "**Symptoms**<br>\n",
    "Basal cell carcinoma can have similar symptoms, but there are some differences. The condition typically present as raised, pearly, or translucent bumps or lesions on the skin that may be pink, red, or white in color. These lesions can sometimes ulcerate or bleed, and may develop a crust or scab. This sometimes appear as a flat, scaly, or pigmented patch on the skin.\n",
    "\n",
    "**Treatment**<br>\n",
    "Basal cell carcinoma treatment plan depends on the size, location, and extent of the tumor. Surgical removal of the tumor is the primary treatment, and there are different techniques available, such as excision, curettage and electrodesiccation, Mohs surgery, or radiation therapy. For small tumors, excision may be sufficient, while Mohs surgery is recommended for larger or more advanced tumors to ensure complete removal. Radiation therapy may be used as an alternative to surgery for some cases. Systemic chemotherapy or immunotherapy is rarely used for advanced basal cell carcinoma that has spread to other parts of the body."
   ]
  },
  {
   "cell_type": "markdown",
   "metadata": {},
   "source": [
    "**i. Moving BCC images in the Images folder to their own folder**"
   ]
  },
  {
   "cell_type": "code",
   "execution_count": null,
   "metadata": {},
   "outputs": [
    {
     "name": "stdout",
     "output_type": "stream",
     "text": [
      "There are 1073 BCC images\n"
     ]
    }
   ],
   "source": [
    "# filter df to get rows where BKL = 1.0\n",
    "BCC_df = df.copy()\n",
    "BCC_df = BCC_df[BCC_df['BCC'] == 1.0]\n",
    "BCC_df = BCC_df[~BCC_df[\"images\"].str.contains(\"downsampled\")]\n",
    "BCC_df['skin_disorder_name'] = BCC_df['images']\n",
    "\n",
    "# drop the unwanted columns and rows from df\n",
    "BCC_df = BCC_df.drop(['MEL', 'NV', 'BCC', 'AK', 'BKL', 'DF', 'VASC', 'SCC', 'UNK'], axis=1)\n",
    "BCC_df = BCC_df[:1073]\n",
    "\n",
    "# Getting the BCC images file names\n",
    "BCC_img = [image_name for image_name in os.listdir('extra_images/extra_Bcc_images') if any(x in image_name for x in BCC_df['images'].tolist())]\n",
    "\n",
    "# Checking if the folder exists and deleting it if it exists\n",
    "if os.path.exists('cleaned_images/Bcc_images'):\n",
    "    # deleting the folder and its contents\n",
    "    shutil.rmtree('cleaned_images/Bcc_images')\n",
    "    \n",
    "# Creating a new folder with just BCC images to make cleaning easier\n",
    "os.mkdir('cleaned_images/Bcc_images')\n",
    "for img in BCC_img:\n",
    "    origin = os.path.join('extra_images/extra_Bcc_images/', img)\n",
    "    destination = os.path.join('cleaned_images/Bcc_images/', img)\n",
    "    shutil.copy(origin, destination)\n",
    "    \n",
    "# Number of BCC images after moving them to a separate folder\n",
    "BCC_img = [image_name for image_name in os.listdir('cleaned_images/Bcc_images')] \n",
    "print('There are', len(BCC_img),'BCC images')"
   ]
  },
  {
   "cell_type": "markdown",
   "metadata": {},
   "source": [
    "**ii. Removing duplicated images from the folder**"
   ]
  },
  {
   "cell_type": "code",
   "execution_count": null,
   "metadata": {},
   "outputs": [
    {
     "name": "stdout",
     "output_type": "stream",
     "text": [
      "Number of BCC images after removing duplicated images: 1000\n"
     ]
    }
   ],
   "source": [
    "# use the function to drop duplicates from image folder\n",
    "duplicated_images2 = drop_duplicated_images('cleaned_images/Bcc_images/')\n",
    "\n",
    "# number of images after removing duplicates\n",
    "BCC_img = [image_name for image_name in os.listdir('cleaned_images/Bcc_images')] \n",
    "print('Number of BCC images after removing duplicated images:', len(BCC_img))"
   ]
  },
  {
   "cell_type": "markdown",
   "metadata": {},
   "source": [
    "## **<u>Tinea </u>**\n",
    "\n",
    "**Meaning**<br>\n",
    "Tinea is popularly known as Ringworm (scalp and body). It is a type of fungal infection of the skin, hair, or nails. It is caused by a group of fungi called dermatophytes, which can thrive on the skin's keratin, a tough protein that forms the outer layer of the skin, hair, and nails. It can affect various parts of the body, including the feet (athlete's foot), groin (jock itch), scalp (tinea capitis), beard area (tinea barbae), and body (tinea corporis).<br>\n",
    "Tinea infections are highly contagious and can spread through contact with infected skin or objects. Treatment for tinea typically involves antifungal medications, which can be applied topically or taken orally. It is also important to practice good hygiene and avoid sharing personal items, such as towels and clothing, to prevent the spread of infection. <br>\n",
    "\n",
    "**Causes**<br>\n",
    "Tinea is caused by a group of fungi called dermatophytes. These fungi can thrive on the skin, hair, or nails and cause infections in various parts of the body. The specific type of dermatophyte that causes tinea may vary depending on the affected area. <br>\n",
    "Some of the common causes of tinea include:<br>\n",
    "\n",
    "<ol>\n",
    "  <li>Direct contact with an infected person or animal - Tinea can spread from person to person or from animal to person through direct contact with infected skin or hair.</li>\n",
    "  <li>Sharing personal items - Sharing personal items such as towels, clothing, or hairbrushes can also spread tinea.</li>\n",
    "  <li>Warm and humid environment - Dermatophytes thrive in warm and humid environments, making certain areas of the body more susceptible to tinea infections, such as the feet and groin.</li>\n",
    "  <li>Weakened immune system - People with weakened immune systems, such as those with HIV or undergoing chemotherapy, may be more prone to tinea infections.</li>\n",
    "  <li>Skin injury or irritation - Skin that is injured or irritated, such as from scratching or wearing tight-fitting clothing, may be more susceptible to tinea infections.</li>\n",
    "</ol>\n",
    "Preventing the spread of tinea involves good hygiene practices, such as keeping the skin clean and dry, avoiding sharing personal items, and wearing protective clothing in public areas such as locker rooms and swimming pools.\n",
    "\n",
    "**Symptoms**<br>\n",
    "The symptoms of tinea can vary depending on the affected area of the body. Some common symptoms of tinea infections include:<br>\n",
    "<ol>\n",
    "  <li>Itching - Tinea infections can cause intense itching, which can be worse at night.</li>\n",
    "  <li>Scaling or flaking - Tinea infections can cause the skin to become scaly or flaky.</li>\n",
    "  <li>Blisters - Some types of tinea infections, such as tinea pedis (athlete's foot), can cause small fluid-filled blisters.</li>\n",
    "  <li>Hair loss - Tinea infections of the scalp can cause hair to become brittle and break off, resulting in hair loss.</li>\n",
    "  <li>Thickened or discolored nails - Tinea infections of the nails can cause the nails to become thickened, discolored, and brittle.</li>\n",
    "</ol>\n",
    "\n",
    "**Treatment**<br>\n",
    "The treatment for tinea infections typically involves antifungal medications, which can be applied topically or taken orally. The specific treatment will depend on the location and severity of the infection. Some common treatment options include:<br>\n",
    "<ol>\n",
    "  <li>Topical antifungal medications - These medications are applied directly to the skin or nails and include creams, ointments, sprays, and powders. Topical antifungal medications are often effective for mild to moderate tinea infections.</li>\n",
    "  <li>Oral antifungal medications - These medications are taken by mouth and may be prescribed for more severe or widespread tinea infections. Oral antifungal medications include terbinafine, fluconazole, and itraconazole.</li>\n",
    "  <li>Medicated shampoo - A medicated shampoo may be recommended for tinea infections of the scalp. These shampoos contain antifungal medication and are used to help control the infection and reduce symptoms.</li>\n",
    "  <li>Removal of infected nails - In severe cases of tinea infections of the nails, the infected nail may need to be removed to allow for the application of antifungal medication to the underlying nail bed.</li>\n",
    "</ol>"
   ]
  },
  {
   "cell_type": "markdown",
   "metadata": {},
   "source": [
    "**i. Moving tinea images in the Images folder to their own folder**"
   ]
  },
  {
   "cell_type": "code",
   "execution_count": null,
   "metadata": {},
   "outputs": [
    {
     "data": {
      "text/plain": [
       "array(['tinea corporis images', 'tinea pedis images'], dtype=object)"
      ]
     },
     "metadata": {},
     "output_type": "display_data"
    }
   ],
   "source": [
    "## Labels representing tinea in DermNet's scrapped data\n",
    "tinea_labels = image_df[image_df['skin_disorder_name'].str.contains('tinea')]['skin_disorder_name'].unique()\n",
    "tinea_labels"
   ]
  },
  {
   "cell_type": "code",
   "execution_count": null,
   "metadata": {},
   "outputs": [
    {
     "name": "stdout",
     "output_type": "stream",
     "text": [
      "There are 1678 tinea images\n"
     ]
    }
   ],
   "source": [
    "# Getting the tinea images file names\n",
    "tinea_img = [image_name for image_name in os.listdir('Images/') if 'tinea' in image_name]\n",
    "\n",
    "# Checking if tinea folder exists and deleting it if it exists\n",
    "if os.path.exists('cleaned_images/tinea/'):\n",
    "    # deleting the folder and its contents\n",
    "    shutil.rmtree('cleaned_images/tinea/')\n",
    "    \n",
    "# Creating a new folder with just tinea images to make cleaning easier\n",
    "os.mkdir('cleaned_images/tinea/')\n",
    "for img in tinea_img:\n",
    "    origin = os.path.join('Images/', img)\n",
    "    destination = os.path.join('cleaned_images/tinea/', img)\n",
    "    shutil.copy(origin, destination)\n",
    "    \n",
    "for filename in os.listdir('extra_images/extra_tinea_images/'):\n",
    "    src_path = os.path.join('extra_images/extra_tinea_images/', filename)\n",
    "    dst_path = os.path.join('cleaned_images/tinea/', filename)\n",
    "    shutil.copy(src_path, dst_path)\n",
    "    \n",
    "# Number of tinea images after moving them to a separate folder\n",
    "tinea_img = [image_name for image_name in os.listdir('cleaned_images/tinea/')] \n",
    "print('There are', len(tinea_img),'tinea images')"
   ]
  },
  {
   "cell_type": "markdown",
   "metadata": {},
   "source": [
    "**ii. Removing duplicated images from the folder**"
   ]
  },
  {
   "cell_type": "code",
   "execution_count": null,
   "metadata": {},
   "outputs": [
    {
     "name": "stdout",
     "output_type": "stream",
     "text": [
      "There are 1661 tinea images after removing duplicate images\n"
     ]
    }
   ],
   "source": [
    "# Dropping duplicates\n",
    "duplicated_images = drop_duplicated_images('cleaned_images/tinea/')\n",
    "\n",
    "tinea_img = [image_name for image_name in os.listdir('cleaned_images/tinea/')] \n",
    "print('There are', len(tinea_img),'tinea images after removing duplicate images')"
   ]
  },
  {
   "cell_type": "code",
   "execution_count": null,
   "metadata": {},
   "outputs": [
    {
     "name": "stdout",
     "output_type": "stream",
     "text": [
      "Number of tinea images: 1000\n"
     ]
    }
   ],
   "source": [
    "# select 1000 images\n",
    "reduce_images('cleaned_images/tinea')\n",
    "print('Number of tinea images:', len([image_name for image_name in os.listdir('cleaned_images/tinea_images/')]))"
   ]
  },
  {
   "cell_type": "markdown",
   "metadata": {
    "id": "3BSvVpZ5qV_B"
   },
   "source": [
    "**import required libraries**"
   ]
  },
  {
   "cell_type": "code",
   "execution_count": 1,
   "metadata": {
    "id": "FZoRTnOcqV_C"
   },
   "outputs": [],
   "source": [
    "# import required libraries\n",
    "import pandas as pd\n",
    "import shutil\n",
    "import os\n",
    "from PIL import Image\n",
    "import imagehash \n",
    "import re"
   ]
  },
  {
   "cell_type": "markdown",
   "metadata": {
    "id": "jiAj5jBSqV_F"
   },
   "source": [
    "**Loading the scrapped data from DermNet.**"
   ]
  },
  {
   "cell_type": "code",
   "execution_count": 2,
   "metadata": {
    "id": "nwcME1kYqV_G",
    "outputId": "b9a8980e-7bfe-4e75-e6a9-3b8b9b64eaa2"
   },
   "outputs": [
    {
     "name": "stdout",
     "output_type": "stream",
     "text": [
      "(13992, 2)\n"
     ]
    },
    {
     "data": {
      "text/html": [
       "<div>\n",
       "<style scoped>\n",
       "    .dataframe tbody tr th:only-of-type {\n",
       "        vertical-align: middle;\n",
       "    }\n",
       "\n",
       "    .dataframe tbody tr th {\n",
       "        vertical-align: top;\n",
       "    }\n",
       "\n",
       "    .dataframe thead th {\n",
       "        text-align: right;\n",
       "    }\n",
       "</style>\n",
       "<table border=\"1\" class=\"dataframe\">\n",
       "  <thead>\n",
       "    <tr style=\"text-align: right;\">\n",
       "      <th></th>\n",
       "      <th>skin_disorder_name</th>\n",
       "      <th>images</th>\n",
       "    </tr>\n",
       "  </thead>\n",
       "  <tbody>\n",
       "    <tr>\n",
       "      <th>0</th>\n",
       "      <td>acne affecting the back images</td>\n",
       "      <td>https://dermnetnz.org/assets/Uploads/acne/acne...</td>\n",
       "    </tr>\n",
       "    <tr>\n",
       "      <th>1</th>\n",
       "      <td>acne affecting the back images</td>\n",
       "      <td>https://dermnetnz.org/assets/Uploads/acne/acne...</td>\n",
       "    </tr>\n",
       "    <tr>\n",
       "      <th>2</th>\n",
       "      <td>acne affecting the back images</td>\n",
       "      <td>https://dermnetnz.org/assets/Uploads/acne/acne...</td>\n",
       "    </tr>\n",
       "    <tr>\n",
       "      <th>3</th>\n",
       "      <td>acne affecting the back images</td>\n",
       "      <td>https://dermnetnz.org/assets/Uploads/acne/acne...</td>\n",
       "    </tr>\n",
       "    <tr>\n",
       "      <th>4</th>\n",
       "      <td>acne affecting the back images</td>\n",
       "      <td>https://dermnetnz.org/assets/Uploads/acne/acne...</td>\n",
       "    </tr>\n",
       "  </tbody>\n",
       "</table>\n",
       "</div>"
      ],
      "text/plain": [
       "               skin_disorder_name  \\\n",
       "0  acne affecting the back images   \n",
       "1  acne affecting the back images   \n",
       "2  acne affecting the back images   \n",
       "3  acne affecting the back images   \n",
       "4  acne affecting the back images   \n",
       "\n",
       "                                              images  \n",
       "0  https://dermnetnz.org/assets/Uploads/acne/acne...  \n",
       "1  https://dermnetnz.org/assets/Uploads/acne/acne...  \n",
       "2  https://dermnetnz.org/assets/Uploads/acne/acne...  \n",
       "3  https://dermnetnz.org/assets/Uploads/acne/acne...  \n",
       "4  https://dermnetnz.org/assets/Uploads/acne/acne...  "
      ]
     },
     "execution_count": 2,
     "metadata": {},
     "output_type": "execute_result"
    }
   ],
   "source": [
    "# load and preview dataset\n",
    "image_df = pd.read_csv('Data/data1-294.csv')\n",
    "print(image_df.shape)\n",
    "image_df.head()"
   ]
  },
  {
   "cell_type": "markdown",
   "metadata": {
    "id": "QhbQVr0MqV_I"
   },
   "source": [
    "## **<u>Acne</u>**\n",
    "\n",
    "**Meaning**<br>\n",
    "Acne is a common skin condition that occurs when hair follicles become clogged with oil and dead skin cells. This leads to the formation of pimples, blackheads, whiteheads, and sometimes deeper cysts. Acne usually appears on the face, neck, chest, back, and shoulders, and can affect people of all ages, although it is most common during puberty.<br>\n",
    "\n",
    "**Causes**<br>\n",
    "The causes of acne are multifactorial and can include hormonal imbalances, genetics, stress, certain medications, and an overproduction of sebum, the oily substance that lubricates the skin. Certain factors such as diet and hygiene practices have also been implicated in the development of acne, although the evidence for these is less clear.<br>\n",
    "\n",
    "**Symptoms**<br>\n",
    "The symptoms of acne can vary depending on the severity of the condition. Mild acne may only present with a few blackheads or whiteheads, while moderate acne can involve a combination of pimples, blackheads, and whiteheads. Severe acne may include deep, painful cysts that can lead to scarring. Acne can also have a significant impact on a person's self-esteem and mental health, particularly if it is severe or persistent.\n",
    "\n",
    "**Treatment**<br>\n",
    "reatment options for acne depend on the severity of the condition. Mild acne can often be managed with over-the-counter topical treatments that contain benzoyl peroxide or salicylic acid. These products work by reducing the amount of oil on the skin and unclogging pores. More severe acne may require prescription medications, such as topical retinoids or oral antibiotics, which can help to reduce inflammation and kill the bacteria that cause acne. In cases of severe, persistent acne, isotretinoin, a powerful oral medication, may be prescribed. Additionally, lifestyle modifications such as maintaining good hygiene practices, avoiding certain foods, and managing stress can also be helpful in managing acne.\n"
   ]
  },
  {
   "cell_type": "markdown",
   "metadata": {
    "id": "PikkQWVzqV_J"
   },
   "source": [
    "### **Cleaning Acne images**\n"
   ]
  },
  {
   "cell_type": "markdown",
   "metadata": {
    "id": "0p53pFvnqV_K"
   },
   "source": [
    "**Creating a dataframe with acne images from the data scrapped from DermNet**"
   ]
  },
  {
   "cell_type": "code",
   "execution_count": 3,
   "metadata": {
    "id": "HMhsUL4dqV_K",
    "outputId": "797bfc53-7613-4aaf-cf5f-b3bcabd49319"
   },
   "outputs": [
    {
     "data": {
      "text/plain": [
       "['acne affecting the back images',\n",
       " 'acne affecting the face images',\n",
       " 'acne and other follicular disorder images',\n",
       " 'facial acne images']"
      ]
     },
     "execution_count": 3,
     "metadata": {},
     "output_type": "execute_result"
    }
   ],
   "source": [
    "# Labels representing acne in DermNet's scrapped data\n",
    "acne_labels = list(image_df[image_df['skin_disorder_name'].str.contains('acne')]['skin_disorder_name'].unique())\n",
    "\n",
    "# removing acne labels whose images will not be used because there are not clear\n",
    "acne_labels.remove('infantile acne images')\n",
    "acne_labels.remove('steroid acne images')\n",
    "\n",
    "acne_labels"
   ]
  },
  {
   "cell_type": "code",
   "execution_count": 4,
   "metadata": {
    "id": "ZKJquQ-PqV_L",
    "outputId": "a0d17e06-0ee1-4b36-ba68-0246fef7e2a3"
   },
   "outputs": [
    {
     "data": {
      "text/plain": [
       "4"
      ]
     },
     "execution_count": 4,
     "metadata": {},
     "output_type": "execute_result"
    }
   ],
   "source": [
    "# There are six labels representing acne\n",
    "len(acne_labels)"
   ]
  },
  {
   "cell_type": "code",
   "execution_count": 5,
   "metadata": {
    "id": "cYmJAkfBqV_M",
    "outputId": "1e51cebc-23f5-4769-ec1d-e6d5659d58d6"
   },
   "outputs": [
    {
     "name": "stdout",
     "output_type": "stream",
     "text": [
      "<class 'pandas.core.frame.DataFrame'>\n",
      "Int64Index: 702 entries, 0 to 5023\n",
      "Data columns (total 2 columns):\n",
      " #   Column              Non-Null Count  Dtype \n",
      "---  ------              --------------  ----- \n",
      " 0   skin_disorder_name  702 non-null    object\n",
      " 1   images              702 non-null    object\n",
      "dtypes: object(2)\n",
      "memory usage: 16.5+ KB\n"
     ]
    }
   ],
   "source": [
    "# Creating a dataframe with just acne labels for easier cleaning\n",
    "\n",
    "acne_df = image_df[(image_df['skin_disorder_name'] == acne_labels[0]) | \\\n",
    "                   (image_df['skin_disorder_name'] == acne_labels[1]) | \\\n",
    "                   (image_df['skin_disorder_name'] == acne_labels[2]) | \\\n",
    "                   (image_df['skin_disorder_name'] == acne_labels[3]) \n",
    "                 ]\n",
    "acne_df.info()"
   ]
  },
  {
   "cell_type": "markdown",
   "metadata": {
    "id": "IacIVWYYqV_N"
   },
   "source": [
    "### **Extra acne images**"
   ]
  },
  {
   "cell_type": "code",
   "execution_count": 6,
   "metadata": {
    "id": "8qrHMhStqV_O",
    "outputId": "72640508-cb71-4bc2-bcd0-3730c6fce2ee"
   },
   "outputs": [
    {
     "data": {
      "text/plain": [
       "['07Acne081101.jpg',\n",
       " '07Acne0811011 - Copy.jpg',\n",
       " '07Acne0811011.jpg',\n",
       " '07AcnePittedScars.jpg',\n",
       " '07AcnePittedScars1 - Copy.jpg']"
      ]
     },
     "execution_count": 6,
     "metadata": {},
     "output_type": "execute_result"
    }
   ],
   "source": [
    "extra_acne = [image_name for image_name in os.listdir('extra_images/extra_acne_images')]\n",
    "extra_acne[:5]"
   ]
  },
  {
   "cell_type": "code",
   "execution_count": 7,
   "metadata": {
    "id": "ST1GqUZuqV_O",
    "outputId": "bdfe833b-be69-482e-fec7-5a8d7adce723"
   },
   "outputs": [
    {
     "data": {
      "text/html": [
       "<div>\n",
       "<style scoped>\n",
       "    .dataframe tbody tr th:only-of-type {\n",
       "        vertical-align: middle;\n",
       "    }\n",
       "\n",
       "    .dataframe tbody tr th {\n",
       "        vertical-align: top;\n",
       "    }\n",
       "\n",
       "    .dataframe thead th {\n",
       "        text-align: right;\n",
       "    }\n",
       "</style>\n",
       "<table border=\"1\" class=\"dataframe\">\n",
       "  <thead>\n",
       "    <tr style=\"text-align: right;\">\n",
       "      <th></th>\n",
       "      <th>skin_disorder_name</th>\n",
       "      <th>images</th>\n",
       "    </tr>\n",
       "  </thead>\n",
       "  <tbody>\n",
       "    <tr>\n",
       "      <th>0</th>\n",
       "      <td>acne</td>\n",
       "      <td>07Acne081101.jpg</td>\n",
       "    </tr>\n",
       "    <tr>\n",
       "      <th>1</th>\n",
       "      <td>acne</td>\n",
       "      <td>07Acne0811011 - Copy.jpg</td>\n",
       "    </tr>\n",
       "    <tr>\n",
       "      <th>2</th>\n",
       "      <td>acne</td>\n",
       "      <td>07Acne0811011.jpg</td>\n",
       "    </tr>\n",
       "    <tr>\n",
       "      <th>3</th>\n",
       "      <td>acne</td>\n",
       "      <td>07AcnePittedScars.jpg</td>\n",
       "    </tr>\n",
       "    <tr>\n",
       "      <th>4</th>\n",
       "      <td>acne</td>\n",
       "      <td>07AcnePittedScars1 - Copy.jpg</td>\n",
       "    </tr>\n",
       "  </tbody>\n",
       "</table>\n",
       "</div>"
      ],
      "text/plain": [
       "  skin_disorder_name                         images\n",
       "0               acne               07Acne081101.jpg\n",
       "1               acne       07Acne0811011 - Copy.jpg\n",
       "2               acne              07Acne0811011.jpg\n",
       "3               acne          07AcnePittedScars.jpg\n",
       "4               acne  07AcnePittedScars1 - Copy.jpg"
      ]
     },
     "execution_count": 7,
     "metadata": {},
     "output_type": "execute_result"
    }
   ],
   "source": [
    "#Creating a dataframe for the extra acne images\n",
    "\n",
    "label =['acne' for img in extra_acne]\n",
    "extra_acne_df = pd.DataFrame(extra_acne, label).reset_index()\n",
    "extra_acne_df.columns =['skin_disorder_name', 'images']\n",
    "extra_acne_df.head()"
   ]
  },
  {
   "cell_type": "markdown",
   "metadata": {
    "id": "3eg4IouMqV_P"
   },
   "source": [
    "**i. Moving acne images in the Images folder to their own folder**"
   ]
  },
  {
   "cell_type": "code",
   "execution_count": 8,
   "metadata": {
    "id": "yupMjov1qV_P",
    "outputId": "96be78da-fe3d-4484-920a-87d137c1a7e5"
   },
   "outputs": [
    {
     "name": "stdout",
     "output_type": "stream",
     "text": [
      "There are 702 acne images\n"
     ]
    },
    {
     "data": {
      "text/plain": [
       "['acne affecting the back images0.jpg',\n",
       " 'acne affecting the back images1.jpg',\n",
       " 'acne affecting the back images10.jpg',\n",
       " 'acne affecting the back images11.jpg',\n",
       " 'acne affecting the back images12.jpg']"
      ]
     },
     "execution_count": 8,
     "metadata": {},
     "output_type": "execute_result"
    }
   ],
   "source": [
    "# Getting the acne images file names\n",
    "original_acne_img = [image_name for image_name in os.listdir('Images/') \\\n",
    "                     if ('acne affecting the back images' in image_name) |\\\n",
    "                        ('acne affecting the face images' in image_name) |\\\n",
    "                        ('acne and other follicular disorder images' in image_name) |\\\n",
    "                        ('facial acne images' in image_name) \n",
    "                        ] \n",
    "\n",
    "# Confirming the number of acne images before any cleaning\n",
    "print('There are', len(original_acne_img),'acne images')\n",
    "original_acne_img[:5]"
   ]
  },
  {
   "cell_type": "code",
   "execution_count": 9,
   "metadata": {
    "id": "MHuGp5brqV_Q"
   },
   "outputs": [],
   "source": [
    "# Creating a new folder with just acne images to make cleaning easier\n",
    "folder_name = 'cleaned_images/acne_images/'\n",
    "\n",
    "\n",
    "\n",
    "# Note📝: For reproducibility of the code, this step is important.\n",
    "         # If the folder is not dropped before an error will occur if you rerun this cell\n",
    "         \n",
    "# Checking if the folder exists and deleting it if it exists        \n",
    "if os.path.exists(folder_name):\n",
    "    # deleting the folder and its contents\n",
    "    shutil.rmtree(folder_name)\n",
    "\n",
    "# create the new folder\n",
    "os.mkdir(folder_name)\n",
    "\n",
    "# Moving the images into that folder\n",
    "for img in original_acne_img:\n",
    "    origin = os.path.join('Images/', img)\n",
    "    destination = os.path.join(folder_name, img)\n",
    "    shutil.copy(origin, destination)"
   ]
  },
  {
   "cell_type": "code",
   "execution_count": 10,
   "metadata": {
    "id": "BmMVbWrFqV_c",
    "outputId": "4325143a-a5a3-442a-ce90-ddb1bc3049e2"
   },
   "outputs": [
    {
     "name": "stdout",
     "output_type": "stream",
     "text": [
      "There are 702 acne images.\n"
     ]
    }
   ],
   "source": [
    "# Confirming that the number of acne images after moving them to a separate folder is still 702\n",
    "acne_img = [image_name for image_name in os.listdir('cleaned_images/acne_images/')] \n",
    "print('There are', len(acne_img),'acne images.')"
   ]
  },
  {
   "cell_type": "markdown",
   "metadata": {
    "id": "wwstkxpSqV_c"
   },
   "source": [
    "**ii. Dropping links from the 'images' column in the acne_df and replacing them with the image name**"
   ]
  },
  {
   "cell_type": "code",
   "execution_count": 11,
   "metadata": {
    "id": "jHgUdlnHqV_d",
    "outputId": "243e91db-e1bb-4b06-ac96-94c7b902bc1c"
   },
   "outputs": [
    {
     "data": {
      "text/html": [
       "<div>\n",
       "<style scoped>\n",
       "    .dataframe tbody tr th:only-of-type {\n",
       "        vertical-align: middle;\n",
       "    }\n",
       "\n",
       "    .dataframe tbody tr th {\n",
       "        vertical-align: top;\n",
       "    }\n",
       "\n",
       "    .dataframe thead th {\n",
       "        text-align: right;\n",
       "    }\n",
       "</style>\n",
       "<table border=\"1\" class=\"dataframe\">\n",
       "  <thead>\n",
       "    <tr style=\"text-align: right;\">\n",
       "      <th></th>\n",
       "      <th>skin_disorder_name</th>\n",
       "      <th>images</th>\n",
       "    </tr>\n",
       "  </thead>\n",
       "  <tbody>\n",
       "    <tr>\n",
       "      <th>0</th>\n",
       "      <td>acne affecting the back images</td>\n",
       "      <td>acne affecting the back images0.jpg</td>\n",
       "    </tr>\n",
       "    <tr>\n",
       "      <th>1</th>\n",
       "      <td>acne affecting the back images</td>\n",
       "      <td>acne affecting the back images1.jpg</td>\n",
       "    </tr>\n",
       "    <tr>\n",
       "      <th>2</th>\n",
       "      <td>acne affecting the back images</td>\n",
       "      <td>acne affecting the back images10.jpg</td>\n",
       "    </tr>\n",
       "    <tr>\n",
       "      <th>3</th>\n",
       "      <td>acne affecting the back images</td>\n",
       "      <td>acne affecting the back images11.jpg</td>\n",
       "    </tr>\n",
       "    <tr>\n",
       "      <th>4</th>\n",
       "      <td>acne affecting the back images</td>\n",
       "      <td>acne affecting the back images12.jpg</td>\n",
       "    </tr>\n",
       "  </tbody>\n",
       "</table>\n",
       "</div>"
      ],
      "text/plain": [
       "               skin_disorder_name                                images\n",
       "0  acne affecting the back images   acne affecting the back images0.jpg\n",
       "1  acne affecting the back images   acne affecting the back images1.jpg\n",
       "2  acne affecting the back images  acne affecting the back images10.jpg\n",
       "3  acne affecting the back images  acne affecting the back images11.jpg\n",
       "4  acne affecting the back images  acne affecting the back images12.jpg"
      ]
     },
     "execution_count": 11,
     "metadata": {},
     "output_type": "execute_result"
    }
   ],
   "source": [
    "# So that the two dataframes can match, we dropped the image links in  acne_df \n",
    "# and replaced them with the image names\n",
    "\n",
    "acne_images = pd.DataFrame(acne_img, columns=['images'])\n",
    "acne_df = acne_df.copy()\n",
    "acne_df.drop('images', axis=1, inplace=True)\n",
    "acne_df['images'] = acne_images['images'].values\n",
    "acne_df.head()"
   ]
  },
  {
   "cell_type": "markdown",
   "metadata": {
    "id": "B1W8MIkZqV_d"
   },
   "source": [
    "**iii. Joining the two dataframes**"
   ]
  },
  {
   "cell_type": "code",
   "execution_count": 12,
   "metadata": {
    "id": "4IjFjlBFqV_e",
    "outputId": "fd4168e7-c8f1-4457-a933-cff46bf8354a"
   },
   "outputs": [
    {
     "name": "stdout",
     "output_type": "stream",
     "text": [
      "<class 'pandas.core.frame.DataFrame'>\n",
      "RangeIndex: 1427 entries, 0 to 1426\n",
      "Data columns (total 2 columns):\n",
      " #   Column              Non-Null Count  Dtype \n",
      "---  ------              --------------  ----- \n",
      " 0   skin_disorder_name  1427 non-null   object\n",
      " 1   images              1427 non-null   object\n",
      "dtypes: object(2)\n",
      "memory usage: 22.4+ KB\n",
      "None\n"
     ]
    },
    {
     "data": {
      "text/html": [
       "<div>\n",
       "<style scoped>\n",
       "    .dataframe tbody tr th:only-of-type {\n",
       "        vertical-align: middle;\n",
       "    }\n",
       "\n",
       "    .dataframe tbody tr th {\n",
       "        vertical-align: top;\n",
       "    }\n",
       "\n",
       "    .dataframe thead th {\n",
       "        text-align: right;\n",
       "    }\n",
       "</style>\n",
       "<table border=\"1\" class=\"dataframe\">\n",
       "  <thead>\n",
       "    <tr style=\"text-align: right;\">\n",
       "      <th></th>\n",
       "      <th>skin_disorder_name</th>\n",
       "      <th>images</th>\n",
       "    </tr>\n",
       "  </thead>\n",
       "  <tbody>\n",
       "    <tr>\n",
       "      <th>0</th>\n",
       "      <td>acne affecting the back images</td>\n",
       "      <td>acne affecting the back images0.jpg</td>\n",
       "    </tr>\n",
       "    <tr>\n",
       "      <th>1</th>\n",
       "      <td>acne affecting the back images</td>\n",
       "      <td>acne affecting the back images1.jpg</td>\n",
       "    </tr>\n",
       "    <tr>\n",
       "      <th>2</th>\n",
       "      <td>acne affecting the back images</td>\n",
       "      <td>acne affecting the back images10.jpg</td>\n",
       "    </tr>\n",
       "    <tr>\n",
       "      <th>3</th>\n",
       "      <td>acne affecting the back images</td>\n",
       "      <td>acne affecting the back images11.jpg</td>\n",
       "    </tr>\n",
       "    <tr>\n",
       "      <th>4</th>\n",
       "      <td>acne affecting the back images</td>\n",
       "      <td>acne affecting the back images12.jpg</td>\n",
       "    </tr>\n",
       "  </tbody>\n",
       "</table>\n",
       "</div>"
      ],
      "text/plain": [
       "               skin_disorder_name                                images\n",
       "0  acne affecting the back images   acne affecting the back images0.jpg\n",
       "1  acne affecting the back images   acne affecting the back images1.jpg\n",
       "2  acne affecting the back images  acne affecting the back images10.jpg\n",
       "3  acne affecting the back images  acne affecting the back images11.jpg\n",
       "4  acne affecting the back images  acne affecting the back images12.jpg"
      ]
     },
     "execution_count": 12,
     "metadata": {},
     "output_type": "execute_result"
    }
   ],
   "source": [
    "# Creating a dataframe with all of the acne images\n",
    "\n",
    "acne_df_complete = pd.concat([acne_df, extra_acne_df], axis=0).reset_index()\n",
    "acne_df_complete.drop('index', axis=1, inplace=True)\n",
    "print(acne_df_complete.info())\n",
    "acne_df_complete.head()"
   ]
  },
  {
   "cell_type": "markdown",
   "metadata": {
    "id": "0bmjc5YSqV_f"
   },
   "source": [
    "**iv. Combining the images into one folder**"
   ]
  },
  {
   "cell_type": "code",
   "execution_count": 13,
   "metadata": {
    "id": "S0L6n2I5qV_f"
   },
   "outputs": [],
   "source": [
    "# This was done by moving the extra images into the acne folder\n",
    "for img in extra_acne:\n",
    "    origin = os.path.join('extra_images/extra_acne_images/', img)\n",
    "    destination = os.path.join('cleaned_images/acne_images/', img)\n",
    "    shutil.copy(origin, destination)"
   ]
  },
  {
   "cell_type": "code",
   "execution_count": 14,
   "metadata": {
    "id": "6YIHMCTvqV_g",
    "outputId": "7d0ce826-7191-42ba-dec8-a35a44b98e20"
   },
   "outputs": [
    {
     "name": "stdout",
     "output_type": "stream",
     "text": [
      "There are a total of 1427 acne images.\n"
     ]
    }
   ],
   "source": [
    "# Confirming that the total acne images is 1427 before any cleaning\n",
    "\n",
    "acne_img = [image_name for image_name in os.listdir('cleaned_images/acne_images/')] \n",
    "print('There are a total of', len(acne_img),'acne images.')"
   ]
  },
  {
   "cell_type": "markdown",
   "metadata": {
    "id": "JbJiF3tyqV_g"
   },
   "source": [
    "**v. Removing duplicated images from the folder**"
   ]
  },
  {
   "cell_type": "code",
   "execution_count": 15,
   "metadata": {
    "id": "8HkHHa5VqV_g"
   },
   "outputs": [],
   "source": [
    "# Function for removing duplicated images.\n",
    "def drop_duplicated_images(folder):\n",
    "\n",
    "    # Define a threshold for image similarity\n",
    "    threshold = 8\n",
    "\n",
    "    # Define a dictionary to store the hash values and file paths of the images\n",
    "    image_hashes = {}\n",
    "    duplicated_images = []\n",
    "\n",
    "    # Loop through all the image files in a directory\n",
    "    for filename in os.listdir(folder):\n",
    "        # Load the image file\n",
    "        image = Image.open(os.path.join(folder, filename))\n",
    "\n",
    "         # Compute the hash value of the image using the average hash algorithm\n",
    "        hash_value = imagehash.average_hash(image)\n",
    "\n",
    "        # Check if the hash value is already in the dictionary\n",
    "        if hash_value in image_hashes:\n",
    "            # If a similar hash value already exists, delete the duplicate image\n",
    "            duplicated_images.append(filename)\n",
    "            os.remove(os.path.join(folder, filename))\n",
    "        else:\n",
    "             # Otherwise, add the hash value and file path to the dictionary\n",
    "            image_hashes[hash_value] = os.path.join(folder, filename)\n",
    "            \n",
    "    return duplicated_images"
   ]
  },
  {
   "cell_type": "code",
   "execution_count": 16,
   "metadata": {
    "id": "nFjm3IQQqV_h",
    "outputId": "f9fac605-f420-4b46-98c5-f32f403c046b"
   },
   "outputs": [
    {
     "data": {
      "text/plain": [
       "['07Acne0811011.jpg',\n",
       " '07AcnePittedScars1.jpg',\n",
       " '17a4d1a917e5faa9f2675ebd83e526791.jpg',\n",
       " '19280a95363d065b1dfbc654e28530291.jpg',\n",
       " '2 (52)1.jpg']"
      ]
     },
     "execution_count": 16,
     "metadata": {},
     "output_type": "execute_result"
    }
   ],
   "source": [
    "# Dropping duplicates\n",
    "duplicated_images = drop_duplicated_images('cleaned_images/acne_images/')\n",
    "duplicated_images[:5]"
   ]
  },
  {
   "cell_type": "code",
   "execution_count": 17,
   "metadata": {
    "id": "Dr-qhc1zqV_h",
    "outputId": "f58cd1ea-06cd-4869-c296-3d1fb9a4035d"
   },
   "outputs": [
    {
     "name": "stdout",
     "output_type": "stream",
     "text": [
      "There are 1109 acne images after removing duplicated images\n"
     ]
    }
   ],
   "source": [
    "acne_img = [image_name for image_name in os.listdir('cleaned_images/acne_images/')] \n",
    "print('There are', len(acne_img),'acne images after removing duplicated images')"
   ]
  },
  {
   "cell_type": "code",
   "execution_count": 18,
   "metadata": {
    "id": "f0eynQmsqV_i",
    "outputId": "4a34c82a-787c-465c-970d-f61c385d1214"
   },
   "outputs": [
    {
     "data": {
      "text/plain": [
       "[369, 377, 394, 430, 448, 449, 450, 451, 452, 453]"
      ]
     },
     "execution_count": 18,
     "metadata": {},
     "output_type": "execute_result"
    }
   ],
   "source": [
    "# Getting the indexes of the duplicated images so that they can be dropped from the acne_df_complete too.\n",
    "\n",
    "duplicated_indexes = [acne_df_complete[acne_df_complete['images'] == image_name].index[0] \\\n",
    "                      for image_name in acne_df_complete['images']\\\n",
    "                      if image_name in duplicated_images]\n",
    "duplicated_indexes[:10]"
   ]
  },
  {
   "cell_type": "code",
   "execution_count": 19,
   "metadata": {
    "id": "gYL3YngSqV_i",
    "outputId": "09b11af8-be41-4ef3-a25a-4bf077f3a06e"
   },
   "outputs": [
    {
     "name": "stdout",
     "output_type": "stream",
     "text": [
      "<class 'pandas.core.frame.DataFrame'>\n",
      "Int64Index: 1109 entries, 0 to 1425\n",
      "Data columns (total 2 columns):\n",
      " #   Column              Non-Null Count  Dtype \n",
      "---  ------              --------------  ----- \n",
      " 0   skin_disorder_name  1109 non-null   object\n",
      " 1   images              1109 non-null   object\n",
      "dtypes: object(2)\n",
      "memory usage: 26.0+ KB\n"
     ]
    }
   ],
   "source": [
    "# Dropping duplicated images from the dataframe.\n",
    "acne_df_complete = acne_df_complete.copy()\n",
    "acne_df_complete.drop(index=duplicated_indexes, inplace=True)\n",
    "acne_df_complete.info()"
   ]
  },
  {
   "cell_type": "markdown",
   "metadata": {
    "id": "nHe0jmufqV_j"
   },
   "source": [
    "Acne affecting the back images, Acne affecting the face images all have correct images. The Only change that will be made is changing the name to acne. </br>\n",
    "Acne and other follicular disorder images has a collection of different images. Only images that have acne as a specific label will be included, the others will be dropped from the dataset. </br>\n",
    "***\n",
    "**Dealing with the collection of different images in Acne and other follicular disorder images**</br>\n",
    "\n",
    "After careful evaluation of the images, the images that represent acne are:</br>\n",
    ">>> **[299, 301, 302, 305, 306, 312, 324, 327, 331, 332, 334, 335, 336,</br>, 340, 352, 353, 356, 357, 358, 360, 365, 370, 379, 383, 386, 391, </br>, 394, 399, 400, 401, 404, 406, 407, 410, 410, 412, 414, 418, 435, </br> 439, 440, 442]**"
   ]
  },
  {
   "cell_type": "code",
   "execution_count": 20,
   "metadata": {
    "id": "4mPD-bCXqV_j"
   },
   "outputs": [],
   "source": [
    "# Note 📝: The indexes were confirmed to be the same even after merging the two dataframes\n",
    "        #: This is because the acne_df is at the top in the complete dataframe\n",
    "\n",
    "# indexes of the images in 'acne and other follicular disorder images'\n",
    "indexes = acne_df[acne_df['skin_disorder_name'] == 'acne and other follicular disorder images'].index\n",
    "\n",
    "# indexes of the acne images in 'acne and other follicular disorder images'\n",
    "acne_indexes = [299, 301, 302, 305, 306, 312, 324, 327, 331, 332, 334, 335, 336,\n",
    "                340, 352, 353, 356, 357, 358, 360, 365, 370, 379, 383, 386, 391,\n",
    "                394, 399, 400, 401, 404, 406, 407, 410, 410, 412, 414, 418, 435,\n",
    "                439, 440, 442]\n",
    "\n",
    "# indexes of the other follicular disorder images in 'acne and other follicular disorder images'. This indexes will be dropped.\n",
    "to_drop = []\n",
    "\n",
    "for index in  indexes:\n",
    "    if (index not in acne_indexes) and (index not in duplicated_indexes):\n",
    "        to_drop.append(index)\n",
    "\n",
    "# dropping indexes in to_drop\n",
    "acne_df_complete.drop(to_drop, axis = 0, inplace=True)"
   ]
  },
  {
   "cell_type": "code",
   "execution_count": 21,
   "metadata": {
    "id": "ylu3_wljqV_j",
    "outputId": "2fa69dc8-fe8b-4779-feea-9571086e408e"
   },
   "outputs": [
    {
     "data": {
      "text/plain": [
       "(1000, 2)"
      ]
     },
     "execution_count": 21,
     "metadata": {},
     "output_type": "execute_result"
    }
   ],
   "source": [
    "# After dropping non-acne images, we still have 1000 images left\n",
    "acne_df_complete.shape"
   ]
  },
  {
   "cell_type": "code",
   "execution_count": 22,
   "metadata": {
    "id": "Qz4vs8ryqV_k",
    "outputId": "98ab55b8-a243-4d78-871f-b1d52f0b5171"
   },
   "outputs": [
    {
     "name": "stdout",
     "output_type": "stream",
     "text": [
      "There are 1000 acne images left.\n"
     ]
    }
   ],
   "source": [
    "# dropping those images from the acne_images folder\n",
    "\n",
    "# Finding the image file names to be dropped from the folder\n",
    "img_to_drop = []\n",
    "\n",
    "for index in to_drop:\n",
    "    for img_name in original_acne_img:\n",
    "        if str(index) in img_name:\n",
    "            img_to_drop.append(img_name)\n",
    "\n",
    "# Dropping those images form the acne_images folder\n",
    "for filename in img_to_drop:\n",
    "    os.remove(os.path.join(\"cleaned_images/acne_images/\", filename))\n",
    "\n",
    "# Confirming that the number of images left is 1000\n",
    "acne_img = [image_name for image_name in os.listdir('cleaned_images/acne_images/')] \n",
    "print('There are', len(acne_img),'acne images left.')"
   ]
  },
  {
   "cell_type": "markdown",
   "metadata": {
    "id": "aHEmQ6EMqV_k"
   },
   "source": [
    "**vi. Changing the label to just acne**"
   ]
  },
  {
   "cell_type": "code",
   "execution_count": 23,
   "metadata": {
    "id": "SEqNvgvtqV_k",
    "outputId": "e7981fe0-fdc1-4eaf-8f39-c3324220c9f2"
   },
   "outputs": [
    {
     "name": "stdout",
     "output_type": "stream",
     "text": [
      "(1000, 2)\n"
     ]
    },
    {
     "data": {
      "text/html": [
       "<div>\n",
       "<style scoped>\n",
       "    .dataframe tbody tr th:only-of-type {\n",
       "        vertical-align: middle;\n",
       "    }\n",
       "\n",
       "    .dataframe tbody tr th {\n",
       "        vertical-align: top;\n",
       "    }\n",
       "\n",
       "    .dataframe thead th {\n",
       "        text-align: right;\n",
       "    }\n",
       "</style>\n",
       "<table border=\"1\" class=\"dataframe\">\n",
       "  <thead>\n",
       "    <tr style=\"text-align: right;\">\n",
       "      <th></th>\n",
       "      <th>skin_disorder_name</th>\n",
       "      <th>images</th>\n",
       "    </tr>\n",
       "  </thead>\n",
       "  <tbody>\n",
       "    <tr>\n",
       "      <th>0</th>\n",
       "      <td>acne</td>\n",
       "      <td>acne affecting the back images0.jpg</td>\n",
       "    </tr>\n",
       "    <tr>\n",
       "      <th>1</th>\n",
       "      <td>acne</td>\n",
       "      <td>acne affecting the back images1.jpg</td>\n",
       "    </tr>\n",
       "    <tr>\n",
       "      <th>2</th>\n",
       "      <td>acne</td>\n",
       "      <td>acne affecting the back images10.jpg</td>\n",
       "    </tr>\n",
       "    <tr>\n",
       "      <th>3</th>\n",
       "      <td>acne</td>\n",
       "      <td>acne affecting the back images11.jpg</td>\n",
       "    </tr>\n",
       "    <tr>\n",
       "      <th>4</th>\n",
       "      <td>acne</td>\n",
       "      <td>acne affecting the back images12.jpg</td>\n",
       "    </tr>\n",
       "  </tbody>\n",
       "</table>\n",
       "</div>"
      ],
      "text/plain": [
       "  skin_disorder_name                                images\n",
       "0               acne   acne affecting the back images0.jpg\n",
       "1               acne   acne affecting the back images1.jpg\n",
       "2               acne  acne affecting the back images10.jpg\n",
       "3               acne  acne affecting the back images11.jpg\n",
       "4               acne  acne affecting the back images12.jpg"
      ]
     },
     "execution_count": 23,
     "metadata": {},
     "output_type": "execute_result"
    }
   ],
   "source": [
    "acne_df_complete['skin_disorder_name'] = 'acne'\n",
    "print(acne_df_complete.shape)\n",
    "acne_df_complete.head()"
   ]
  },
  {
   "cell_type": "markdown",
   "metadata": {
    "id": "pzsXCclBqV_l"
   },
   "source": [
    "**vii. Saving the acne_df_complete dataframe as a csv file**"
   ]
  },
  {
   "cell_type": "code",
   "execution_count": 24,
   "metadata": {
    "id": "sAVSfgryqV_l"
   },
   "outputs": [],
   "source": [
    "acne_df_complete.to_csv('cleaned_data/acne.csv', index=False)"
   ]
  },
  {
   "cell_type": "markdown",
   "metadata": {
    "id": "q6eohIj7qV_l"
   },
   "source": [
    "## **<u>Atopic dermatitis(Eczema) </u>**\n",
    "\n",
    "**Meaning**<br>\n",
    "Atopic dermatitis, also known as eczema, is a chronic inflammatory skin condition that is characterized by dry, itchy, and inflamed patches of skin. It is a common condition that can affect people of all ages, but it is most common in infants and children. <br>\n",
    "\n",
    "**Causes**<br>\n",
    "The exact causes of atopic dermatitis are not fully understood, but it is believed to be a combination of genetic and environmental factors. People with atopic dermatitis often have a genetic predisposition to the condition, and environmental triggers such as allergens, irritants, and stress can exacerbate the symptoms.\n",
    "\n",
    "**Symptoms**<br>\n",
    "The symptoms of atopic dermatitis can vary depending on the severity of the condition. Mild cases may only present with dry, itchy skin, while more severe cases can lead to red, inflamed, and weeping skin lesions. In some cases, the skin may become thickened and scaly. Atopic dermatitis can also cause significant discomfort and interfere with a person's quality of life.\n",
    "\n",
    "**Treatment**<br>\n",
    "Treatment options for eczema include using gentle soaps and moisturizers, avoiding harsh chemicals and irritants, and taking short, lukewarm baths or showers. Prescription creams or ointments containing corticosteroids or immunosuppressants may be used for more severe cases of eczema. Antihistamines can also be helpful in reducing itching. <br>\n",
    "Preventing flare-ups of eczema can be done by avoiding triggers such as certain foods, allergens, and irritants. Regular use of moisturizers can also help to keep the skin hydrated and reduce the risk of flare-ups.<br>"
   ]
  },
  {
   "cell_type": "markdown",
   "metadata": {
    "id": "2xZTIUQlqV_l"
   },
   "source": [
    "### **Cleaning Eczema images**"
   ]
  },
  {
   "cell_type": "markdown",
   "metadata": {
    "id": "6ONCkTm6qV_m"
   },
   "source": [
    "**Creating a dataframe with eczema images from the data scrapped from DermNet**"
   ]
  },
  {
   "cell_type": "code",
   "execution_count": 25,
   "metadata": {
    "id": "BDnjqb6aqV_m",
    "outputId": "cb26352f-6658-4c7a-f629-b69b8eb76ae0"
   },
   "outputs": [
    {
     "data": {
      "text/plain": [
       "8"
      ]
     },
     "execution_count": 25,
     "metadata": {},
     "output_type": "execute_result"
    }
   ],
   "source": [
    "# Labels representing eczema in Dermnet's scraped data.\n",
    "\n",
    "eczema_labels = image_df[(image_df['skin_disorder_name'].str.contains('eczema')) | \\\n",
    "                         (image_df['skin_disorder_name'].str.contains('atopic dermatitis images')) |\\\n",
    "                         (image_df['skin_disorder_name'].str.contains('hand dermatitis images')) |\\\n",
    "                         (image_df['skin_disorder_name'] == 'dermatitis images') |\\\n",
    "                         (image_df['skin_disorder_name'].str.contains('nummular dermatitis images'))] \\\n",
    "                         ['skin_disorder_name'].unique()\n",
    "len(eczema_labels)"
   ]
  },
  {
   "cell_type": "code",
   "execution_count": 26,
   "metadata": {
    "id": "dkTpJhelqV_m",
    "outputId": "6c2946bd-6389-4866-e88e-c67074e55f89"
   },
   "outputs": [
    {
     "name": "stdout",
     "output_type": "stream",
     "text": [
      "<class 'pandas.core.frame.DataFrame'>\n",
      "Int64Index: 631 entries, 1058 to 8989\n",
      "Data columns (total 2 columns):\n",
      " #   Column              Non-Null Count  Dtype \n",
      "---  ------              --------------  ----- \n",
      " 0   skin_disorder_name  631 non-null    object\n",
      " 1   images              631 non-null    object\n",
      "dtypes: object(2)\n",
      "memory usage: 14.8+ KB\n"
     ]
    }
   ],
   "source": [
    "# Creating a dataframe with just eczema labels for easier cleaning\n",
    "\n",
    "eczema_df = image_df[(image_df['skin_disorder_name'] == eczema_labels[0]) | \\\n",
    "                     (image_df['skin_disorder_name'] == eczema_labels[1]) | \\\n",
    "                     (image_df['skin_disorder_name'] == eczema_labels[2]) | \\\n",
    "                     (image_df['skin_disorder_name'] == eczema_labels[3]) | \\\n",
    "                     (image_df['skin_disorder_name'] == eczema_labels[4]) | \\\n",
    "                     (image_df['skin_disorder_name'] == eczema_labels[5]) | \\\n",
    "                     (image_df['skin_disorder_name'] == eczema_labels[6]) | \\\n",
    "                     (image_df['skin_disorder_name'] == eczema_labels[7]) \n",
    "                 ]\n",
    "eczema_df.info()"
   ]
  },
  {
   "cell_type": "markdown",
   "metadata": {
    "id": "b3qCGIrAqV_n"
   },
   "source": [
    "### **Extra eczema images**"
   ]
  },
  {
   "cell_type": "code",
   "execution_count": 27,
   "metadata": {
    "id": "z_XvsujwqV_n",
    "outputId": "d3f2db77-206d-48e8-d6d5-a2fa154c0ed3"
   },
   "outputs": [
    {
     "data": {
      "text/plain": [
       "['0_0.jpg', '0_1.jpg', '0_10.jpg', '0_11.jpg', '0_12.jpg']"
      ]
     },
     "execution_count": 27,
     "metadata": {},
     "output_type": "execute_result"
    }
   ],
   "source": [
    "extra_eczema = [image_name for image_name in os.listdir('extra_images/extra_eczema')]\n",
    "extra_eczema[:5]"
   ]
  },
  {
   "cell_type": "code",
   "execution_count": 28,
   "metadata": {
    "id": "h5hkD3YUqV_n",
    "outputId": "10f08e5b-1a7f-474f-e887-ea327078b91d"
   },
   "outputs": [
    {
     "data": {
      "text/plain": [
       "['eczema234.jpg',\n",
       " 'eczema289.jpg',\n",
       " 'eczema301.jpg',\n",
       " 'eczema403.jpg',\n",
       " 'eczema500.jpg']"
      ]
     },
     "execution_count": 28,
     "metadata": {},
     "output_type": "execute_result"
    }
   ],
   "source": [
    "# The folder has a mixture of images. We will filter out the eczema images only\n",
    "\n",
    "extra_eczema_images = [image_name for image_name in extra_eczema\\\n",
    "                        if ('dermatitis' in image_name) |\\\n",
    "                        ('eczema' in image_name)]\n",
    "extra_eczema_images[:5]"
   ]
  },
  {
   "cell_type": "code",
   "execution_count": 29,
   "metadata": {
    "id": "wd5tzLGDqV_n"
   },
   "outputs": [],
   "source": [
    "# Moving this images into their own folder called 'extra_eczema_images_clean'\n",
    "folder_name = 'extra_images/extra_eczema_images_clean/'\n",
    "\n",
    "\n",
    "# Note📝: For reproducibility of the code, this step is important.\n",
    "         # If the folder is not dropped before an error will occur if you rerun this cell\n",
    "         \n",
    "# Checking if the folder exists and deleting it if it exists        \n",
    "if os.path.exists(folder_name):\n",
    "    # deleting the folder and its contents\n",
    "    shutil.rmtree(folder_name)\n",
    "\n",
    "# create the new folder\n",
    "os.mkdir(folder_name)\n",
    "\n",
    "for img in extra_eczema_images:\n",
    "    origin = os.path.join('extra_images/extra_eczema/', img)\n",
    "    destination = os.path.join(folder_name, img)\n",
    "    shutil.copy(origin, destination)"
   ]
  },
  {
   "cell_type": "code",
   "execution_count": 30,
   "metadata": {
    "id": "QSqMJjj8qV_o",
    "outputId": "71ee180e-896e-41ab-9791-d09c001a57a7"
   },
   "outputs": [
    {
     "name": "stdout",
     "output_type": "stream",
     "text": [
      "(736, 2)\n"
     ]
    },
    {
     "data": {
      "text/html": [
       "<div>\n",
       "<style scoped>\n",
       "    .dataframe tbody tr th:only-of-type {\n",
       "        vertical-align: middle;\n",
       "    }\n",
       "\n",
       "    .dataframe tbody tr th {\n",
       "        vertical-align: top;\n",
       "    }\n",
       "\n",
       "    .dataframe thead th {\n",
       "        text-align: right;\n",
       "    }\n",
       "</style>\n",
       "<table border=\"1\" class=\"dataframe\">\n",
       "  <thead>\n",
       "    <tr style=\"text-align: right;\">\n",
       "      <th></th>\n",
       "      <th>skin_disorder_name</th>\n",
       "      <th>images</th>\n",
       "    </tr>\n",
       "  </thead>\n",
       "  <tbody>\n",
       "    <tr>\n",
       "      <th>0</th>\n",
       "      <td>eczema</td>\n",
       "      <td>eczema234.jpg</td>\n",
       "    </tr>\n",
       "    <tr>\n",
       "      <th>1</th>\n",
       "      <td>eczema</td>\n",
       "      <td>eczema289.jpg</td>\n",
       "    </tr>\n",
       "    <tr>\n",
       "      <th>2</th>\n",
       "      <td>eczema</td>\n",
       "      <td>eczema301.jpg</td>\n",
       "    </tr>\n",
       "    <tr>\n",
       "      <th>3</th>\n",
       "      <td>eczema</td>\n",
       "      <td>eczema403.jpg</td>\n",
       "    </tr>\n",
       "    <tr>\n",
       "      <th>4</th>\n",
       "      <td>eczema</td>\n",
       "      <td>eczema500.jpg</td>\n",
       "    </tr>\n",
       "  </tbody>\n",
       "</table>\n",
       "</div>"
      ],
      "text/plain": [
       "  skin_disorder_name         images\n",
       "0             eczema  eczema234.jpg\n",
       "1             eczema  eczema289.jpg\n",
       "2             eczema  eczema301.jpg\n",
       "3             eczema  eczema403.jpg\n",
       "4             eczema  eczema500.jpg"
      ]
     },
     "execution_count": 30,
     "metadata": {},
     "output_type": "execute_result"
    }
   ],
   "source": [
    "#Creating a dataframe for the extra eczema images\n",
    "\n",
    "label =['eczema' for img in extra_eczema_images]\n",
    "extra_eczema_df = pd.DataFrame(extra_eczema_images, label).reset_index()\n",
    "extra_eczema_df.columns =['skin_disorder_name', 'images']\n",
    "print(extra_eczema_df.shape)\n",
    "extra_eczema_df.head()"
   ]
  },
  {
   "cell_type": "markdown",
   "metadata": {
    "id": "crMp17y9qV_o"
   },
   "source": [
    "**i. Moving eczema images in the Image folder to their own folder**"
   ]
  },
  {
   "cell_type": "code",
   "execution_count": 31,
   "metadata": {
    "id": "lnlhArs7qV_o",
    "outputId": "94d41a13-34ed-43a9-bc66-c574df004145"
   },
   "outputs": [
    {
     "name": "stdout",
     "output_type": "stream",
     "text": [
      "There are 631 eczema images.\n"
     ]
    },
    {
     "data": {
      "text/plain": [
       "['atopic dermatitis images1058.jpg',\n",
       " 'atopic dermatitis images1059.jpg',\n",
       " 'atopic dermatitis images1060.jpg',\n",
       " 'atopic dermatitis images1061.jpg',\n",
       " 'atopic dermatitis images1062.jpg']"
      ]
     },
     "execution_count": 31,
     "metadata": {},
     "output_type": "execute_result"
    }
   ],
   "source": [
    "# Getting the eczema images file names\n",
    "eczema_img = [image_name for image_name in os.listdir('Images/') if ('eczema' in image_name) |\n",
    "                                                                    ('atopic dermatitis images' in image_name) |\n",
    "                                                                    ('hand dermatitis images' in image_name) | \n",
    "                                                                    (image_name.startswith('dermatitis images'))|\n",
    "                                                                    ('nummular dermatitis images' in image_name)\n",
    "                                                                     ] \n",
    "\n",
    "# Confirming the number of eczema images before any cleaning\n",
    "print('There are', len(eczema_img),'eczema images.')\n",
    "eczema_img[:5]"
   ]
  },
  {
   "cell_type": "code",
   "execution_count": 32,
   "metadata": {
    "id": "WdlcE53rqV_p"
   },
   "outputs": [],
   "source": [
    "# Creating a new folder with just eczema images to make cleaning easier\n",
    "folder_name = 'cleaned_images/eczema_images/'\n",
    "\n",
    "# Note📝: For reproducibility of the code, this step is important.\n",
    "         # If the folder is not dropped before an error will occur if you rerun this cell\n",
    "         \n",
    "# Checking if the folder exists and deleting it if it exists         \n",
    "if os.path.exists(folder_name):\n",
    "    # deleting the folder and its contents\n",
    "    shutil.rmtree(folder_name)\n",
    "\n",
    "# create the new folder\n",
    "os.mkdir(folder_name)\n",
    "\n",
    "# Moving the images into that folder\n",
    "for img in eczema_img:\n",
    "    origin = os.path.join('Images/', img)\n",
    "    destination = os.path.join(folder_name, img)\n",
    "    shutil.copy(origin, destination)"
   ]
  },
  {
   "cell_type": "code",
   "execution_count": 33,
   "metadata": {
    "id": "2Bm8cKhDqV_p",
    "outputId": "afeccd3f-f52c-4d4b-8249-78a2585e8cd7"
   },
   "outputs": [
    {
     "name": "stdout",
     "output_type": "stream",
     "text": [
      "There are 631 eczema images.\n"
     ]
    }
   ],
   "source": [
    "# Confirming that the number of eczema images after moving them to a separate folder is still 631\n",
    "eczema_img = [image_name for image_name in os.listdir('cleaned_images/eczema_images/')] \n",
    "print('There are', len(eczema_img),'eczema images.')"
   ]
  },
  {
   "cell_type": "markdown",
   "metadata": {
    "id": "BImSMt-TqV_p"
   },
   "source": [
    "**ii. Dropping links from the 'images' column in the eczema_df and replacing them with the image name**"
   ]
  },
  {
   "cell_type": "code",
   "execution_count": 34,
   "metadata": {
    "id": "gw51SZRcqV_p",
    "outputId": "d590bfca-0d41-4e27-bc7b-1a249e6c37ef"
   },
   "outputs": [
    {
     "data": {
      "text/html": [
       "<div>\n",
       "<style scoped>\n",
       "    .dataframe tbody tr th:only-of-type {\n",
       "        vertical-align: middle;\n",
       "    }\n",
       "\n",
       "    .dataframe tbody tr th {\n",
       "        vertical-align: top;\n",
       "    }\n",
       "\n",
       "    .dataframe thead th {\n",
       "        text-align: right;\n",
       "    }\n",
       "</style>\n",
       "<table border=\"1\" class=\"dataframe\">\n",
       "  <thead>\n",
       "    <tr style=\"text-align: right;\">\n",
       "      <th></th>\n",
       "      <th>skin_disorder_name</th>\n",
       "      <th>images</th>\n",
       "    </tr>\n",
       "  </thead>\n",
       "  <tbody>\n",
       "    <tr>\n",
       "      <th>1058</th>\n",
       "      <td>atopic dermatitis images</td>\n",
       "      <td>atopic dermatitis images1058.jpg</td>\n",
       "    </tr>\n",
       "    <tr>\n",
       "      <th>1059</th>\n",
       "      <td>atopic dermatitis images</td>\n",
       "      <td>atopic dermatitis images1059.jpg</td>\n",
       "    </tr>\n",
       "    <tr>\n",
       "      <th>1060</th>\n",
       "      <td>atopic dermatitis images</td>\n",
       "      <td>atopic dermatitis images1060.jpg</td>\n",
       "    </tr>\n",
       "    <tr>\n",
       "      <th>1061</th>\n",
       "      <td>atopic dermatitis images</td>\n",
       "      <td>atopic dermatitis images1061.jpg</td>\n",
       "    </tr>\n",
       "    <tr>\n",
       "      <th>1062</th>\n",
       "      <td>atopic dermatitis images</td>\n",
       "      <td>atopic dermatitis images1062.jpg</td>\n",
       "    </tr>\n",
       "  </tbody>\n",
       "</table>\n",
       "</div>"
      ],
      "text/plain": [
       "            skin_disorder_name                            images\n",
       "1058  atopic dermatitis images  atopic dermatitis images1058.jpg\n",
       "1059  atopic dermatitis images  atopic dermatitis images1059.jpg\n",
       "1060  atopic dermatitis images  atopic dermatitis images1060.jpg\n",
       "1061  atopic dermatitis images  atopic dermatitis images1061.jpg\n",
       "1062  atopic dermatitis images  atopic dermatitis images1062.jpg"
      ]
     },
     "execution_count": 34,
     "metadata": {},
     "output_type": "execute_result"
    }
   ],
   "source": [
    "# So that the two dataframes can match, we dropped the image links in  eczema_df \n",
    "# and replaced them with the image names\n",
    "\n",
    "eczema_images = pd.DataFrame(eczema_img, columns=['images'])\n",
    "eczema_df = eczema_df.copy()\n",
    "eczema_df.drop('images', axis=1, inplace=True)\n",
    "eczema_df['images'] = eczema_images['images'].values\n",
    "eczema_df.head()"
   ]
  },
  {
   "cell_type": "markdown",
   "metadata": {
    "id": "GtweAhkuqV_q"
   },
   "source": [
    "**iii. Joining the two dataframes**"
   ]
  },
  {
   "cell_type": "code",
   "execution_count": 35,
   "metadata": {
    "id": "v5CdfETBqV_q",
    "outputId": "90d4d220-7697-42da-85d3-b45e5e83e25a"
   },
   "outputs": [
    {
     "name": "stdout",
     "output_type": "stream",
     "text": [
      "<class 'pandas.core.frame.DataFrame'>\n",
      "RangeIndex: 1367 entries, 0 to 1366\n",
      "Data columns (total 2 columns):\n",
      " #   Column              Non-Null Count  Dtype \n",
      "---  ------              --------------  ----- \n",
      " 0   skin_disorder_name  1367 non-null   object\n",
      " 1   images              1367 non-null   object\n",
      "dtypes: object(2)\n",
      "memory usage: 21.5+ KB\n",
      "None\n"
     ]
    },
    {
     "data": {
      "text/html": [
       "<div>\n",
       "<style scoped>\n",
       "    .dataframe tbody tr th:only-of-type {\n",
       "        vertical-align: middle;\n",
       "    }\n",
       "\n",
       "    .dataframe tbody tr th {\n",
       "        vertical-align: top;\n",
       "    }\n",
       "\n",
       "    .dataframe thead th {\n",
       "        text-align: right;\n",
       "    }\n",
       "</style>\n",
       "<table border=\"1\" class=\"dataframe\">\n",
       "  <thead>\n",
       "    <tr style=\"text-align: right;\">\n",
       "      <th></th>\n",
       "      <th>skin_disorder_name</th>\n",
       "      <th>images</th>\n",
       "    </tr>\n",
       "  </thead>\n",
       "  <tbody>\n",
       "    <tr>\n",
       "      <th>0</th>\n",
       "      <td>atopic dermatitis images</td>\n",
       "      <td>atopic dermatitis images1058.jpg</td>\n",
       "    </tr>\n",
       "    <tr>\n",
       "      <th>1</th>\n",
       "      <td>atopic dermatitis images</td>\n",
       "      <td>atopic dermatitis images1059.jpg</td>\n",
       "    </tr>\n",
       "    <tr>\n",
       "      <th>2</th>\n",
       "      <td>atopic dermatitis images</td>\n",
       "      <td>atopic dermatitis images1060.jpg</td>\n",
       "    </tr>\n",
       "    <tr>\n",
       "      <th>3</th>\n",
       "      <td>atopic dermatitis images</td>\n",
       "      <td>atopic dermatitis images1061.jpg</td>\n",
       "    </tr>\n",
       "    <tr>\n",
       "      <th>4</th>\n",
       "      <td>atopic dermatitis images</td>\n",
       "      <td>atopic dermatitis images1062.jpg</td>\n",
       "    </tr>\n",
       "  </tbody>\n",
       "</table>\n",
       "</div>"
      ],
      "text/plain": [
       "         skin_disorder_name                            images\n",
       "0  atopic dermatitis images  atopic dermatitis images1058.jpg\n",
       "1  atopic dermatitis images  atopic dermatitis images1059.jpg\n",
       "2  atopic dermatitis images  atopic dermatitis images1060.jpg\n",
       "3  atopic dermatitis images  atopic dermatitis images1061.jpg\n",
       "4  atopic dermatitis images  atopic dermatitis images1062.jpg"
      ]
     },
     "execution_count": 35,
     "metadata": {},
     "output_type": "execute_result"
    }
   ],
   "source": [
    "# Creating a dataframe with all of the eczema images\n",
    "\n",
    "eczema_df_complete = pd.concat([eczema_df, extra_eczema_df], axis=0).reset_index()\n",
    "eczema_df_complete.drop('index', axis=1, inplace=True)\n",
    "print(eczema_df_complete.info())\n",
    "eczema_df_complete.head()"
   ]
  },
  {
   "cell_type": "markdown",
   "metadata": {
    "id": "WlkUMl_oqV_q"
   },
   "source": [
    "**iv. Combining the images into one folder**"
   ]
  },
  {
   "cell_type": "code",
   "execution_count": 36,
   "metadata": {
    "id": "j8a4w1xYqV_q"
   },
   "outputs": [],
   "source": [
    "# This was done by moving the extra images into the eczema folder\n",
    "for img in extra_eczema_images:\n",
    "    origin = os.path.join('extra_images/extra_eczema_images_clean/', img)\n",
    "    destination = os.path.join('cleaned_images/eczema_images/', img)\n",
    "    shutil.copy(origin, destination)"
   ]
  },
  {
   "cell_type": "code",
   "execution_count": 37,
   "metadata": {
    "id": "C9yaGxE9qV_q",
    "outputId": "4147898e-bf2c-497c-8fcc-5b2d8793505e"
   },
   "outputs": [
    {
     "name": "stdout",
     "output_type": "stream",
     "text": [
      "There are a total of 1367 eczema images.\n"
     ]
    }
   ],
   "source": [
    "# Confirming that the total acne images is 1367 before any cleaning\n",
    "\n",
    "eczema_img = [image_name for image_name in os.listdir('cleaned_images/eczema_images/')] \n",
    "print('There are a total of', len(eczema_img),'eczema images.')"
   ]
  },
  {
   "cell_type": "markdown",
   "metadata": {
    "id": "9Iuwfb_EqV_r"
   },
   "source": [
    "**v. Removing duplicated images from the folder**"
   ]
  },
  {
   "cell_type": "code",
   "execution_count": 38,
   "metadata": {
    "id": "P9qt21AKqV_r",
    "outputId": "219b5e3f-b0f1-4704-f95e-9e0a4b9f4983"
   },
   "outputs": [
    {
     "data": {
      "text/plain": [
       "['atopic eczema images1147.jpg',\n",
       " 'atopic eczema images1148.jpg',\n",
       " 'atopic eczema images1149.jpg',\n",
       " 'atopic eczema images1150.jpg',\n",
       " 'atopic eczema images1151.jpg']"
      ]
     },
     "execution_count": 38,
     "metadata": {},
     "output_type": "execute_result"
    }
   ],
   "source": [
    "# Using a function created earlier to drop duplicates\n",
    "\n",
    "duplicated_images = drop_duplicated_images('cleaned_images/eczema_images/')\n",
    "duplicated_images[:5]"
   ]
  },
  {
   "cell_type": "code",
   "execution_count": 39,
   "metadata": {
    "id": "nXfim0hEqV_s",
    "outputId": "76308d7e-29fd-4488-fd97-df61f665fe03"
   },
   "outputs": [
    {
     "name": "stdout",
     "output_type": "stream",
     "text": [
      "There are 1000 eczema images after removing duplicated images.\n"
     ]
    }
   ],
   "source": [
    "# Confirming the number of images after dropping duplicates\n",
    "\n",
    "eczema_img = [image_name for image_name in os.listdir('cleaned_images/eczema_images/')] \n",
    "print('There are', len(eczema_img),'eczema images after removing duplicated images.')"
   ]
  },
  {
   "cell_type": "code",
   "execution_count": 40,
   "metadata": {
    "id": "wleFLa7MqV_s",
    "outputId": "a3d653dc-c847-4a0b-fa23-2ba1f0e60ce8"
   },
   "outputs": [
    {
     "data": {
      "text/plain": [
       "[89, 90, 91, 92, 93, 94, 95, 96, 97, 98]"
      ]
     },
     "execution_count": 40,
     "metadata": {},
     "output_type": "execute_result"
    }
   ],
   "source": [
    "# Getting the indexes of the duplicated images so that they can be dropped from the eczema_df_complete too.\n",
    "\n",
    "duplicated_indexes = [eczema_df_complete[eczema_df_complete['images'] == image_name].index[0] \\\n",
    "                      for image_name in eczema_df_complete['images']\\\n",
    "                      if image_name in duplicated_images]\n",
    "duplicated_indexes[:10]"
   ]
  },
  {
   "cell_type": "code",
   "execution_count": 41,
   "metadata": {
    "id": "rgHLSwcxqV_t",
    "outputId": "0d6490c5-750f-4397-a29d-2941f4a1a83c"
   },
   "outputs": [
    {
     "name": "stdout",
     "output_type": "stream",
     "text": [
      "<class 'pandas.core.frame.DataFrame'>\n",
      "Int64Index: 1000 entries, 0 to 1366\n",
      "Data columns (total 2 columns):\n",
      " #   Column              Non-Null Count  Dtype \n",
      "---  ------              --------------  ----- \n",
      " 0   skin_disorder_name  1000 non-null   object\n",
      " 1   images              1000 non-null   object\n",
      "dtypes: object(2)\n",
      "memory usage: 23.4+ KB\n"
     ]
    }
   ],
   "source": [
    "# Dropping duplicated images from the dataframe.\n",
    "eczema_df_complete = eczema_df_complete .copy()\n",
    "eczema_df_complete .drop(duplicated_indexes, axis=0, inplace=True)\n",
    "eczema_df_complete .info()"
   ]
  },
  {
   "cell_type": "markdown",
   "metadata": {
    "id": "GEAzH--SqV_t"
   },
   "source": [
    "**vi. Changing the label to just eczema**"
   ]
  },
  {
   "cell_type": "code",
   "execution_count": 42,
   "metadata": {
    "id": "_si4Uqk7qV_u",
    "outputId": "bb9e71eb-1a19-4a35-8a50-528d049e4c1e"
   },
   "outputs": [
    {
     "name": "stdout",
     "output_type": "stream",
     "text": [
      "(1000, 2)\n"
     ]
    },
    {
     "data": {
      "text/html": [
       "<div>\n",
       "<style scoped>\n",
       "    .dataframe tbody tr th:only-of-type {\n",
       "        vertical-align: middle;\n",
       "    }\n",
       "\n",
       "    .dataframe tbody tr th {\n",
       "        vertical-align: top;\n",
       "    }\n",
       "\n",
       "    .dataframe thead th {\n",
       "        text-align: right;\n",
       "    }\n",
       "</style>\n",
       "<table border=\"1\" class=\"dataframe\">\n",
       "  <thead>\n",
       "    <tr style=\"text-align: right;\">\n",
       "      <th></th>\n",
       "      <th>skin_disorder_name</th>\n",
       "      <th>images</th>\n",
       "    </tr>\n",
       "  </thead>\n",
       "  <tbody>\n",
       "    <tr>\n",
       "      <th>0</th>\n",
       "      <td>eczema</td>\n",
       "      <td>atopic dermatitis images1058.jpg</td>\n",
       "    </tr>\n",
       "    <tr>\n",
       "      <th>1</th>\n",
       "      <td>eczema</td>\n",
       "      <td>atopic dermatitis images1059.jpg</td>\n",
       "    </tr>\n",
       "    <tr>\n",
       "      <th>2</th>\n",
       "      <td>eczema</td>\n",
       "      <td>atopic dermatitis images1060.jpg</td>\n",
       "    </tr>\n",
       "    <tr>\n",
       "      <th>3</th>\n",
       "      <td>eczema</td>\n",
       "      <td>atopic dermatitis images1061.jpg</td>\n",
       "    </tr>\n",
       "    <tr>\n",
       "      <th>4</th>\n",
       "      <td>eczema</td>\n",
       "      <td>atopic dermatitis images1062.jpg</td>\n",
       "    </tr>\n",
       "  </tbody>\n",
       "</table>\n",
       "</div>"
      ],
      "text/plain": [
       "  skin_disorder_name                            images\n",
       "0             eczema  atopic dermatitis images1058.jpg\n",
       "1             eczema  atopic dermatitis images1059.jpg\n",
       "2             eczema  atopic dermatitis images1060.jpg\n",
       "3             eczema  atopic dermatitis images1061.jpg\n",
       "4             eczema  atopic dermatitis images1062.jpg"
      ]
     },
     "execution_count": 42,
     "metadata": {},
     "output_type": "execute_result"
    }
   ],
   "source": [
    "eczema_df_complete['skin_disorder_name'] = 'eczema'\n",
    "print(eczema_df_complete.shape)\n",
    "eczema_df_complete.head()"
   ]
  },
  {
   "cell_type": "markdown",
   "metadata": {
    "id": "Ji65coJbqV_u"
   },
   "source": [
    "**vii. Saving the acne_df_complete dataframe as a csv file**"
   ]
  },
  {
   "cell_type": "code",
   "execution_count": 43,
   "metadata": {
    "id": "x4uhBgKPqV_u"
   },
   "outputs": [],
   "source": [
    "eczema_df_complete.to_csv('cleaned_data/eczema.csv', index=False)"
   ]
  },
  {
   "cell_type": "markdown",
   "metadata": {
    "id": "Bru6eErjqV_v"
   },
   "source": [
    "### Actinic keratosis"
   ]
  },
  {
   "cell_type": "markdown",
   "metadata": {
    "id": "ViuKnF7aqV_v"
   },
   "source": [
    "**Meaning** <br>\n",
    "Actinic keratosis(AK) is a skin condition that is caused by long-term exposure to UV rays, resulting in the formation of rough, scaly patches on the skin. It is considered a precancerous condition because it has the potential to develop into squamous cell carcinoma, a type of skin cancer\n",
    "\n",
    "**Causes** <br>\n",
    "The primary cause of actinic keratosis is long-term exposure to UV rays from the sun or other sources such as tanning beds. People with fair skin, light-colored hair, and light-colored eyes are at a higher risk of developing AK. Other risk factors include a history of frequent sunburns, a weakened immune system, and exposure to chemicals such as coal tar or arsenic.\n",
    "\n",
    "**Symptoms** <br>\n",
    "The most common symptom of actinic keratosis is the formation of rough, scaly patches or lesions on the skin. These patches can be pink, red, or brown in color and may feel like sandpaper. They are usually found on areas of the skin that are frequently exposed to the sun, such as the face, scalp, ears, neck, hands, and arms. In some cases, the patches may itch or burn, and they may become inflamed or bleed if they are scratched or rubbed.\n",
    "\n",
    "**Treatment** <br>\n",
    "The treatment of actinic keratosis depends on the severity of the condition. Mild cases may be treated with topical creams or gels that contain medications such as imiquimod, fluorouracil, or diclofenac. These medications work by stimulating the immune system or causing the abnormal cells to die off. In more severe cases, cryotherapy (freezing the lesions with liquid nitrogen) or curettage (scraping off the lesions with a special tool) may be necessary. In rare cases where the lesions have developed into skin cancer, surgical removal may be required. It is also important to take steps to prevent further damage to the skin, such as wearing protective clothing and sunscreen, avoiding tanning beds, and staying out of the sun during peak hours.\n"
   ]
  },
  {
   "cell_type": "code",
   "execution_count": 44,
   "metadata": {
    "id": "LFbVJgU1qV_v",
    "outputId": "c25c54b0-dcf8-4853-cab8-d0e8622fad3a"
   },
   "outputs": [
    {
     "name": "stdout",
     "output_type": "stream",
     "text": [
      "['actinic keratosis affecting the face images'\n",
      " 'actinic keratosis affecting the hand images'\n",
      " 'actinic keratosis affecting the legs and feet images'\n",
      " 'actinic keratosis affecting the scalp images'\n",
      " 'actinic keratosis dermoscopy images'\n",
      " 'actinic keratosis on the nose images'\n",
      " 'actinic keratosis treated with imiquimod images'\n",
      " 'granular parakeratosis images' 'keratosis pilaris images'\n",
      " 'seborrhoeic keratosis dermoscopy images' 'seborrhoeic keratosis images'\n",
      " 'solar keratosis affecting the face images'\n",
      " 'solar keratosis affecting the hand images'\n",
      " 'solar keratosis affecting the legs and feet images'\n",
      " 'solar keratosis affecting the scalp images'\n",
      " 'solar keratosis on the nose images'\n",
      " 'solar keratosis treated with imiquimod images']\n"
     ]
    }
   ],
   "source": [
    "# image labels with the name keratosis\n",
    "print(image_df[image_df['skin_disorder_name'].str.contains('keratosis')]['skin_disorder_name'].unique())"
   ]
  },
  {
   "cell_type": "markdown",
   "metadata": {
    "id": "R4KskZMPqV_v"
   },
   "source": [
    "Actinic keratosis is also known as solar keratosis or senile keratosis"
   ]
  },
  {
   "cell_type": "code",
   "execution_count": 45,
   "metadata": {
    "id": "pXYv5NcGqV_v",
    "outputId": "e5d3dc5f-5904-44d4-bb05-ea2738ffe5b4"
   },
   "outputs": [
    {
     "name": "stdout",
     "output_type": "stream",
     "text": [
      "(427, 2)\n"
     ]
    },
    {
     "data": {
      "text/html": [
       "<div>\n",
       "<style scoped>\n",
       "    .dataframe tbody tr th:only-of-type {\n",
       "        vertical-align: middle;\n",
       "    }\n",
       "\n",
       "    .dataframe tbody tr th {\n",
       "        vertical-align: top;\n",
       "    }\n",
       "\n",
       "    .dataframe thead th {\n",
       "        text-align: right;\n",
       "    }\n",
       "</style>\n",
       "<table border=\"1\" class=\"dataframe\">\n",
       "  <thead>\n",
       "    <tr style=\"text-align: right;\">\n",
       "      <th></th>\n",
       "      <th>skin_disorder_name</th>\n",
       "      <th>images</th>\n",
       "    </tr>\n",
       "  </thead>\n",
       "  <tbody>\n",
       "    <tr>\n",
       "      <th>504</th>\n",
       "      <td>actinic keratosis affecting the face images</td>\n",
       "      <td>https://dermnetnz.org/assets/Uploads/lesions/a...</td>\n",
       "    </tr>\n",
       "    <tr>\n",
       "      <th>505</th>\n",
       "      <td>actinic keratosis affecting the face images</td>\n",
       "      <td>https://dermnetnz.org/assets/Uploads/lesions/a...</td>\n",
       "    </tr>\n",
       "  </tbody>\n",
       "</table>\n",
       "</div>"
      ],
      "text/plain": [
       "                              skin_disorder_name  \\\n",
       "504  actinic keratosis affecting the face images   \n",
       "505  actinic keratosis affecting the face images   \n",
       "\n",
       "                                                images  \n",
       "504  https://dermnetnz.org/assets/Uploads/lesions/a...  \n",
       "505  https://dermnetnz.org/assets/Uploads/lesions/a...  "
      ]
     },
     "execution_count": 45,
     "metadata": {},
     "output_type": "execute_result"
    }
   ],
   "source": [
    "# dataframe with actinic keratosis and solar keratosis labels\n",
    "keratosis_df = image_df[(image_df['skin_disorder_name'].str.contains('actinic keratosis')) | \\\n",
    "                  (image_df['skin_disorder_name'].str.contains('solar keratosis'))]\n",
    "print(keratosis_df.shape)\n",
    "keratosis_df.head(2)"
   ]
  },
  {
   "cell_type": "code",
   "execution_count": 46,
   "metadata": {
    "id": "e04yW6XFqV_w",
    "outputId": "026c6b38-96eb-4687-c2cb-74c6cb381b39"
   },
   "outputs": [
    {
     "name": "stdout",
     "output_type": "stream",
     "text": [
      "(1391, 2)\n"
     ]
    },
    {
     "data": {
      "text/html": [
       "<div>\n",
       "<style scoped>\n",
       "    .dataframe tbody tr th:only-of-type {\n",
       "        vertical-align: middle;\n",
       "    }\n",
       "\n",
       "    .dataframe tbody tr th {\n",
       "        vertical-align: top;\n",
       "    }\n",
       "\n",
       "    .dataframe thead th {\n",
       "        text-align: right;\n",
       "    }\n",
       "</style>\n",
       "<table border=\"1\" class=\"dataframe\">\n",
       "  <thead>\n",
       "    <tr style=\"text-align: right;\">\n",
       "      <th></th>\n",
       "      <th>skin_disorder_name</th>\n",
       "      <th>images</th>\n",
       "    </tr>\n",
       "  </thead>\n",
       "  <tbody>\n",
       "    <tr>\n",
       "      <th>504</th>\n",
       "      <td>actinic keratosis affecting the face images</td>\n",
       "      <td>https://dermnetnz.org/assets/Uploads/lesions/a...</td>\n",
       "    </tr>\n",
       "    <tr>\n",
       "      <th>505</th>\n",
       "      <td>actinic keratosis affecting the face images</td>\n",
       "      <td>https://dermnetnz.org/assets/Uploads/lesions/a...</td>\n",
       "    </tr>\n",
       "    <tr>\n",
       "      <th>506</th>\n",
       "      <td>actinic keratosis affecting the face images</td>\n",
       "      <td>https://dermnetnz.org/assets/Uploads/lesions/a...</td>\n",
       "    </tr>\n",
       "    <tr>\n",
       "      <th>507</th>\n",
       "      <td>actinic keratosis affecting the face images</td>\n",
       "      <td>https://dermnetnz.org/assets/Uploads/lesions/a...</td>\n",
       "    </tr>\n",
       "  </tbody>\n",
       "</table>\n",
       "</div>"
      ],
      "text/plain": [
       "                              skin_disorder_name  \\\n",
       "504  actinic keratosis affecting the face images   \n",
       "505  actinic keratosis affecting the face images   \n",
       "506  actinic keratosis affecting the face images   \n",
       "507  actinic keratosis affecting the face images   \n",
       "\n",
       "                                                images  \n",
       "504  https://dermnetnz.org/assets/Uploads/lesions/a...  \n",
       "505  https://dermnetnz.org/assets/Uploads/lesions/a...  \n",
       "506  https://dermnetnz.org/assets/Uploads/lesions/a...  \n",
       "507  https://dermnetnz.org/assets/Uploads/lesions/a...  "
      ]
     },
     "execution_count": 46,
     "metadata": {},
     "output_type": "execute_result"
    }
   ],
   "source": [
    "# extra keratosis dataframes\n",
    "#first dataframe\n",
    "df = pd.read_csv('Data/ISIC_2019_Training_GroundTruth.csv')\n",
    "\n",
    "# filter df to get rows where AK = 1.0\n",
    "df1 = df.copy()\n",
    "df1 = df1[df1['AK'] == 1.0]\n",
    "df1['skin_disorder_name'] = df1['images']\n",
    "\n",
    "# drop the unwanted columns from df\n",
    "df1 = df1.drop(['MEL', 'NV', 'BCC', 'AK', 'BKL', 'DF', 'VASC', 'SCC', 'UNK'], axis=1)\n",
    "\n",
    "# Loop through each file in the folder and add the skin disorder name to the list\n",
    "img_names = []\n",
    "image_paths = []\n",
    "\n",
    "for file in os.listdir('extra_images/extra_actinic_keratosis_images'):\n",
    "    if file.endswith(\".jpg\"):\n",
    "        skin_disorder_name = file.split(\".\")[0]\n",
    "        img_names.append(skin_disorder_name)\n",
    "        image_paths.append(file)\n",
    "\n",
    "# Create a second Pandas DataFrame with the list of skin disorder names\n",
    "df2 = pd.DataFrame({\"skin_disorder_name\": img_names, \"images\": image_paths})\n",
    "\n",
    "# Merge the dataframes\n",
    "AK_df = pd.concat([keratosis_df, df1, df2], axis=0)\n",
    "\n",
    "# display the merged dataframe\n",
    "print(AK_df.shape)\n",
    "AK_df.head(4)"
   ]
  },
  {
   "cell_type": "code",
   "execution_count": 47,
   "metadata": {
    "id": "GZui2xvcqV_w",
    "outputId": "677ae62b-57e7-4e85-fa1e-b7cb6ce99763"
   },
   "outputs": [
    {
     "name": "stdout",
     "output_type": "stream",
     "text": [
      "There are 1391 actinic keratosis images\n"
     ]
    }
   ],
   "source": [
    "# Getting the keratosis images file names\n",
    "keratosis_img = [image_name for image_name in os.listdir('Images/') if ('actinic keratosis' in image_name) | ('solar keratosis' in image_name)]\n",
    "AK_img = [image_name for image_name in os.listdir('extra_images/extra_AK_and_BKL_images') if any(x in image_name for x in df1['images'].tolist())]\n",
    "AK_img2 = [image_name for image_name in os.listdir('extra_images/extra_actinic_keratosis_images')]\n",
    "\n",
    "# Checking if the folder exists and deleting it if it exists\n",
    "if os.path.exists('cleaned_images/keratosis_images/'):\n",
    "    # deleting the folder and its contents\n",
    "    shutil.rmtree('cleaned_images/keratosis_images/')\n",
    "    \n",
    "# Creating a new folder with just keratosis images to make cleaning easier\n",
    "os.mkdir('cleaned_images/keratosis_images/')\n",
    "for img in keratosis_img:\n",
    "    origin = os.path.join('Images/', img)\n",
    "    destination = os.path.join('cleaned_images/keratosis_images/', img)\n",
    "    shutil.copy(origin, destination)\n",
    "\n",
    "for img in AK_img:\n",
    "    origin = os.path.join('extra_images/extra_AK_and_BKL_images/', img)\n",
    "    destination = os.path.join('cleaned_images/keratosis_images/', img)\n",
    "    shutil.copy(origin, destination)\n",
    "\n",
    "for img in AK_img2:\n",
    "    origin = os.path.join('extra_images/extra_actinic_keratosis_images/', img)\n",
    "    destination = os.path.join('cleaned_images/keratosis_images/', img)\n",
    "    shutil.copy(origin, destination)\n",
    "    \n",
    "# Confirming that the number of keratosis images after moving them to a separate folder is still 1294\n",
    "keratosis_img = [image_name for image_name in os.listdir('cleaned_images/keratosis_images/')] \n",
    "print('There are', len(keratosis_img),'actinic keratosis images')"
   ]
  },
  {
   "cell_type": "code",
   "execution_count": 48,
   "metadata": {
    "id": "d6nhTExaqV_w",
    "outputId": "f786761c-c6f4-4972-dd4f-d9fa4fe0cd20"
   },
   "outputs": [
    {
     "data": {
      "text/plain": [
       "['ISIC_0072940.jpg',\n",
       " 'ISIC_0073068.jpg',\n",
       " 'ISIC_0073157.jpg',\n",
       " 'ISIC_0073198.jpg']"
      ]
     },
     "execution_count": 48,
     "metadata": {},
     "output_type": "execute_result"
    }
   ],
   "source": [
    "# call function to drop duplicates from image folder \n",
    "duplicated_images = drop_duplicated_images('cleaned_images/keratosis_images/')\n",
    "duplicated_images[184:188]"
   ]
  },
  {
   "cell_type": "code",
   "execution_count": 49,
   "metadata": {
    "id": "YAuyWk94qV_x",
    "outputId": "3cf5ee0a-0cda-41ec-f5bf-aca185579aed"
   },
   "outputs": [
    {
     "name": "stdout",
     "output_type": "stream",
     "text": [
      "Number of ctinic keratosis images after removing duplicated images: 1000\n",
      "Shape of Actinic keratosis dataframe(1000, 2)\n"
     ]
    }
   ],
   "source": [
    "# number of images after removing duplicates\n",
    "keratosis_img = [image_name for image_name in os.listdir('cleaned_images/keratosis_images/')] \n",
    "print('Number of ctinic keratosis images after removing duplicated images:', len(keratosis_img))\n",
    "\n",
    "# Remove duplicate images from the dataframe\n",
    "# for the first keratosis_df, the image name on folder has index added to skin_disorder_name \n",
    "mask = AK_df['skin_disorder_name'].str.contains('actinic keratosis') | AK_df['skin_disorder_name'].str.contains('solar keratosis')\n",
    "AK_df.loc[mask, 'skin_disorder_name'] = AK_df.loc[mask, 'skin_disorder_name'] + AK_df.loc[mask].index.astype(str)\n",
    "AK_df['skin_disorder_name'] = AK_df['skin_disorder_name'].apply(lambda x: x + '.jpg')\n",
    "duplicated_df = AK_df[AK_df['skin_disorder_name'].isin(duplicated_images)]\n",
    "merged_df = AK_df.merge(duplicated_df, on=\"skin_disorder_name\", how=\"outer\", indicator=True)\n",
    "AK_df = merged_df.loc[merged_df[\"_merge\"]==\"left_only\"].drop_duplicates(subset=[\"skin_disorder_name\"]).drop(columns=['images_y', '_merge'])\n",
    "print(f'Shape of Actinic keratosis dataframe{AK_df.shape}')"
   ]
  },
  {
   "cell_type": "markdown",
   "metadata": {
    "id": "auHvyJ2ZqV_x"
   },
   "source": [
    "The images and the dataframe have the same number of rows, 1000, on removing duplicates"
   ]
  },
  {
   "cell_type": "code",
   "execution_count": 50,
   "metadata": {
    "id": "2rs1vwC3qV_x",
    "outputId": "196ec68c-3824-41b4-dae7-f52e95be2e32"
   },
   "outputs": [
    {
     "data": {
      "text/html": [
       "<div>\n",
       "<style scoped>\n",
       "    .dataframe tbody tr th:only-of-type {\n",
       "        vertical-align: middle;\n",
       "    }\n",
       "\n",
       "    .dataframe tbody tr th {\n",
       "        vertical-align: top;\n",
       "    }\n",
       "\n",
       "    .dataframe thead th {\n",
       "        text-align: right;\n",
       "    }\n",
       "</style>\n",
       "<table border=\"1\" class=\"dataframe\">\n",
       "  <thead>\n",
       "    <tr style=\"text-align: right;\">\n",
       "      <th></th>\n",
       "      <th>skin_disorder_name</th>\n",
       "      <th>images</th>\n",
       "    </tr>\n",
       "  </thead>\n",
       "  <tbody>\n",
       "    <tr>\n",
       "      <th>0</th>\n",
       "      <td>actinic keratosis</td>\n",
       "      <td>https://dermnetnz.org/assets/Uploads/lesions/a...</td>\n",
       "    </tr>\n",
       "    <tr>\n",
       "      <th>1</th>\n",
       "      <td>actinic keratosis</td>\n",
       "      <td>https://dermnetnz.org/assets/Uploads/lesions/a...</td>\n",
       "    </tr>\n",
       "    <tr>\n",
       "      <th>2</th>\n",
       "      <td>actinic keratosis</td>\n",
       "      <td>https://dermnetnz.org/assets/Uploads/lesions/a...</td>\n",
       "    </tr>\n",
       "    <tr>\n",
       "      <th>3</th>\n",
       "      <td>actinic keratosis</td>\n",
       "      <td>https://dermnetnz.org/assets/Uploads/lesions/a...</td>\n",
       "    </tr>\n",
       "  </tbody>\n",
       "</table>\n",
       "</div>"
      ],
      "text/plain": [
       "  skin_disorder_name                                             images\n",
       "0  actinic keratosis  https://dermnetnz.org/assets/Uploads/lesions/a...\n",
       "1  actinic keratosis  https://dermnetnz.org/assets/Uploads/lesions/a...\n",
       "2  actinic keratosis  https://dermnetnz.org/assets/Uploads/lesions/a...\n",
       "3  actinic keratosis  https://dermnetnz.org/assets/Uploads/lesions/a..."
      ]
     },
     "execution_count": 50,
     "metadata": {},
     "output_type": "execute_result"
    }
   ],
   "source": [
    "# rename the values of skin_disorder_name column to actinic keratosis\n",
    "AK_df['skin_disorder_name'] = AK_df['skin_disorder_name'].replace(AK_df['skin_disorder_name'].unique(), 'actinic keratosis')\n",
    "AK_df = AK_df.rename(columns={'images_x': 'images'})\n",
    "AK_df.head(4)"
   ]
  },
  {
   "cell_type": "code",
   "execution_count": 51,
   "metadata": {
    "id": "jRlJa6O1qV_x"
   },
   "outputs": [],
   "source": [
    "# save BKL dataframe to csv file\n",
    "AK_df.to_csv('cleaned_data/AK.csv', index=False)"
   ]
  },
  {
   "cell_type": "markdown",
   "metadata": {
    "id": "HGdwizDmqV_y"
   },
   "source": [
    "## Benign Keratosis-like Lesions"
   ]
  },
  {
   "cell_type": "markdown",
   "metadata": {
    "id": "tB9RBN7jqV_y"
   },
   "source": [
    "**Meaning** <br>\n",
    "Benign Keratosis-like Lesions (BKL) are a group of benign skin lesions that resemble actinic keratosis (AK) but are not classified as AK because they do not have the same degree of dysplasia. BKL lesions can appear as small, scaly, or waxy bumps on the skin, ranging in color from light tan to dark brown. They typically occur on areas of the skin that have been exposed to the sun, such as the face, neck, scalp, and hands. Examples of BKL lesions include seborrheic keratosis, solar lentigo, and lichen planus-like keratosis.\n",
    " \n",
    "**Causes** <br>\n",
    "The exact cause of BKL is not known, but it is believed to be related to long-term sun exposure. Other factors that may contribute to the development of BKL include a weakened immune system, age, and a history of other skin conditions.\n",
    "\n",
    "**Symptoms**\n",
    "BKL lesions typically appear as small, scaly, or waxy bumps on the skin. They may be light tan to dark brown in color and may have a rough, textured surface. They can be single or multiple and can occur on any part of the body, but are most commonly found on the face, neck, scalp, and hands.\n",
    "\n",
    "**Treatment**\n",
    "BKL lesions are usually benign and do not require treatment unless they are causing symptoms or affecting the patient's appearance. Treatment options may include cryotherapy (freezing the lesion with liquid nitrogen), curettage (scraping the lesion off the skin), or topical medications such as 5-fluorouracil or imiquimod. In some cases, BKL lesions may be biopsied to confirm the diagnosis or rule out other skin conditions. It is important to protect the skin from sun exposure and to seek medical attention for any suspicious skin lesions."
   ]
  },
  {
   "cell_type": "code",
   "execution_count": 52,
   "metadata": {
    "id": "Aq6EtOkqqV_y",
    "outputId": "235fd5ec-76e2-4d0e-bf3d-f728672faded"
   },
   "outputs": [
    {
     "name": "stdout",
     "output_type": "stream",
     "text": [
      "(1003, 2)\n"
     ]
    },
    {
     "data": {
      "text/html": [
       "<div>\n",
       "<style scoped>\n",
       "    .dataframe tbody tr th:only-of-type {\n",
       "        vertical-align: middle;\n",
       "    }\n",
       "\n",
       "    .dataframe tbody tr th {\n",
       "        vertical-align: top;\n",
       "    }\n",
       "\n",
       "    .dataframe thead th {\n",
       "        text-align: right;\n",
       "    }\n",
       "</style>\n",
       "<table border=\"1\" class=\"dataframe\">\n",
       "  <thead>\n",
       "    <tr style=\"text-align: right;\">\n",
       "      <th></th>\n",
       "      <th>images</th>\n",
       "      <th>skin_disorder_name</th>\n",
       "    </tr>\n",
       "  </thead>\n",
       "  <tbody>\n",
       "    <tr>\n",
       "      <th>1008</th>\n",
       "      <td>ISIC_0010491</td>\n",
       "      <td>ISIC_0010491</td>\n",
       "    </tr>\n",
       "    <tr>\n",
       "      <th>1544</th>\n",
       "      <td>ISIC_0012811</td>\n",
       "      <td>ISIC_0012811</td>\n",
       "    </tr>\n",
       "    <tr>\n",
       "      <th>1619</th>\n",
       "      <td>ISIC_0012998</td>\n",
       "      <td>ISIC_0012998</td>\n",
       "    </tr>\n",
       "  </tbody>\n",
       "</table>\n",
       "</div>"
      ],
      "text/plain": [
       "            images skin_disorder_name\n",
       "1008  ISIC_0010491       ISIC_0010491\n",
       "1544  ISIC_0012811       ISIC_0012811\n",
       "1619  ISIC_0012998       ISIC_0012998"
      ]
     },
     "execution_count": 52,
     "metadata": {},
     "output_type": "execute_result"
    }
   ],
   "source": [
    "# filter df to get rows where BKL = 1.0\n",
    "BKL_df = df.copy()\n",
    "BKL_df = BKL_df[BKL_df['BKL'] == 1.0]\n",
    "BKL_df = BKL_df[~BKL_df[\"images\"].str.contains(\"downsampled\")]\n",
    "BKL_df['skin_disorder_name'] = BKL_df['images']\n",
    "\n",
    "# drop the unwanted columns and rows from df\n",
    "BKL_df = BKL_df.drop(['MEL', 'NV', 'BCC', 'AK', 'BKL', 'DF', 'VASC', 'SCC', 'UNK'], axis=1)\n",
    "BKL_df = BKL_df[:1003]\n",
    "\n",
    "# display the dataframe\n",
    "print(BKL_df.shape)\n",
    "BKL_df.head(3)"
   ]
  },
  {
   "cell_type": "code",
   "execution_count": 53,
   "metadata": {
    "id": "P6hB2_LbqV_y",
    "outputId": "2ce38f6b-5d23-4f34-f9d3-b08a3721dc07"
   },
   "outputs": [
    {
     "name": "stdout",
     "output_type": "stream",
     "text": [
      "There are 1003 BKL images\n"
     ]
    }
   ],
   "source": [
    "# Getting the BKL images file names\n",
    "BKL_img = [image_name for image_name in os.listdir('extra_images/extra_AK_and_BKL_images') if any(x in image_name for x in BKL_df['images'].tolist())]\n",
    "\n",
    "# Checking if the folder exists and deleting it if it exists\n",
    "if os.path.exists('cleaned_images/BKL_images/'):\n",
    "    # deleting the folder and its contents\n",
    "    shutil.rmtree('cleaned_images/BKL_images/')\n",
    "    \n",
    "# Creating a new folder with just BKL images to make cleaning easier\n",
    "os.mkdir('cleaned_images/BKL_images/')\n",
    "for img in BKL_img:\n",
    "    origin = os.path.join('extra_images/extra_AK_and_BKL_images/', img)\n",
    "    destination = os.path.join('cleaned_images/BKL_images/', img)\n",
    "    shutil.copy(origin, destination)\n",
    "    \n",
    "# Confirming that the number of BKL images after moving them to a separate folder is still 1000\n",
    "BKL_img = [image_name for image_name in os.listdir('cleaned_images/BKL_images/')] \n",
    "print('There are', len(BKL_img),'BKL images')"
   ]
  },
  {
   "cell_type": "code",
   "execution_count": 54,
   "metadata": {
    "id": "DPtgMMl2qV_y",
    "outputId": "4b14154e-6bb4-422c-b8ef-7bd7c6dabf97"
   },
   "outputs": [
    {
     "data": {
      "text/plain": [
       "['ISIC_0027218.jpg', 'ISIC_0031511.jpg', 'ISIC_0032315.jpg']"
      ]
     },
     "execution_count": 54,
     "metadata": {},
     "output_type": "execute_result"
    }
   ],
   "source": [
    "# drop duplicates from image folder\n",
    "duplicated_images2 = drop_duplicated_images('cleaned_images/BKL_images/')\n",
    "duplicated_images2"
   ]
  },
  {
   "cell_type": "code",
   "execution_count": 55,
   "metadata": {
    "id": "FReHuJdpqV_z",
    "outputId": "4e38d336-b0d1-476a-90af-0947ac30d3ea"
   },
   "outputs": [
    {
     "name": "stdout",
     "output_type": "stream",
     "text": [
      "Number of BKL images after removing duplicated images: 1000\n",
      "Shape of BKL dataframe: (1000, 2)\n"
     ]
    }
   ],
   "source": [
    "# number of images after removing duplicates\n",
    "BKL_img = [image_name for image_name in os.listdir('cleaned_images/BKL_images/')] \n",
    "print('Number of BKL images after removing duplicated images:', len(BKL_img))\n",
    "\n",
    "#Remove duplicate images from the dataframe\n",
    "BKL_df['skin_disorder_name'] = BKL_df['skin_disorder_name'].apply(lambda x: x + '.jpg')\n",
    "duplicated_df = BKL_df[BKL_df['skin_disorder_name'].isin(duplicated_images2)]\n",
    "merged_df = BKL_df.merge(duplicated_df, on=\"skin_disorder_name\", how=\"outer\", indicator=True)\n",
    "BKL_df = merged_df.loc[merged_df[\"_merge\"]==\"left_only\"].drop_duplicates(subset=[\"skin_disorder_name\"]).drop(columns=['images_y', '_merge'])\n",
    "print(f'Shape of BKL dataframe: {BKL_df.shape}')"
   ]
  },
  {
   "cell_type": "code",
   "execution_count": 56,
   "metadata": {
    "id": "5zpb1VJvqV_z",
    "outputId": "8371779b-8c69-4a8b-907b-4c091ae6339c"
   },
   "outputs": [
    {
     "data": {
      "text/html": [
       "<div>\n",
       "<style scoped>\n",
       "    .dataframe tbody tr th:only-of-type {\n",
       "        vertical-align: middle;\n",
       "    }\n",
       "\n",
       "    .dataframe tbody tr th {\n",
       "        vertical-align: top;\n",
       "    }\n",
       "\n",
       "    .dataframe thead th {\n",
       "        text-align: right;\n",
       "    }\n",
       "</style>\n",
       "<table border=\"1\" class=\"dataframe\">\n",
       "  <thead>\n",
       "    <tr style=\"text-align: right;\">\n",
       "      <th></th>\n",
       "      <th>images</th>\n",
       "      <th>skin_disorder_name</th>\n",
       "    </tr>\n",
       "  </thead>\n",
       "  <tbody>\n",
       "    <tr>\n",
       "      <th>0</th>\n",
       "      <td>ISIC_0010491</td>\n",
       "      <td>Benign Keratosis-like Lesions</td>\n",
       "    </tr>\n",
       "    <tr>\n",
       "      <th>1</th>\n",
       "      <td>ISIC_0012811</td>\n",
       "      <td>Benign Keratosis-like Lesions</td>\n",
       "    </tr>\n",
       "    <tr>\n",
       "      <th>2</th>\n",
       "      <td>ISIC_0012998</td>\n",
       "      <td>Benign Keratosis-like Lesions</td>\n",
       "    </tr>\n",
       "    <tr>\n",
       "      <th>3</th>\n",
       "      <td>ISIC_0024312</td>\n",
       "      <td>Benign Keratosis-like Lesions</td>\n",
       "    </tr>\n",
       "  </tbody>\n",
       "</table>\n",
       "</div>"
      ],
      "text/plain": [
       "         images             skin_disorder_name\n",
       "0  ISIC_0010491  Benign Keratosis-like Lesions\n",
       "1  ISIC_0012811  Benign Keratosis-like Lesions\n",
       "2  ISIC_0012998  Benign Keratosis-like Lesions\n",
       "3  ISIC_0024312  Benign Keratosis-like Lesions"
      ]
     },
     "execution_count": 56,
     "metadata": {},
     "output_type": "execute_result"
    }
   ],
   "source": [
    "# rename the values of skin_disorder_name column to Benign Keratosis-like Lesions\n",
    "BKL_df['skin_disorder_name'] = BKL_df['skin_disorder_name'].replace(BKL_df['skin_disorder_name'].unique(), 'Benign Keratosis-like Lesions')\n",
    "BKL_df = BKL_df.rename(columns={'images_x': 'images'})\n",
    "BKL_df.head(4)"
   ]
  },
  {
   "cell_type": "code",
   "execution_count": 57,
   "metadata": {
    "id": "xkhtHEh9qV_z"
   },
   "outputs": [],
   "source": [
    "# save BKL dataframe to csv file\n",
    "BKL_df.to_csv('cleaned_data/BKL.csv', index=False)"
   ]
  },
  {
   "cell_type": "markdown",
   "metadata": {
    "id": "52x4ABjoqV_z"
   },
   "source": [
    "## Melanoma"
   ]
  },
  {
   "cell_type": "markdown",
   "metadata": {
    "id": "c9c7SyNwqV_0"
   },
   "source": [
    "**Definition**\n",
    "\n",
    "\n",
    "Melanoma is a disease in which malignant (cancer) cells form in melanocytes (cells that color the skin). There are different types of cancer that start in the skin. Melanoma can occur anywhere on the skin. Unusual moles, exposure to sunlight, and health history can affect the risk of melanoma.\n",
    "\n",
    "The most common type of melanoma is superficial spreading melanoma. It tends to spread across the surface of the skin, has uneven borders, and varies in color from brown to black, pink, or red.\n",
    "\n",
    "Nodular melanoma is another type that grows down into deeper layers of the skin and may appear as a raised bump or growth.\n",
    "\n",
    "Lentigo maligna melanoma tends to appear on parts of the body that get more sun, especially the face, and it often affects older people. It looks like a large, uneven dark patch on the surface of the skin.\n",
    "\n",
    "Metastatic melanoma occurs when the cancer spreads, or metastasizes, to other parts of the body, possibly including the lymph nodes, organs, or bones.\n",
    "\n",
    "Other rare types of melanoma also exist, and while it most commonly affects the skin, some affect internal tissues, as well as the eyes."
   ]
  },
  {
   "cell_type": "markdown",
   "metadata": {
    "id": "yO7R1C40qV_1"
   },
   "source": [
    "## Cleaning Melanoma Images"
   ]
  },
  {
   "cell_type": "markdown",
   "metadata": {
    "id": "CHDkysibqV_1"
   },
   "source": [
    "**Creating a dataframe with melanoma images from the data scrapped from DermNet**"
   ]
  },
  {
   "cell_type": "code",
   "execution_count": 58,
   "metadata": {
    "id": "0H1z7oAfqV_2",
    "outputId": "688262fa-168a-47ea-ffc9-7c85912ec022"
   },
   "outputs": [
    {
     "data": {
      "text/plain": [
       "array(['acral lentiginous melanoma images', 'amelanotic melanoma images',\n",
       "       'hypomelanotic malignant melanoma images',\n",
       "       'lentigo maligna melanoma images', 'melanoma in situ images',\n",
       "       'melanoma of nail unit images', 'metastatic melanoma images',\n",
       "       'nodular melanoma images', 'superficial spreading melanoma images'],\n",
       "      dtype=object)"
      ]
     },
     "execution_count": 58,
     "metadata": {},
     "output_type": "execute_result"
    }
   ],
   "source": [
    "## Labels representing melanoma in DermNet's scrapped data\n",
    "melanoma_labels = image_df[image_df['skin_disorder_name'].str.contains('melanoma')]['skin_disorder_name'].unique()\n",
    "melanoma_labels"
   ]
  },
  {
   "cell_type": "code",
   "execution_count": 59,
   "metadata": {
    "id": "YBYrj2THqV_2",
    "outputId": "108cb12d-4fba-4b9a-f6fc-5081696d395d"
   },
   "outputs": [
    {
     "data": {
      "text/plain": [
       "9"
      ]
     },
     "execution_count": 59,
     "metadata": {},
     "output_type": "execute_result"
    }
   ],
   "source": [
    "#there are 9 labels representing melanoma\n",
    "len(melanoma_labels)"
   ]
  },
  {
   "cell_type": "code",
   "execution_count": 60,
   "metadata": {
    "id": "_a_R34GcqV_2",
    "outputId": "bd039788-3866-427e-db03-ec2e53267269"
   },
   "outputs": [
    {
     "name": "stdout",
     "output_type": "stream",
     "text": [
      "<class 'pandas.core.frame.DataFrame'>\n",
      "Int64Index: 469 entries, 473 to 12721\n",
      "Data columns (total 2 columns):\n",
      " #   Column              Non-Null Count  Dtype \n",
      "---  ------              --------------  ----- \n",
      " 0   skin_disorder_name  469 non-null    object\n",
      " 1   images              469 non-null    object\n",
      "dtypes: object(2)\n",
      "memory usage: 11.0+ KB\n"
     ]
    }
   ],
   "source": [
    "# Creating a dataframe with just melanoma labels for easier cleaning\n",
    "\n",
    "melanoma_df = image_df[(image_df['skin_disorder_name'] == melanoma_labels[0]) | \\\n",
    "                   (image_df['skin_disorder_name'] == melanoma_labels[1]) | \\\n",
    "                   (image_df['skin_disorder_name'] == melanoma_labels[2]) | \\\n",
    "                   (image_df['skin_disorder_name'] == melanoma_labels[3]) | \\\n",
    "                   (image_df['skin_disorder_name'] == melanoma_labels[4]) | \\\n",
    "                   (image_df['skin_disorder_name'] == melanoma_labels[5]) | \\\n",
    "                   (image_df['skin_disorder_name'] == melanoma_labels[6]) | \\\n",
    "                   (image_df['skin_disorder_name'] == melanoma_labels[7]) | \\\n",
    "                   (image_df['skin_disorder_name'] == melanoma_labels[8])\n",
    "                 ]\n",
    "melanoma_df.info()"
   ]
  },
  {
   "cell_type": "markdown",
   "metadata": {
    "id": "pFnBxRkCqV_3"
   },
   "source": [
    "#### Moving Melanoma images to their own folder"
   ]
  },
  {
   "cell_type": "code",
   "execution_count": 61,
   "metadata": {
    "id": "RZ_FCTC2qV_3",
    "outputId": "b1e110a0-f794-454b-c5c6-ce010d5fadc0"
   },
   "outputs": [
    {
     "name": "stdout",
     "output_type": "stream",
     "text": [
      "There are 469 melanoma images\n"
     ]
    },
    {
     "data": {
      "text/plain": [
       "['acral lentiginous melanoma images473.jpg',\n",
       " 'acral lentiginous melanoma images474.jpg',\n",
       " 'acral lentiginous melanoma images475.jpg',\n",
       " 'acral lentiginous melanoma images476.png',\n",
       " 'acral lentiginous melanoma images477.jpg',\n",
       " 'acral lentiginous melanoma images478.jpg',\n",
       " 'acral lentiginous melanoma images479.jpg',\n",
       " 'acral lentiginous melanoma images480.jpg',\n",
       " 'acral lentiginous melanoma images481.jpg',\n",
       " 'acral lentiginous melanoma images482.png']"
      ]
     },
     "execution_count": 61,
     "metadata": {},
     "output_type": "execute_result"
    }
   ],
   "source": [
    "# Getting the melanoma images file names\n",
    "melanoma_img = [image_name for image_name in os.listdir('Images/') if 'melanoma' in image_name] \n",
    "\n",
    "# Confirming the number of melanoma images before any cleaning\n",
    "print('There are', len(melanoma_img),'melanoma images')\n",
    "melanoma_img[:10]"
   ]
  },
  {
   "cell_type": "code",
   "execution_count": 62,
   "metadata": {
    "id": "ch5ASfPEqV_3"
   },
   "outputs": [],
   "source": [
    "# Creating a new folder with just melanoma images to make cleaning easier\n",
    "folder_name = 'cleaned_images/melanoma_images/'\n",
    "\n",
    "# Note: For reproducibility of the code, this step is important.\n",
    "# If the folder is not dropped before an error will occur if you rerun this cell\n",
    "\n",
    "# Checking if the folder exists and deleting it if it exists\n",
    "if os.path.exists(folder_name):\n",
    "    # deleting the folder and its contents\n",
    "    shutil.rmtree(folder_name)\n",
    "\n",
    "# create the parent directory if it does not exist\n",
    "parent_dir = os.path.dirname(folder_name)\n",
    "if not os.path.exists(parent_dir):\n",
    "    os.makedirs(parent_dir)\n",
    "\n",
    "# create the new folder if it doesn't exist\n",
    "if not os.path.exists(folder_name):\n",
    "    os.mkdir(folder_name)\n",
    "\n",
    "# Moving the images into that folder\n",
    "for img in melanoma_img:\n",
    "    origin = os.path.join('Images/', img)\n",
    "    destination = os.path.join(folder_name, img)\n",
    "    shutil.copy(origin, destination)"
   ]
  },
  {
   "cell_type": "code",
   "execution_count": 63,
   "metadata": {
    "id": "abcaiaxNqV_3",
    "outputId": "3150ac5a-9c72-4fa7-d9e8-3e130b57098e"
   },
   "outputs": [
    {
     "name": "stdout",
     "output_type": "stream",
     "text": [
      "There are a total of 469 melanoma images.\n"
     ]
    }
   ],
   "source": [
    "# Confirming that the total melanoma images is 1,452 before any cleaning\n",
    "\n",
    "melanoma_img = [image_name for image_name in os.listdir('cleaned_images/melanoma_images/')] \n",
    "print('There are a total of', len(melanoma_img),'melanoma images.')"
   ]
  },
  {
   "cell_type": "markdown",
   "metadata": {
    "id": "Qz8ItHORqV_4"
   },
   "source": [
    "#### Removing duplicated images"
   ]
  },
  {
   "cell_type": "code",
   "execution_count": 64,
   "metadata": {
    "id": "-LGd_a9QqV_4"
   },
   "outputs": [],
   "source": [
    "def drop_duplicated_images(folder):\n",
    "\n",
    "    # Define a threshold for image similarity\n",
    "    threshold = 8\n",
    "\n",
    "    # Define a dictionary to store the hash values and file paths of the images\n",
    "    image_hashes = {}\n",
    "    duplicated_images = []\n",
    "\n",
    "    # Loop through all the image files in a directory\n",
    "    for filename in os.listdir(folder):\n",
    "        # Load the image file\n",
    "        image = Image.open(os.path.join(folder, filename))\n",
    "\n",
    "         # Compute the hash value of the image using the average hash algorithm\n",
    "        hash_value = imagehash.average_hash(image)\n",
    "\n",
    "        # Check if the hash value is already in the dictionary\n",
    "        if hash_value in image_hashes:\n",
    "            # If a similar hash value already exists, delete the duplicate image\n",
    "            duplicated_images.append(filename)\n",
    "            os.remove(os.path.join(folder, filename))\n",
    "        else:\n",
    "             # Otherwise, add the hash value and file path to the dictionary\n",
    "            image_hashes[hash_value] = os.path.join(folder, filename)\n",
    "            \n",
    "    return duplicated_images"
   ]
  },
  {
   "cell_type": "code",
   "execution_count": 65,
   "metadata": {
    "id": "cSWs1l0nqV_4",
    "outputId": "11a36123-7fd6-4053-9647-be42944867cd"
   },
   "outputs": [
    {
     "data": {
      "text/plain": [
       "['hypomelanotic malignant melanoma images6320.jpg',\n",
       " 'hypomelanotic malignant melanoma images6321.jpg',\n",
       " 'hypomelanotic malignant melanoma images6322.jpg',\n",
       " 'hypomelanotic malignant melanoma images6323.jpg',\n",
       " 'hypomelanotic malignant melanoma images6324.jpg']"
      ]
     },
     "execution_count": 65,
     "metadata": {},
     "output_type": "execute_result"
    }
   ],
   "source": [
    "# Dropping duplicates\n",
    "duplicated_images = drop_duplicated_images('cleaned_images/melanoma_images/')\n",
    "duplicated_images[:5]"
   ]
  },
  {
   "cell_type": "markdown",
   "metadata": {
    "id": "Ob8nX0V5qV_4"
   },
   "source": [
    "acral lentiginous melanoma images, amelanotic melanoma images,hypomelanotic malignant melanoma images, lentigo maligna melanoma images, melanoma in situ images, melanoma of nail unit images, metastatic melanoma images, nodular melanoma images and superficial spreading melanoma images are all correct images of melanoma. We will now standardize our image labels to **melanoma** "
   ]
  },
  {
   "cell_type": "markdown",
   "metadata": {
    "id": "IrsI_26xqV_5"
   },
   "source": [
    "#### Changing image labels to Melanoma"
   ]
  },
  {
   "cell_type": "code",
   "execution_count": 66,
   "metadata": {
    "id": "-iovz3Q3qV_5",
    "outputId": "ea47d25f-ab55-4c69-b83e-110e7d6828b7"
   },
   "outputs": [
    {
     "data": {
      "text/html": [
       "<div>\n",
       "<style scoped>\n",
       "    .dataframe tbody tr th:only-of-type {\n",
       "        vertical-align: middle;\n",
       "    }\n",
       "\n",
       "    .dataframe tbody tr th {\n",
       "        vertical-align: top;\n",
       "    }\n",
       "\n",
       "    .dataframe thead th {\n",
       "        text-align: right;\n",
       "    }\n",
       "</style>\n",
       "<table border=\"1\" class=\"dataframe\">\n",
       "  <thead>\n",
       "    <tr style=\"text-align: right;\">\n",
       "      <th></th>\n",
       "      <th>image_path</th>\n",
       "      <th>skin_disorder_name</th>\n",
       "    </tr>\n",
       "  </thead>\n",
       "  <tbody>\n",
       "    <tr>\n",
       "      <th>0</th>\n",
       "      <td>acral lentiginous melanoma images473.jpg</td>\n",
       "      <td>melanoma</td>\n",
       "    </tr>\n",
       "    <tr>\n",
       "      <th>1</th>\n",
       "      <td>acral lentiginous melanoma images474.jpg</td>\n",
       "      <td>melanoma</td>\n",
       "    </tr>\n",
       "    <tr>\n",
       "      <th>2</th>\n",
       "      <td>acral lentiginous melanoma images475.jpg</td>\n",
       "      <td>melanoma</td>\n",
       "    </tr>\n",
       "    <tr>\n",
       "      <th>3</th>\n",
       "      <td>acral lentiginous melanoma images476.png</td>\n",
       "      <td>melanoma</td>\n",
       "    </tr>\n",
       "    <tr>\n",
       "      <th>4</th>\n",
       "      <td>acral lentiginous melanoma images477.jpg</td>\n",
       "      <td>melanoma</td>\n",
       "    </tr>\n",
       "  </tbody>\n",
       "</table>\n",
       "</div>"
      ],
      "text/plain": [
       "                                 image_path skin_disorder_name\n",
       "0  acral lentiginous melanoma images473.jpg           melanoma\n",
       "1  acral lentiginous melanoma images474.jpg           melanoma\n",
       "2  acral lentiginous melanoma images475.jpg           melanoma\n",
       "3  acral lentiginous melanoma images476.png           melanoma\n",
       "4  acral lentiginous melanoma images477.jpg           melanoma"
      ]
     },
     "execution_count": 66,
     "metadata": {},
     "output_type": "execute_result"
    }
   ],
   "source": [
    "# convert list to pandas DataFrame\n",
    "melanoma_df = pd.DataFrame(melanoma_img, columns=['image_path'])\n",
    "\n",
    "# add new column with value 'melanoma'\n",
    "melanoma_df['skin_disorder_name'] = 'melanoma'\n",
    "melanoma_df.head()"
   ]
  },
  {
   "cell_type": "code",
   "execution_count": 67,
   "metadata": {
    "id": "DP88RA7LqV_5"
   },
   "outputs": [],
   "source": [
    "# save melanoma dataframe to csv file\n",
    "melanoma_df.to_csv('cleaned_data/melanoma.csv',index=False)"
   ]
  },
  {
   "cell_type": "markdown",
   "metadata": {
    "id": "6iSR4w1sqV_5"
   },
   "source": [
    "## **<u>Psoriasis </u>**\n",
    "\n",
    "**Meaning**<br>\n",
    "Psoriasis is a chronic autoimmune skin disorder characterized by the rapid buildup of skin cells that form thick, silvery scales and itchy, dry, and red patches on the skin. It is a non-contagious condition that can affect any part of the body, including the scalp, nails, and joints. Psoriasis occurs when the immune system mistakenly attacks healthy skin cells, causing the skin cells to grow too quickly and accumulate on the skin's surface. The condition is typically lifelong and can vary in severity from mild to severe. While there is no cure for psoriasis, there are treatments available that can help manage symptoms and improve quality of life. <br>\n",
    "\n",
    "**Causes**<br>\n",
    "The exact cause of psoriasis is not fully understood, but it is believed to be a combination of genetic, environmental, and immune system factors. Some of the known factors that can trigger or exacerbate psoriasis include:<br>\n",
    "\n",
    "<ol>\n",
    "  <li>Genetics: Psoriasis tends to run in families, suggesting a genetic component to the condition.</li>\n",
    "  <li>Immune system dysfunction: Psoriasis is believed to be an autoimmune disorder, in which the immune system mistakenly attacks healthy skin cells, causing inflammation and other symptoms.</li>\n",
    "  <li>Environmental factors: Certain environmental factors can trigger or worsen psoriasis, such as infections, injuries to the skin, stress, smoking, and alcohol consumption.</li>\n",
    "  <li>Medications: Certain medications, such as lithium, beta-blockers, and antimalarials, can trigger or worsen psoriasis.</li>\n",
    "  <li>Hormonal changes: Changes in hormone levels, such as those that occur during puberty, pregnancy, and menopause, can trigger or worsen psoriasis.</li>\n",
    "</ol>\n",
    "\n",
    "**Symptoms**<br>\n",
    "Psoriasis symptoms can vary depending on the type and severity of the condition, but some common symptoms include:<br>\n",
    "<ol>\n",
    "  <li>Red, inflamed patches of skin: These patches may be covered with thick, silvery scales that may flake off or bleed if scratched.</li>\n",
    "  <li>Dry, cracked skin: The affected skin may be dry and itchy, and may crack and bleed in severe cases.</li>\n",
    "  <li>Thickened, pitted, or ridged nails: Psoriasis can affect the nails, causing them to become thickened, discolored, pitted, or ridged.</li>\n",
    "  <li>Joint pain and stiffness: In some cases, psoriasis can also cause joint pain and stiffness, a condition called psoriatic arthritis.</li>\n",
    "  <li>Itching and burning: Psoriasis patches may be itchy and burning, which can cause discomfort and distress.</li>\n",
    "  <li>Soreness or discomfort: Psoriasis patches can be painful and tender to the touch.</li>\n",
    "</ol>\n",
    "\n",
    "\n",
    "**Treatment**<br>\n",
    "Treatment options for eczema include using gentle soaps and moisturizers, avoiding harsh chemicals and irritants, and taking short, lukewarm baths or showers. Prescription creams or ointments containing corticosteroids or immunosuppressants may be used for more severe cases of eczema. Antihistamines can also be helpful in reducing itching. <br>\n",
    "Preventing flare-ups of eczema can be done by avoiding triggers such as certain foods, allergens, and irritants. Regular use of moisturizers can also help to keep the skin hydrated and reduce the risk of flare-ups.<br>\n",
    "<ol>\n",
    "  <li>Topical medications: These are creams, ointments, gels, or foams that are applied directly to the affected skin to reduce inflammation and itching. Topical medications may include corticosteroids, vitamin D analogues, retinoids, and tar preparations.</li>\n",
    "  <li>Phototherapy: This involves exposing the skin to ultraviolet light to slow down the growth of affected skin cells and reduce inflammation. Phototherapy can be done in a doctor's office or at home using a special light box.</li>\n",
    "  <li>Systemic medications: These are medications that are taken orally or by injection to suppress the immune system and reduce inflammation. Systemic medications may include methotrexate, cyclosporine, and biologics.</li>\n",
    "  <li>Lifestyle changes: Making changes to your diet, reducing stress, and avoiding triggers such as smoking and alcohol consumption may help to reduce the frequency and severity of psoriasis flare-ups.</li>\n",
    "  <li>Moisturizers: Applying moisturizers regularly can help to soothe dry, itchy skin and reduce the risk of flare-ups.</li>\n",
    "</ol>"
   ]
  },
  {
   "cell_type": "markdown",
   "metadata": {
    "id": "ml6nXVJ8qV_5"
   },
   "source": [
    "### **Cleaning Psoriasis images**\n"
   ]
  },
  {
   "cell_type": "markdown",
   "metadata": {
    "id": "F7sXvWdaqV_6"
   },
   "source": [
    "**Creating a dataframe with psoriasis images from the data scrapped from DermNet**"
   ]
  },
  {
   "cell_type": "code",
   "execution_count": 68,
   "metadata": {
    "id": "04BqnsCEqV_6",
    "outputId": "9a13467a-f38c-4f7e-a269-7ebdd72b50d1"
   },
   "outputs": [
    {
     "data": {
      "text/plain": [
       "['chronic plaque psoriasis images',\n",
       " 'facial psoriasis images',\n",
       " 'flexural psoriasis images',\n",
       " 'generalised pustular psoriasis images',\n",
       " 'genital psoriasis images',\n",
       " 'guttate psoriasis images',\n",
       " 'nail psoriasis images',\n",
       " 'palmoplantar psoriasis images',\n",
       " 'psoriasis affecting the face images',\n",
       " 'psoriasis of the scalp images',\n",
       " 'pustular psoriasis of the hand and feet images']"
      ]
     },
     "execution_count": 68,
     "metadata": {},
     "output_type": "execute_result"
    }
   ],
   "source": [
    "# Labels representing acne in DermNet's scrapped data\n",
    "psoriasis_labels = list(image_df[image_df['skin_disorder_name'].str.contains('psoriasis')]['skin_disorder_name'].unique())\n",
    "\n",
    "psoriasis_labels"
   ]
  },
  {
   "cell_type": "code",
   "execution_count": 69,
   "metadata": {
    "id": "DYMZKKTTqV_6",
    "outputId": "49566927-f5f6-4319-f0bf-57d7dcbfdecc"
   },
   "outputs": [
    {
     "data": {
      "text/plain": [
       "11"
      ]
     },
     "execution_count": 69,
     "metadata": {},
     "output_type": "execute_result"
    }
   ],
   "source": [
    "# Count of labels representing psoriasis\n",
    "len(psoriasis_labels)"
   ]
  },
  {
   "cell_type": "code",
   "execution_count": 70,
   "metadata": {
    "id": "kiIAzOmNqV_6",
    "outputId": "bd743e05-d8d3-48ee-b4ee-90dd78788a10",
    "scrolled": false
   },
   "outputs": [
    {
     "name": "stdout",
     "output_type": "stream",
     "text": [
      "<class 'pandas.core.frame.DataFrame'>\n",
      "Int64Index: 522 entries, 2796 to 10354\n",
      "Data columns (total 2 columns):\n",
      " #   Column              Non-Null Count  Dtype \n",
      "---  ------              --------------  ----- \n",
      " 0   skin_disorder_name  522 non-null    object\n",
      " 1   images              522 non-null    object\n",
      "dtypes: object(2)\n",
      "memory usage: 12.2+ KB\n"
     ]
    }
   ],
   "source": [
    "# Creating a dataframe with just psoriasis labels for easier cleaning\n",
    "\n",
    "psoriasis_df = image_df[(image_df['skin_disorder_name'] == psoriasis_labels[0]) | \\\n",
    "                   (image_df['skin_disorder_name'] == psoriasis_labels[1]) | \\\n",
    "                   (image_df['skin_disorder_name'] == psoriasis_labels[2]) | \\\n",
    "                   (image_df['skin_disorder_name'] == psoriasis_labels[3]) | \\\n",
    "                   (image_df['skin_disorder_name'] == psoriasis_labels[4]) | \\\n",
    "                   (image_df['skin_disorder_name'] == psoriasis_labels[5]) | \\\n",
    "                   (image_df['skin_disorder_name'] == psoriasis_labels[6]) | \\\n",
    "                   (image_df['skin_disorder_name'] == psoriasis_labels[7]) | \\\n",
    "                   (image_df['skin_disorder_name'] == psoriasis_labels[8]) | \\\n",
    "                   (image_df['skin_disorder_name'] == psoriasis_labels[9]) | \\\n",
    "                   (image_df['skin_disorder_name'] == psoriasis_labels[10])\n",
    "                 ]\n",
    "psoriasis_df.info()"
   ]
  },
  {
   "cell_type": "markdown",
   "metadata": {
    "id": "-b3RTboQqV_7"
   },
   "source": [
    "### **Extra Psoriasis images**"
   ]
  },
  {
   "cell_type": "code",
   "execution_count": 71,
   "metadata": {
    "id": "Lw8FGd3AqV_7"
   },
   "outputs": [],
   "source": [
    "#  copy psoriasis images\n",
    "source_dir = 'extra_images/extra_psoriasis_images'\n",
    "dest_dir = 'extra_images/psoriasis_images'\n",
    "\n",
    "if not os.path.exists(dest_dir):\n",
    "    os.mkdir(dest_dir)\n",
    "\n",
    "for filename in os.listdir(source_dir):\n",
    "    if 'psor' in filename:\n",
    "        shutil.copy(os.path.join(source_dir, filename), dest_dir)"
   ]
  },
  {
   "cell_type": "code",
   "execution_count": 72,
   "metadata": {
    "id": "c9VBxcpYqV_7",
    "outputId": "a05f44f4-91a5-4a38-9ba8-7929154f73ad"
   },
   "outputs": [
    {
     "data": {
      "text/plain": [
       "['t-08psoriasisIntertrig020606.jpg',\n",
       " 't-08psoriasisIntertrig0206061.jpg',\n",
       " 't-psoriasis-Chronic-plaque-00325.jpg',\n",
       " 't-psoriasis-digits-1.jpg',\n",
       " 't-psoriasis-digits-3.jpg']"
      ]
     },
     "execution_count": 72,
     "metadata": {},
     "output_type": "execute_result"
    }
   ],
   "source": [
    "extra_psoriasis = [image_name for image_name in os.listdir('extra_images/psoriasis_images')]\n",
    "extra_psoriasis[:5]"
   ]
  },
  {
   "cell_type": "code",
   "execution_count": 73,
   "metadata": {
    "id": "cjxEG0mLqV_7",
    "outputId": "b790e711-255e-44d8-dd80-3cd4a4afe6a4"
   },
   "outputs": [
    {
     "data": {
      "text/html": [
       "<div>\n",
       "<style scoped>\n",
       "    .dataframe tbody tr th:only-of-type {\n",
       "        vertical-align: middle;\n",
       "    }\n",
       "\n",
       "    .dataframe tbody tr th {\n",
       "        vertical-align: top;\n",
       "    }\n",
       "\n",
       "    .dataframe thead th {\n",
       "        text-align: right;\n",
       "    }\n",
       "</style>\n",
       "<table border=\"1\" class=\"dataframe\">\n",
       "  <thead>\n",
       "    <tr style=\"text-align: right;\">\n",
       "      <th></th>\n",
       "      <th>skin_disorder_name</th>\n",
       "      <th>images</th>\n",
       "    </tr>\n",
       "  </thead>\n",
       "  <tbody>\n",
       "    <tr>\n",
       "      <th>0</th>\n",
       "      <td>acne</td>\n",
       "      <td>07Acne081101.jpg</td>\n",
       "    </tr>\n",
       "    <tr>\n",
       "      <th>1</th>\n",
       "      <td>acne</td>\n",
       "      <td>07Acne0811011 - Copy.jpg</td>\n",
       "    </tr>\n",
       "    <tr>\n",
       "      <th>2</th>\n",
       "      <td>acne</td>\n",
       "      <td>07Acne0811011.jpg</td>\n",
       "    </tr>\n",
       "    <tr>\n",
       "      <th>3</th>\n",
       "      <td>acne</td>\n",
       "      <td>07AcnePittedScars.jpg</td>\n",
       "    </tr>\n",
       "    <tr>\n",
       "      <th>4</th>\n",
       "      <td>acne</td>\n",
       "      <td>07AcnePittedScars1 - Copy.jpg</td>\n",
       "    </tr>\n",
       "  </tbody>\n",
       "</table>\n",
       "</div>"
      ],
      "text/plain": [
       "  skin_disorder_name                         images\n",
       "0               acne               07Acne081101.jpg\n",
       "1               acne       07Acne0811011 - Copy.jpg\n",
       "2               acne              07Acne0811011.jpg\n",
       "3               acne          07AcnePittedScars.jpg\n",
       "4               acne  07AcnePittedScars1 - Copy.jpg"
      ]
     },
     "execution_count": 73,
     "metadata": {},
     "output_type": "execute_result"
    }
   ],
   "source": [
    "#Creating a dataframe for the extra acne images\n",
    "\n",
    "label =['psoriasis' for img in extra_psoriasis]\n",
    "extra_psoriasis_df = pd.DataFrame(extra_psoriasis, label).reset_index()\n",
    "extra_psoriasis_df.columns =['skin_disorder_name', 'images']\n",
    "extra_acne_df.head()"
   ]
  },
  {
   "cell_type": "markdown",
   "metadata": {
    "id": "BJVc3K0XqV_8"
   },
   "source": [
    "**i. Moving psoriasis images in the Images folder to their own folder**"
   ]
  },
  {
   "cell_type": "code",
   "execution_count": 74,
   "metadata": {
    "id": "hG9Z0qiBqV_8",
    "outputId": "6ddab60f-68de-4f57-b1c0-0d3ca18a1b98"
   },
   "outputs": [
    {
     "name": "stdout",
     "output_type": "stream",
     "text": [
      "There are 522 psoriasis images\n"
     ]
    },
    {
     "data": {
      "text/plain": [
       "['chronic plaque psoriasis images2796.jpg',\n",
       " 'chronic plaque psoriasis images2797.jpg',\n",
       " 'chronic plaque psoriasis images2798.jpg',\n",
       " 'chronic plaque psoriasis images2799.jpg',\n",
       " 'chronic plaque psoriasis images2800.jpg']"
      ]
     },
     "execution_count": 74,
     "metadata": {},
     "output_type": "execute_result"
    }
   ],
   "source": [
    "# Getting the acne images file names\n",
    "original_psoriasis_img = [image_name for image_name in os.listdir('Images/') \\\n",
    "                     if ('chronic plaque psoriasis images' in image_name) |\\\n",
    "                        ('facial psoriasis images' in image_name) |\\\n",
    "                        ('flexural psoriasis images' in image_name) |\\\n",
    "                        ('generalised pustular psoriasis images' in image_name) |\\\n",
    "                        ('genital psoriasis images' in image_name) |\\\n",
    "                        ('guttate psoriasis images' in image_name) |\\\n",
    "                        ('palmoplantar psoriasis images' in image_name) |\\\n",
    "                        ('psoriasis affecting the face images' in image_name) |\\\n",
    "                        ('psoriasis of the scalp images' in image_name) |\\\n",
    "                        ('pustular psoriasis of the hand and feet images' in image_name) |\\\n",
    "                        ('nail psoriasis images' in image_name) \n",
    "                        ] \n",
    "\n",
    "# Confirming the number of acne images before any cleaning\n",
    "print('There are', len(original_psoriasis_img),'psoriasis images')\n",
    "original_psoriasis_img[:5]"
   ]
  },
  {
   "cell_type": "code",
   "execution_count": 75,
   "metadata": {
    "id": "3TcSS7wrqV_8"
   },
   "outputs": [],
   "source": [
    "# Creating a new folder with just acne images to make cleaning easier\n",
    "folder_name = 'cleaned_images/psoriasis_images/'\n",
    "\n",
    "\n",
    "\n",
    "# Note📝: For reproducibility of the code, this step is important.\n",
    "         # If the folder is not dropped before an error will occur if you rerun this cell\n",
    "         \n",
    "# Checking if the folder exists and deleting it if it exists        \n",
    "if os.path.exists(folder_name):\n",
    "    # deleting the folder and its contents\n",
    "    shutil.rmtree(folder_name)\n",
    "\n",
    "# create the new folder\n",
    "os.mkdir(folder_name)\n",
    "\n",
    "# Moving the images into that folder\n",
    "for img in original_psoriasis_img:\n",
    "    origin = os.path.join('Images/', img)\n",
    "    destination = os.path.join(folder_name, img)\n",
    "    shutil.copy(origin, destination)"
   ]
  },
  {
   "cell_type": "code",
   "execution_count": 76,
   "metadata": {
    "id": "sZNm5lLkqV_9",
    "outputId": "643a181d-4746-4460-dee0-884f8be3dc27"
   },
   "outputs": [
    {
     "name": "stdout",
     "output_type": "stream",
     "text": [
      "There are 522 psoriasis images.\n"
     ]
    }
   ],
   "source": [
    "# Confirming that the number of acne images after moving them to a separate folder is still 522\n",
    "psoriasis_img = [image_name for image_name in os.listdir('cleaned_images/psoriasis_images/')] \n",
    "print('There are', len(psoriasis_img),'psoriasis images.')"
   ]
  },
  {
   "cell_type": "markdown",
   "metadata": {
    "id": "fjkqtVlZqV_9"
   },
   "source": [
    "**ii. Dropping links from the 'images' column in the psoriasis_df and replacing them with the image name**"
   ]
  },
  {
   "cell_type": "code",
   "execution_count": 77,
   "metadata": {
    "id": "mbnjfc4EqV_9",
    "outputId": "4084ac45-af9e-424a-86a8-cd70657ad82f"
   },
   "outputs": [
    {
     "data": {
      "text/html": [
       "<div>\n",
       "<style scoped>\n",
       "    .dataframe tbody tr th:only-of-type {\n",
       "        vertical-align: middle;\n",
       "    }\n",
       "\n",
       "    .dataframe tbody tr th {\n",
       "        vertical-align: top;\n",
       "    }\n",
       "\n",
       "    .dataframe thead th {\n",
       "        text-align: right;\n",
       "    }\n",
       "</style>\n",
       "<table border=\"1\" class=\"dataframe\">\n",
       "  <thead>\n",
       "    <tr style=\"text-align: right;\">\n",
       "      <th></th>\n",
       "      <th>skin_disorder_name</th>\n",
       "      <th>images</th>\n",
       "    </tr>\n",
       "  </thead>\n",
       "  <tbody>\n",
       "    <tr>\n",
       "      <th>2796</th>\n",
       "      <td>chronic plaque psoriasis images</td>\n",
       "      <td>chronic plaque psoriasis images2796.jpg</td>\n",
       "    </tr>\n",
       "    <tr>\n",
       "      <th>2797</th>\n",
       "      <td>chronic plaque psoriasis images</td>\n",
       "      <td>chronic plaque psoriasis images2797.jpg</td>\n",
       "    </tr>\n",
       "    <tr>\n",
       "      <th>2798</th>\n",
       "      <td>chronic plaque psoriasis images</td>\n",
       "      <td>chronic plaque psoriasis images2798.jpg</td>\n",
       "    </tr>\n",
       "    <tr>\n",
       "      <th>2799</th>\n",
       "      <td>chronic plaque psoriasis images</td>\n",
       "      <td>chronic plaque psoriasis images2799.jpg</td>\n",
       "    </tr>\n",
       "    <tr>\n",
       "      <th>2800</th>\n",
       "      <td>chronic plaque psoriasis images</td>\n",
       "      <td>chronic plaque psoriasis images2800.jpg</td>\n",
       "    </tr>\n",
       "  </tbody>\n",
       "</table>\n",
       "</div>"
      ],
      "text/plain": [
       "                   skin_disorder_name                                   images\n",
       "2796  chronic plaque psoriasis images  chronic plaque psoriasis images2796.jpg\n",
       "2797  chronic plaque psoriasis images  chronic plaque psoriasis images2797.jpg\n",
       "2798  chronic plaque psoriasis images  chronic plaque psoriasis images2798.jpg\n",
       "2799  chronic plaque psoriasis images  chronic plaque psoriasis images2799.jpg\n",
       "2800  chronic plaque psoriasis images  chronic plaque psoriasis images2800.jpg"
      ]
     },
     "execution_count": 77,
     "metadata": {},
     "output_type": "execute_result"
    }
   ],
   "source": [
    "# So that the two dataframes can match, we dropped the image links in  psoriasis_df \n",
    "# and replaced them with the image names\n",
    "\n",
    "psoriasis_images = pd.DataFrame(psoriasis_img, columns=['images'])\n",
    "psoriasis_df = psoriasis_df.copy()\n",
    "psoriasis_df.drop('images', axis=1, inplace=True)\n",
    "psoriasis_df['images'] = psoriasis_images['images'].values\n",
    "psoriasis_df.head()"
   ]
  },
  {
   "cell_type": "markdown",
   "metadata": {
    "id": "MtQNLbpoqV_9"
   },
   "source": [
    "**iii. Joining the two dataframes**"
   ]
  },
  {
   "cell_type": "code",
   "execution_count": 78,
   "metadata": {
    "id": "oZlg19xxqV_-",
    "outputId": "02d9e79b-ef9b-4c32-fd89-e57a0bb9a999"
   },
   "outputs": [
    {
     "name": "stdout",
     "output_type": "stream",
     "text": [
      "<class 'pandas.core.frame.DataFrame'>\n",
      "RangeIndex: 874 entries, 0 to 873\n",
      "Data columns (total 2 columns):\n",
      " #   Column              Non-Null Count  Dtype \n",
      "---  ------              --------------  ----- \n",
      " 0   skin_disorder_name  874 non-null    object\n",
      " 1   images              874 non-null    object\n",
      "dtypes: object(2)\n",
      "memory usage: 13.8+ KB\n",
      "None\n"
     ]
    },
    {
     "data": {
      "text/html": [
       "<div>\n",
       "<style scoped>\n",
       "    .dataframe tbody tr th:only-of-type {\n",
       "        vertical-align: middle;\n",
       "    }\n",
       "\n",
       "    .dataframe tbody tr th {\n",
       "        vertical-align: top;\n",
       "    }\n",
       "\n",
       "    .dataframe thead th {\n",
       "        text-align: right;\n",
       "    }\n",
       "</style>\n",
       "<table border=\"1\" class=\"dataframe\">\n",
       "  <thead>\n",
       "    <tr style=\"text-align: right;\">\n",
       "      <th></th>\n",
       "      <th>skin_disorder_name</th>\n",
       "      <th>images</th>\n",
       "    </tr>\n",
       "  </thead>\n",
       "  <tbody>\n",
       "    <tr>\n",
       "      <th>0</th>\n",
       "      <td>chronic plaque psoriasis images</td>\n",
       "      <td>chronic plaque psoriasis images2796.jpg</td>\n",
       "    </tr>\n",
       "    <tr>\n",
       "      <th>1</th>\n",
       "      <td>chronic plaque psoriasis images</td>\n",
       "      <td>chronic plaque psoriasis images2797.jpg</td>\n",
       "    </tr>\n",
       "    <tr>\n",
       "      <th>2</th>\n",
       "      <td>chronic plaque psoriasis images</td>\n",
       "      <td>chronic plaque psoriasis images2798.jpg</td>\n",
       "    </tr>\n",
       "    <tr>\n",
       "      <th>3</th>\n",
       "      <td>chronic plaque psoriasis images</td>\n",
       "      <td>chronic plaque psoriasis images2799.jpg</td>\n",
       "    </tr>\n",
       "    <tr>\n",
       "      <th>4</th>\n",
       "      <td>chronic plaque psoriasis images</td>\n",
       "      <td>chronic plaque psoriasis images2800.jpg</td>\n",
       "    </tr>\n",
       "  </tbody>\n",
       "</table>\n",
       "</div>"
      ],
      "text/plain": [
       "                skin_disorder_name                                   images\n",
       "0  chronic plaque psoriasis images  chronic plaque psoriasis images2796.jpg\n",
       "1  chronic plaque psoriasis images  chronic plaque psoriasis images2797.jpg\n",
       "2  chronic plaque psoriasis images  chronic plaque psoriasis images2798.jpg\n",
       "3  chronic plaque psoriasis images  chronic plaque psoriasis images2799.jpg\n",
       "4  chronic plaque psoriasis images  chronic plaque psoriasis images2800.jpg"
      ]
     },
     "execution_count": 78,
     "metadata": {},
     "output_type": "execute_result"
    }
   ],
   "source": [
    "# Creating a dataframe with all of the psoriasis images\n",
    "\n",
    "psoriasis_df_complete = pd.concat([psoriasis_df, extra_psoriasis_df], axis=0).reset_index()\n",
    "psoriasis_df_complete.drop('index', axis=1, inplace=True)\n",
    "print(psoriasis_df_complete.info())\n",
    "psoriasis_df_complete.head()"
   ]
  },
  {
   "cell_type": "markdown",
   "metadata": {
    "id": "GYbyaR0NqV_-"
   },
   "source": [
    "**iv. Combining the images into one folder**"
   ]
  },
  {
   "cell_type": "code",
   "execution_count": 79,
   "metadata": {
    "id": "gNF5v62gqV_-"
   },
   "outputs": [],
   "source": [
    "# This was done by moving the extra images into the psoriasis folder\n",
    "for img in extra_psoriasis:\n",
    "    origin = os.path.join('extra_images/extra_psoriasis_images/', img)\n",
    "    destination = os.path.join('cleaned_images/psoriasis_images/', img)\n",
    "    shutil.copy(origin, destination)"
   ]
  },
  {
   "cell_type": "markdown",
   "metadata": {
    "id": "QzifdEt_qV__"
   },
   "source": [
    "**v. Removing duplicated images from the folder**"
   ]
  },
  {
   "cell_type": "code",
   "execution_count": 80,
   "metadata": {
    "id": "ZcTKsRczqV__"
   },
   "outputs": [],
   "source": [
    "# Function for removing duplicated images.\n",
    "\n",
    "def drop_duplicated_images(folder):\n",
    "\n",
    "    # Define a threshold for image similarity\n",
    "    threshold = 8\n",
    "\n",
    "    # Define a dictionary to store the hash values and file paths of the images\n",
    "    image_hashes = {}\n",
    "    duplicated_images = []\n",
    "\n",
    "    # Loop through all the image files in a directory\n",
    "    for filename in os.listdir(folder):\n",
    "        # Load the image file\n",
    "        image = Image.open(os.path.join(folder, filename))\n",
    "\n",
    "         # Compute the hash value of the image using the average hash algorithm\n",
    "        hash_value = imagehash.average_hash(image)\n",
    "\n",
    "        # Check if the hash value is already in the dictionary\n",
    "        if hash_value in image_hashes:\n",
    "            # If a similar hash value already exists, delete the duplicate image\n",
    "            duplicated_images.append(filename)\n",
    "            os.remove(os.path.join(folder, filename))\n",
    "        else:\n",
    "             # Otherwise, add the hash value and file path to the dictionary\n",
    "            image_hashes[hash_value] = os.path.join(folder, filename)\n",
    "            \n",
    "    return duplicated_images"
   ]
  },
  {
   "cell_type": "code",
   "execution_count": 81,
   "metadata": {
    "id": "mbUHlmNxqV__",
    "outputId": "eff8c765-be89-44e7-ac7d-9a572655fcce"
   },
   "outputs": [
    {
     "name": "stdout",
     "output_type": "stream",
     "text": [
      "There are a total of 874 psoriasis images.\n"
     ]
    }
   ],
   "source": [
    "# Confirming  the total psoriasis images \n",
    "\n",
    "psoriasis_img = [image_name for image_name in os.listdir('cleaned_images/psoriasis_images/')] \n",
    "print('There are a total of', len(psoriasis_img),'psoriasis images.')"
   ]
  },
  {
   "cell_type": "code",
   "execution_count": 82,
   "metadata": {
    "id": "TibDZ5sqqV__",
    "outputId": "0f3a0bb7-e3f4-48ef-85b9-13305f435967"
   },
   "outputs": [
    {
     "data": {
      "text/plain": [
       "['genital psoriasis images5363.jpg',\n",
       " 'genital psoriasis images5364.jpg',\n",
       " 'genital psoriasis images5376.jpg',\n",
       " 'genital psoriasis images5385.jpg',\n",
       " 'nail psoriasis images8573.jpg']"
      ]
     },
     "execution_count": 82,
     "metadata": {},
     "output_type": "execute_result"
    }
   ],
   "source": [
    "# Dropping duplicates\n",
    "duplicated_images = drop_duplicated_images('cleaned_images/psoriasis_images/')\n",
    "duplicated_images[:5]"
   ]
  },
  {
   "cell_type": "code",
   "execution_count": 83,
   "metadata": {
    "id": "LfdjmTj5qWAA",
    "outputId": "fe3ef9ee-57b7-44bf-d556-04cce4fcb129"
   },
   "outputs": [
    {
     "data": {
      "text/plain": [
       "[143, 144, 156, 165, 219, 222, 337, 339, 340, 350]"
      ]
     },
     "execution_count": 83,
     "metadata": {},
     "output_type": "execute_result"
    }
   ],
   "source": [
    "# Getting the indexes of the duplicated images so that they can be dropped from the psoriasis_df_complete too.\n",
    "\n",
    "duplicated_indexes = [psoriasis_df_complete[psoriasis_df_complete['images'] == image_name].index[0] \\\n",
    "                      for image_name in psoriasis_df_complete['images']\\\n",
    "                      if image_name in duplicated_images]\n",
    "duplicated_indexes[:10]"
   ]
  },
  {
   "cell_type": "code",
   "execution_count": 84,
   "metadata": {
    "id": "Vwvb0RzrqWAA",
    "outputId": "1609e9f7-a3ee-4617-ddb6-b2eea5452a76",
    "scrolled": true
   },
   "outputs": [
    {
     "name": "stdout",
     "output_type": "stream",
     "text": [
      "<class 'pandas.core.frame.DataFrame'>\n",
      "Int64Index: 827 entries, 0 to 873\n",
      "Data columns (total 2 columns):\n",
      " #   Column              Non-Null Count  Dtype \n",
      "---  ------              --------------  ----- \n",
      " 0   skin_disorder_name  827 non-null    object\n",
      " 1   images              827 non-null    object\n",
      "dtypes: object(2)\n",
      "memory usage: 19.4+ KB\n"
     ]
    }
   ],
   "source": [
    "# Dropping duplicated images from the dataframe.\n",
    "psoriasis_df_complete = psoriasis_df_complete.copy()\n",
    "psoriasis_df_complete.drop(index=duplicated_indexes, inplace=True)\n",
    "psoriasis_df_complete.info()"
   ]
  },
  {
   "cell_type": "markdown",
   "metadata": {
    "id": "FcWVp21DqWAA"
   },
   "source": [
    "**vi. Changing the label to just acne**"
   ]
  },
  {
   "cell_type": "code",
   "execution_count": 85,
   "metadata": {
    "id": "_IonkRWiqWAA",
    "outputId": "e0efa150-a5df-42fd-f78d-12a42f30b942"
   },
   "outputs": [
    {
     "name": "stdout",
     "output_type": "stream",
     "text": [
      "(827, 2)\n"
     ]
    },
    {
     "data": {
      "text/html": [
       "<div>\n",
       "<style scoped>\n",
       "    .dataframe tbody tr th:only-of-type {\n",
       "        vertical-align: middle;\n",
       "    }\n",
       "\n",
       "    .dataframe tbody tr th {\n",
       "        vertical-align: top;\n",
       "    }\n",
       "\n",
       "    .dataframe thead th {\n",
       "        text-align: right;\n",
       "    }\n",
       "</style>\n",
       "<table border=\"1\" class=\"dataframe\">\n",
       "  <thead>\n",
       "    <tr style=\"text-align: right;\">\n",
       "      <th></th>\n",
       "      <th>skin_disorder_name</th>\n",
       "      <th>images</th>\n",
       "    </tr>\n",
       "  </thead>\n",
       "  <tbody>\n",
       "    <tr>\n",
       "      <th>0</th>\n",
       "      <td>psoriasis</td>\n",
       "      <td>chronic plaque psoriasis images2796.jpg</td>\n",
       "    </tr>\n",
       "    <tr>\n",
       "      <th>1</th>\n",
       "      <td>psoriasis</td>\n",
       "      <td>chronic plaque psoriasis images2797.jpg</td>\n",
       "    </tr>\n",
       "    <tr>\n",
       "      <th>2</th>\n",
       "      <td>psoriasis</td>\n",
       "      <td>chronic plaque psoriasis images2798.jpg</td>\n",
       "    </tr>\n",
       "    <tr>\n",
       "      <th>3</th>\n",
       "      <td>psoriasis</td>\n",
       "      <td>chronic plaque psoriasis images2799.jpg</td>\n",
       "    </tr>\n",
       "    <tr>\n",
       "      <th>4</th>\n",
       "      <td>psoriasis</td>\n",
       "      <td>chronic plaque psoriasis images2800.jpg</td>\n",
       "    </tr>\n",
       "  </tbody>\n",
       "</table>\n",
       "</div>"
      ],
      "text/plain": [
       "  skin_disorder_name                                   images\n",
       "0          psoriasis  chronic plaque psoriasis images2796.jpg\n",
       "1          psoriasis  chronic plaque psoriasis images2797.jpg\n",
       "2          psoriasis  chronic plaque psoriasis images2798.jpg\n",
       "3          psoriasis  chronic plaque psoriasis images2799.jpg\n",
       "4          psoriasis  chronic plaque psoriasis images2800.jpg"
      ]
     },
     "execution_count": 85,
     "metadata": {},
     "output_type": "execute_result"
    }
   ],
   "source": [
    "psoriasis_df_complete['skin_disorder_name'] = 'psoriasis'\n",
    "print(psoriasis_df_complete.shape)\n",
    "psoriasis_df_complete.head()"
   ]
  },
  {
   "cell_type": "markdown",
   "metadata": {
    "id": "x028KQJfqWAA"
   },
   "source": [
    "vii. Saving the psoriasis_df_complete dataframe as a csv file"
   ]
  },
  {
   "cell_type": "code",
   "execution_count": 86,
   "metadata": {
    "id": "vYc9hVwAqWAB"
   },
   "outputs": [],
   "source": [
    "psoriasis_df_complete.to_csv('cleaned_data/psoriasis.csv', index=False)"
   ]
  },
  {
   "cell_type": "markdown",
   "metadata": {
    "id": "rUdqkaytqbKk"
   },
   "source": [
    "# Basal cell carcinoma\n",
    "### Meaning\n",
    "Basal cell carcinoma (BCC) is a malignant tumor that also arises from the basal cells in the skin. It is the most common type of skin cancer. Malignant tumors are more dangerous than benign tumors because they can grow quickly and invade and destroy surrounding tissues, leading to significant damage to the body's normal functions.\n",
    "\n",
    "#### Causes\n",
    "Basal cell carcinoma are primarily caused by exposure to ultraviolet (UV) radiation from the sun or tanning beds. Prolonged exposure to UV radiation damages the DNA in the skin cells, leading to mutations that can cause the cells to grow and divide uncontrollably, eventually forming a tumor. Other factors that may increase the risk of developing these skin cancers include having fair skin, a history of sunburns or intense sun exposure, a weakened immune system, a family history of skin cancer, and certain genetic conditions.\n",
    "\n",
    "### Symptoms\n",
    "Basal cell carcinoma can have similar symptoms, but there are some differences. The condition typically present as raised, pearly, or translucent bumps or lesions on the skin that may be pink, red, or white in color. These lesions can sometimes ulcerate or bleed, and may develop a crust or scab. This sometimes appear as a flat, scaly, or pigmented patch on the skin.\n",
    "\n",
    "### Treatment\n",
    "Basal cell carcinoma treatment plan depends on the size, location, and extent of the tumor. Surgical removal of the tumor is the primary treatment, and there are different techniques available, such as excision, curettage and electrodesiccation, Mohs surgery, or radiation therapy. For small tumors, excision may be sufficient, while Mohs surgery is recommended for larger or more advanced tumors to ensure complete removal. Radiation therapy may be used as an alternative to surgery for some cases. Systemic chemotherapy or immunotherapy is rarely used for advanced basal cell carcinoma that has spread to other parts of the body."
   ]
  },
  {
   "cell_type": "code",
   "execution_count": 87,
   "metadata": {
    "id": "PpVgG-Sxqqzi"
   },
   "outputs": [],
   "source": [
    "import pandas as pd"
   ]
  },
  {
   "cell_type": "code",
   "execution_count": 88,
   "metadata": {
    "id": "YFm71R5vqu_Q"
   },
   "outputs": [
    {
     "data": {
      "text/plain": [
       "['ISIC_0024331.jpg',\n",
       " 'ISIC_0024332.jpg',\n",
       " 'ISIC_0024345.jpg',\n",
       " 'ISIC_0024360.jpg',\n",
       " 'ISIC_0024403.jpg']"
      ]
     },
     "execution_count": 88,
     "metadata": {},
     "output_type": "execute_result"
    }
   ],
   "source": [
    "extra_bcc = [image_name for image_name in os.listdir('Bcc_images')]\n",
    "extra_bcc[:5]"
   ]
  },
  {
   "cell_type": "code",
   "execution_count": 89,
   "metadata": {
    "id": "hIX8kcpEqxO8"
   },
   "outputs": [
    {
     "data": {
      "text/html": [
       "<div>\n",
       "<style scoped>\n",
       "    .dataframe tbody tr th:only-of-type {\n",
       "        vertical-align: middle;\n",
       "    }\n",
       "\n",
       "    .dataframe tbody tr th {\n",
       "        vertical-align: top;\n",
       "    }\n",
       "\n",
       "    .dataframe thead th {\n",
       "        text-align: right;\n",
       "    }\n",
       "</style>\n",
       "<table border=\"1\" class=\"dataframe\">\n",
       "  <thead>\n",
       "    <tr style=\"text-align: right;\">\n",
       "      <th></th>\n",
       "      <th>skin_disorder_name</th>\n",
       "      <th>images</th>\n",
       "    </tr>\n",
       "  </thead>\n",
       "  <tbody>\n",
       "    <tr>\n",
       "      <th>0</th>\n",
       "      <td>Basal cell carcinoma</td>\n",
       "      <td>ISIC_0024331.jpg</td>\n",
       "    </tr>\n",
       "    <tr>\n",
       "      <th>1</th>\n",
       "      <td>Basal cell carcinoma</td>\n",
       "      <td>ISIC_0024332.jpg</td>\n",
       "    </tr>\n",
       "    <tr>\n",
       "      <th>2</th>\n",
       "      <td>Basal cell carcinoma</td>\n",
       "      <td>ISIC_0024345.jpg</td>\n",
       "    </tr>\n",
       "    <tr>\n",
       "      <th>3</th>\n",
       "      <td>Basal cell carcinoma</td>\n",
       "      <td>ISIC_0024360.jpg</td>\n",
       "    </tr>\n",
       "    <tr>\n",
       "      <th>4</th>\n",
       "      <td>Basal cell carcinoma</td>\n",
       "      <td>ISIC_0024403.jpg</td>\n",
       "    </tr>\n",
       "  </tbody>\n",
       "</table>\n",
       "</div>"
      ],
      "text/plain": [
       "     skin_disorder_name            images\n",
       "0  Basal cell carcinoma  ISIC_0024331.jpg\n",
       "1  Basal cell carcinoma  ISIC_0024332.jpg\n",
       "2  Basal cell carcinoma  ISIC_0024345.jpg\n",
       "3  Basal cell carcinoma  ISIC_0024360.jpg\n",
       "4  Basal cell carcinoma  ISIC_0024403.jpg"
      ]
     },
     "execution_count": 89,
     "metadata": {},
     "output_type": "execute_result"
    }
   ],
   "source": [
    "#Creating a dataframe for the extra bcc images\n",
    "\n",
    "label =['Basal cell carcinoma' for img in extra_bcc]\n",
    "extra_bcc_df = pd.DataFrame(extra_bcc, label).reset_index()\n",
    "extra_bcc_df.columns =['skin_disorder_name', 'images']\n",
    "extra_bcc_df.head()"
   ]
  },
  {
   "cell_type": "code",
   "execution_count": 90,
   "metadata": {
    "id": "bv-Iqp-yq1It"
   },
   "outputs": [
    {
     "name": "stdout",
     "output_type": "stream",
     "text": [
      "There are 3323 Bcc images\n"
     ]
    },
    {
     "data": {
      "text/html": [
       "<div>\n",
       "<style scoped>\n",
       "    .dataframe tbody tr th:only-of-type {\n",
       "        vertical-align: middle;\n",
       "    }\n",
       "\n",
       "    .dataframe tbody tr th {\n",
       "        vertical-align: top;\n",
       "    }\n",
       "\n",
       "    .dataframe thead th {\n",
       "        text-align: right;\n",
       "    }\n",
       "</style>\n",
       "<table border=\"1\" class=\"dataframe\">\n",
       "  <thead>\n",
       "    <tr style=\"text-align: right;\">\n",
       "      <th></th>\n",
       "      <th>skin_disorder_name</th>\n",
       "      <th>images</th>\n",
       "    </tr>\n",
       "  </thead>\n",
       "  <tbody>\n",
       "    <tr>\n",
       "      <th>0</th>\n",
       "      <td>Basal cell carcinoma</td>\n",
       "      <td>ISIC_0024331.jpg</td>\n",
       "    </tr>\n",
       "    <tr>\n",
       "      <th>1</th>\n",
       "      <td>Basal cell carcinoma</td>\n",
       "      <td>ISIC_0024332.jpg</td>\n",
       "    </tr>\n",
       "    <tr>\n",
       "      <th>2</th>\n",
       "      <td>Basal cell carcinoma</td>\n",
       "      <td>ISIC_0024345.jpg</td>\n",
       "    </tr>\n",
       "    <tr>\n",
       "      <th>3</th>\n",
       "      <td>Basal cell carcinoma</td>\n",
       "      <td>ISIC_0024360.jpg</td>\n",
       "    </tr>\n",
       "    <tr>\n",
       "      <th>4</th>\n",
       "      <td>Basal cell carcinoma</td>\n",
       "      <td>ISIC_0024403.jpg</td>\n",
       "    </tr>\n",
       "  </tbody>\n",
       "</table>\n",
       "</div>"
      ],
      "text/plain": [
       "     skin_disorder_name            images\n",
       "0  Basal cell carcinoma  ISIC_0024331.jpg\n",
       "1  Basal cell carcinoma  ISIC_0024332.jpg\n",
       "2  Basal cell carcinoma  ISIC_0024345.jpg\n",
       "3  Basal cell carcinoma  ISIC_0024360.jpg\n",
       "4  Basal cell carcinoma  ISIC_0024403.jpg"
      ]
     },
     "execution_count": 90,
     "metadata": {},
     "output_type": "execute_result"
    }
   ],
   "source": [
    "# Confirming the number of bcc images before any cleaning\n",
    "print('There are', len(extra_bcc_df),'Bcc images')\n",
    "extra_bcc_df[:5]"
   ]
  },
  {
   "cell_type": "markdown",
   "metadata": {
    "id": "UxoaxGeQq4Yf"
   },
   "source": [
    "> This images has no duplicates"
   ]
  },
  {
   "cell_type": "markdown",
   "metadata": {
    "id": "fFVN8IM-rBjn"
   },
   "source": [
    "Taking the top 1000 images"
   ]
  },
  {
   "cell_type": "code",
   "execution_count": 91,
   "metadata": {
    "id": "tQ9roSD0rB7G"
   },
   "outputs": [],
   "source": [
    "new_bcc_df = extra_bcc_df[0:1000]"
   ]
  },
  {
   "cell_type": "code",
   "execution_count": 92,
   "metadata": {
    "id": "DL00WhjQrGVB"
   },
   "outputs": [],
   "source": [
    "new_bcc_df.to_csv('cleaned_data\\Bcc.csv')"
   ]
  },
  {
   "cell_type": "code",
   "execution_count": 93,
   "metadata": {
    "id": "t0Z0xWPqsO4J"
   },
   "outputs": [],
   "source": [
    "#saving the first 1000 images to anew folder\n",
    "import os\n",
    "import shutil\n",
    "\n",
    "# Define the source and destination directories\n",
    "src_dir = 'Bcc_images'\n",
    "dst_dir = 'cleaned_images/Bcc_images'\n",
    "\n",
    "# Create the destination directory if it doesn't exist\n",
    "if not os.path.exists(dst_dir):\n",
    "    os.mkdir(dst_dir)\n",
    "\n",
    "# Get the list of image names\n",
    "extra_bcc = [image_name for image_name in os.listdir(src_dir)]\n",
    "new_bcc_df = extra_bcc[0:1000]\n",
    "\n",
    "# Copy the first 1000 images to the destination directory\n",
    "for image_name in new_bcc_df:\n",
    "    src_path = os.path.join(src_dir, image_name)\n",
    "    dst_path = os.path.join(dst_dir, image_name)\n",
    "    shutil.copy(src_path, dst_path)\n"
   ]
  },
  {
   "cell_type": "markdown",
   "metadata": {},
   "source": [
    "## **<u>Tinea popularly known as Ringworm (scalp and body) </u>**\n",
    "\n",
    "**Meaning**<br>\n",
    "Tinea is a type of fungal infection of the skin, hair, or nails. It is caused by a group of fungi called dermatophytes, which can thrive on the skin's keratin, a tough protein that forms the outer layer of the skin, hair, and nails.<br>\n",
    "\n",
    "<br>It can affect various parts of the body, including the feet (athlete's foot), groin (jock itch), scalp (tinea capitis), beard area (tinea barbae), and body (tinea corporis).<br>\n",
    "\n",
    "<br>Tinea infections are highly contagious and can spread through contact with infected skin or objects. Treatment for tinea typically involves antifungal medications, which can be applied topically or taken orally. It is also important to practice good hygiene and avoid sharing personal items, such as towels and clothing, to prevent the spread of infection. <br>\n",
    "\n",
    "**Causes**<br>\n",
    "Tinea is caused by a group of fungi called dermatophytes. These fungi can thrive on the skin, hair, or nails and cause infections in various parts of the body. The specific type of dermatophyte that causes tinea may vary depending on the affected area\n",
    "\n",
    "Some of the common causes of tinea include:<br>\n",
    "\n",
    "<ol>\n",
    "  <li>Direct contact with an infected person or animal - Tinea can spread from person to person or from animal to person through direct contact with infected skin or hair.</li>\n",
    "  <li>Sharing personal items - Sharing personal items such as towels, clothing, or hairbrushes can also spread tinea.</li>\n",
    "  <li>Warm and humid environment - Dermatophytes thrive in warm and humid environments, making certain areas of the body more susceptible to tinea infections, such as the feet and groin.</li>\n",
    "  <li>Weakened immune system - People with weakened immune systems, such as those with HIV or undergoing chemotherapy, may be more prone to tinea infections.</li>\n",
    "  <li>Skin injury or irritation - Skin that is injured or irritated, such as from scratching or wearing tight-fitting clothing, may be more susceptible to tinea infections.</li>\n",
    "</ol>\n",
    "\n",
    "Preventing the spread of tinea involves good hygiene practices, such as keeping the skin clean and dry, avoiding sharing personal items, and wearing protective clothing in public areas such as locker rooms and swimming pools.\n",
    "\n",
    "**Symptoms**<br>\n",
    "The symptoms of tinea can vary depending on the affected area of the body. Some common symptoms of tinea infections include:<br>\n",
    "<ol>\n",
    "  <li>Itching - Tinea infections can cause intense itching, which can be worse at night.</li>\n",
    "  <li>Scaling or flaking - Tinea infections can cause the skin to become scaly or flaky.</li>\n",
    "  <li>Blisters - Some types of tinea infections, such as tinea pedis (athlete's foot), can cause small fluid-filled blisters.</li>\n",
    "  <li>Hair loss - Tinea infections of the scalp can cause hair to become brittle and break off, resulting in hair loss.</li>\n",
    "  <li>Thickened or discolored nails - Tinea infections of the nails can cause the nails to become thickened, discolored, and brittle.</li>\n",
    "</ol>\n",
    "\n",
    "\n",
    "**Treatment**<br>\n",
    "The treatment for tinea infections typically involves antifungal medications, which can be applied topically or taken orally. The specific treatment will depend on the location and severity of the infection. Some common treatment options include:<br>\n",
    "<ol>\n",
    "  <li>Topical antifungal medications - These medications are applied directly to the skin or nails and include creams, ointments, sprays, and powders. Topical antifungal medications are often effective for mild to moderate tinea infections.</li>\n",
    "  <li>Oral antifungal medications - These medications are taken by mouth and may be prescribed for more severe or widespread tinea infections. Oral antifungal medications include terbinafine, fluconazole, and itraconazole.</li>\n",
    "  <li>Medicated shampoo - A medicated shampoo may be recommended for tinea infections of the scalp. These shampoos contain antifungal medication and are used to help control the infection and reduce symptoms.</li>\n",
    "  <li>Removal of infected nails - In severe cases of tinea infections of the nails, the infected nail may need to be removed to allow for the application of antifungal medication to the underlying nail bed.</li>\n",
    "</ol>"
   ]
  },
  {
   "cell_type": "code",
   "execution_count": 94,
   "metadata": {},
   "outputs": [
    {
     "data": {
      "text/plain": [
       "array(['tinea corporis images', 'tinea pedis images'], dtype=object)"
      ]
     },
     "execution_count": 94,
     "metadata": {},
     "output_type": "execute_result"
    }
   ],
   "source": [
    "## Labels representing melanoma in DermNet's scrapped data\n",
    "ringworm_labels = image_df[image_df['skin_disorder_name'].str.contains('tinea')]['skin_disorder_name'].unique()\n",
    "ringworm_labels"
   ]
  },
  {
   "cell_type": "code",
   "execution_count": 95,
   "metadata": {},
   "outputs": [
    {
     "data": {
      "text/plain": [
       "2"
      ]
     },
     "execution_count": 95,
     "metadata": {},
     "output_type": "execute_result"
    }
   ],
   "source": [
    "#labels representing ringworms\n",
    "len(ringworm_labels)"
   ]
  },
  {
   "cell_type": "code",
   "execution_count": 96,
   "metadata": {},
   "outputs": [
    {
     "name": "stdout",
     "output_type": "stream",
     "text": [
      "<class 'pandas.core.frame.DataFrame'>\n",
      "Int64Index: 46 entries, 12879 to 12924\n",
      "Data columns (total 2 columns):\n",
      " #   Column              Non-Null Count  Dtype \n",
      "---  ------              --------------  ----- \n",
      " 0   skin_disorder_name  46 non-null     object\n",
      " 1   images              46 non-null     object\n",
      "dtypes: object(2)\n",
      "memory usage: 1.1+ KB\n"
     ]
    }
   ],
   "source": [
    "# Creating a dataframe with just melanoma labels for easier cleaning\n",
    "\n",
    "ringworm_df = image_df[(image_df['skin_disorder_name'] == ringworm_labels[0]) | \\\n",
    "                   \n",
    "                   (image_df['skin_disorder_name'] == ringworm_labels[1])\n",
    "                 ]\n",
    "ringworm_df.info()"
   ]
  },
  {
   "cell_type": "markdown",
   "metadata": {},
   "source": [
    "### *Moving Ringworm images to their own folder*"
   ]
  },
  {
   "cell_type": "code",
   "execution_count": 97,
   "metadata": {},
   "outputs": [
    {
     "name": "stdout",
     "output_type": "stream",
     "text": [
      "There are 46 ringworm images\n"
     ]
    },
    {
     "data": {
      "text/plain": [
       "['tinea corporis images12879.jpg',\n",
       " 'tinea corporis images12880.jpg',\n",
       " 'tinea corporis images12881.jpg',\n",
       " 'tinea corporis images12882.jpg',\n",
       " 'tinea corporis images12883.jpg',\n",
       " 'tinea corporis images12884.jpg',\n",
       " 'tinea corporis images12885.jpg',\n",
       " 'tinea corporis images12886.jpg',\n",
       " 'tinea corporis images12887.jpg',\n",
       " 'tinea corporis images12888.jpg']"
      ]
     },
     "execution_count": 97,
     "metadata": {},
     "output_type": "execute_result"
    }
   ],
   "source": [
    "# Getting the melanoma images file names\n",
    "ringworm_img = [image_name for image_name in os.listdir('Images/') if 'tinea' in image_name] \n",
    "\n",
    "# Confirming the number of ringwoem images before any cleaning\n",
    "print('There are', len(ringworm_img),'ringworm images')\n",
    "ringworm_img[:10]"
   ]
  },
  {
   "cell_type": "code",
   "execution_count": 98,
   "metadata": {},
   "outputs": [],
   "source": [
    "# Creating a new folder with just melanoma images to make cleaning easier\n",
    "folder_name = 'cleaned_images/ringworm_images/'\n",
    "\n",
    "# Note: For reproducibility of the code, this step is important.\n",
    "# If the folder is not dropped before an error will occur if you rerun this cell\n",
    "\n",
    "\n",
    "# create the parent directory if it does not exist\n",
    "parent_dir = os.path.dirname(folder_name)\n",
    "if not os.path.exists(parent_dir):\n",
    "    os.makedirs(parent_dir)\n",
    "\n",
    "# create the new folder if it doesn't exist\n",
    "if not os.path.exists(folder_name):\n",
    "    os.mkdir(folder_name)\n",
    "\n",
    "# Moving the images into that folder\n",
    "for img in ringworm_img:\n",
    "    origin = os.path.join('Images/', img)\n",
    "    destination = os.path.join(folder_name, img)\n",
    "    shutil.copy(origin, destination)"
   ]
  },
  {
   "cell_type": "code",
   "execution_count": 99,
   "metadata": {},
   "outputs": [
    {
     "name": "stdout",
     "output_type": "stream",
     "text": [
      "There are a total of 46 ringworm images.\n"
     ]
    }
   ],
   "source": [
    "# Confirming that the total ringworm images is 1,690 before any cleaning\n",
    "\n",
    "ringworm_img = [image_name for image_name in os.listdir('cleaned_images/ringworm_images/')] \n",
    "print('There are a total of', len(ringworm_img),'ringworm images.')"
   ]
  },
  {
   "cell_type": "code",
   "execution_count": 100,
   "metadata": {},
   "outputs": [],
   "source": [
    "def drop_duplicated_images(folder):\n",
    "\n",
    "    # Define a threshold for image similarity\n",
    "    threshold = 8\n",
    "\n",
    "    # Define a dictionary to store the hash values and file paths of the images\n",
    "    image_hashes = {}\n",
    "    duplicated_images = []\n",
    "\n",
    "    # Loop through all the image files in a directory\n",
    "    for filename in os.listdir(folder):\n",
    "        # Load the image file\n",
    "        image = Image.open(os.path.join(folder, filename))\n",
    "\n",
    "         # Compute the hash value of the image using the average hash algorithm\n",
    "        hash_value = imagehash.average_hash(image)\n",
    "\n",
    "        # Check if the hash value is already in the dictionary\n",
    "        if hash_value in image_hashes:\n",
    "            # If a similar hash value already exists, delete the duplicate image\n",
    "            duplicated_images.append(filename)\n",
    "            os.remove(os.path.join(folder, filename))\n",
    "        else:\n",
    "             # Otherwise, add the hash value and file path to the dictionary\n",
    "            image_hashes[hash_value] = os.path.join(folder, filename)\n",
    "            \n",
    "    return duplicated_images"
   ]
  },
  {
   "cell_type": "code",
   "execution_count": 101,
   "metadata": {},
   "outputs": [
    {
     "data": {
      "text/plain": [
       "[]"
      ]
     },
     "execution_count": 101,
     "metadata": {},
     "output_type": "execute_result"
    }
   ],
   "source": [
    "# Dropping duplicates\n",
    "duplicated_images = drop_duplicated_images('cleaned_images/ringworm_images/')\n",
    "duplicated_images[:5]"
   ]
  },
  {
   "cell_type": "code",
   "execution_count": 102,
   "metadata": {},
   "outputs": [
    {
     "name": "stdout",
     "output_type": "stream",
     "text": [
      "There are 46 acne images after removing duplicated images\n"
     ]
    }
   ],
   "source": [
    "ringworm_img = [image_name for image_name in os.listdir('cleaned_images/ringworm_images/')] \n",
    "print('There are', len(ringworm_img),'acne images after removing duplicated images')"
   ]
  },
  {
   "cell_type": "code",
   "execution_count": 103,
   "metadata": {},
   "outputs": [],
   "source": [
    "# Define the source and destination directories\n",
    "src_dir = 'cleaned_images/ringworm_images'\n",
    "dst_dir = 'cleaned_images/tinea_images'\n",
    "\n",
    "# Create the destination directory if it doesn't exist\n",
    "if not os.path.exists(dst_dir):\n",
    "    os.mkdir(dst_dir)\n",
    "\n",
    "# Get the list of image names\n",
    "extra_ringworm = [image_name for image_name in os.listdir(src_dir)]\n",
    "new_tinea_df = extra_ringworm[0:1000]\n",
    "\n",
    "# Copy the first 1000 images to the destination directory\n",
    "for image_name in new_tinea_df:\n",
    "    src_path = os.path.join(src_dir, image_name)\n",
    "    dst_path = os.path.join(dst_dir, image_name)\n",
    "    shutil.copy(src_path, dst_path)\n"
   ]
  },
  {
   "cell_type": "code",
   "execution_count": 104,
   "metadata": {},
   "outputs": [
    {
     "name": "stdout",
     "output_type": "stream",
     "text": [
      "<class 'pandas.core.frame.DataFrame'>\n",
      "RangeIndex: 46 entries, 0 to 45\n",
      "Data columns (total 2 columns):\n",
      " #   Column                       Non-Null Count  Dtype \n",
      "---  ------                       --------------  ----- \n",
      " 0   cleaned_images/tinea_images  46 non-null     object\n",
      " 1   skin_disorder_name           46 non-null     object\n",
      "dtypes: object(2)\n",
      "memory usage: 864.0+ bytes\n"
     ]
    }
   ],
   "source": [
    "# convert list to pandas DataFrame\n",
    "ringworm_df = pd.DataFrame(ringworm_img, columns=['cleaned_images/tinea_images'])\n",
    "\n",
    "# add new column with value 'ringworm'\n",
    "ringworm_df['skin_disorder_name'] = 'ringworm'\n",
    "ringworm_df.info()"
   ]
  },
  {
   "cell_type": "code",
   "execution_count": 105,
   "metadata": {},
   "outputs": [],
   "source": [
    "ringworm_df = ringworm_df[0:1000]"
   ]
  },
  {
   "cell_type": "code",
   "execution_count": 106,
   "metadata": {},
   "outputs": [
    {
     "name": "stdout",
     "output_type": "stream",
     "text": [
      "<class 'pandas.core.frame.DataFrame'>\n",
      "RangeIndex: 46 entries, 0 to 45\n",
      "Data columns (total 2 columns):\n",
      " #   Column                       Non-Null Count  Dtype \n",
      "---  ------                       --------------  ----- \n",
      " 0   cleaned_images/tinea_images  46 non-null     object\n",
      " 1   skin_disorder_name           46 non-null     object\n",
      "dtypes: object(2)\n",
      "memory usage: 864.0+ bytes\n"
     ]
    }
   ],
   "source": [
    "ringworm_df.info()"
   ]
  },
  {
   "cell_type": "code",
   "execution_count": 107,
   "metadata": {},
   "outputs": [],
   "source": [
    "# save ringworm dataframe to csv file\n",
    "ringworm_df.to_csv('cleaned_data/ringworm.csv',index=False)"
   ]
  },
  {
   "cell_type": "code",
   "execution_count": null,
   "metadata": {},
   "outputs": [],
   "source": []
  },
  {
   "cell_type": "code",
   "execution_count": null,
   "metadata": {},
   "outputs": [],
   "source": []
  },
  {
   "cell_type": "code",
   "execution_count": null,
   "metadata": {},
   "outputs": [],
   "source": []
  },
  {
   "cell_type": "code",
   "execution_count": null,
   "metadata": {},
   "outputs": [],
   "source": []
  }
 ],
 "metadata": {
  "colab": {
   "provenance": []
  },
  "kernelspec": {
   "display_name": "Python 3 (ipykernel)",
   "language": "python",
   "name": "python3"
  },
  "language_info": {
   "codemirror_mode": {
    "name": "ipython",
    "version": 3
   },
   "file_extension": ".py",
   "mimetype": "text/x-python",
   "name": "python",
   "nbconvert_exporter": "python",
   "pygments_lexer": "ipython3",
   "version": "3.9.12"
  },
  "vscode": {
   "interpreter": {
    "hash": "15e1ea0e9ae73a04f4db62dd1e96b3b16ca57ecdaaf21916cbbe9da1fa870ff9"
   }
  }
 },
 "nbformat": 4,
 "nbformat_minor": 1
}
