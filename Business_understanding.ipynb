version https://git-lfs.github.com/spec/v1
oid sha256:cf599936f63b08669b4cd6a4401da7d79be49fd3051d1c53bf84962382569b50
size 8933
